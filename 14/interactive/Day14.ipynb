{
 "cells": [
  {
   "cell_type": "code",
   "execution_count": 1,
   "metadata": {},
   "source": [
    "var maskInput = \"XXXXXXXXXXXXXXXXXXXXXXXXXXXXX1XXXX0X\";\n",
    "// var orMask = ~Convert.ToInt64(\"1111111111111111111111111111\" + maskInput.Replace(\"X\", \"1\"), 2);\n",
    "var orMask = Convert.ToInt64(maskInput.Replace(\"X\", \"0\"), 2);\n",
    "var andMask = Convert.ToInt64(maskInput.Replace(\"X\", \"1\"), 2);\n",
    "\n",
    "var input = new[]{\n",
    "    (8, 11),\n",
    "    (7, 101),\n",
    "    (8, 0)\n",
    "};\n",
    "\n",
    "var modified = input.Select(x => \n",
    "    (\n",
    "        input: x.Item2,\n",
    "        binInput: Convert.ToString(x.Item2, 2),\n",
    "        result: (x.Item2 | orMask) & andMask,\n",
    "        binResult: Convert.ToString((x.Item2 | orMask) & andMask, 2)\n",
    "    )\n",
    ");\n",
    "\n",
    "Console.WriteLine(Convert.ToString(orMask, 2));\n",
    "Console.WriteLine(Convert.ToString(andMask, 2));\n",
    "\n",
    "modified"
   ],
   "outputs": [
    {
     "output_type": "execute_result",
     "data": {
      "text/plain": "1000000\r\n"
     },
     "execution_count": 1,
     "metadata": {}
    },
    {
     "output_type": "execute_result",
     "data": {
      "text/plain": "111111111111111111111111111111111101\r\n"
     },
     "execution_count": 1,
     "metadata": {}
    },
    {
     "output_type": "execute_result",
     "data": {
      "text/html": "<table><thead><tr><th><i>index</i></th><th>Item1</th><th>Item2</th><th>Item3</th><th>Item4</th></tr></thead><tbody><tr><td>0</td><td><div class=\"dni-plaintext\">11</div></td><td><div class=\"dni-plaintext\">1011</div></td><td><div class=\"dni-plaintext\">73</div></td><td><div class=\"dni-plaintext\">1001001</div></td></tr><tr><td>1</td><td><div class=\"dni-plaintext\">101</div></td><td><div class=\"dni-plaintext\">1100101</div></td><td><div class=\"dni-plaintext\">101</div></td><td><div class=\"dni-plaintext\">1100101</div></td></tr><tr><td>2</td><td><div class=\"dni-plaintext\">0</div></td><td><div class=\"dni-plaintext\">0</div></td><td><div class=\"dni-plaintext\">64</div></td><td><div class=\"dni-plaintext\">1000000</div></td></tr></tbody></table>"
     },
     "execution_count": 1,
     "metadata": {}
    }
   ]
  },
  {
   "cell_type": "code",
   "execution_count": 1,
   "metadata": {},
   "source": [
    "var input = System.IO.File.ReadAllLines(\"./input.txt\").Select(x => \n",
    "    (\n",
    "        mask: (string)(x.StartsWith(\"mask\") ? x.Substring(7) : null),\n",
    "        mem: (x.StartsWith(\"mem\") \n",
    "            ? (adr: Convert.ToInt64(x.Substring(4, x.IndexOf(\"]\") - x.IndexOf(\"[\") - 1)), val: Convert.ToInt64(x.Substring(x.IndexOf(\"= \") + 2)))\n",
    "            : (adr:0,val:0))\n",
    "    )\n",
    ");\n",
    "\n",
    "long orMask = 0, andMask = 0;\n",
    "var results = new Dictionary<long, long>();\n",
    "\n",
    "foreach(var item in input)\n",
    "{\n",
    "    if (item.mask != null) {\n",
    "        orMask = Convert.ToInt64(item.mask.Replace(\"X\", \"0\"), 2);\n",
    "        andMask = Convert.ToInt64(item.mask.Replace(\"X\", \"1\"), 2);\n",
    "    } else {\n",
    "        var val = (item.mem.val | orMask) & andMask;\n",
    "        if (results.ContainsKey(item.mem.adr)) {\n",
    "            results[item.mem.adr] = val;\n",
    "        } else {\n",
    "            results.Add(item.mem.adr, val);\n",
    "        }\n",
    "    }\n",
    "}\n",
    "\n",
    "results.Values.Sum()"
   ],
   "outputs": [
    {
     "output_type": "execute_result",
     "data": {
      "text/html": "<div class=\"dni-plaintext\">8566770985168</div>"
     },
     "execution_count": 1,
     "metadata": {}
    }
   ]
  },
  {
   "cell_type": "markdown",
   "metadata": {},
   "source": [
    "Let's see if we can permutate the masks easily"
   ]
  },
  {
   "cell_type": "code",
   "execution_count": 1,
   "metadata": {},
   "source": [
    "var mask = \"1010X101010010101X00X00011XX11011111\";\n",
    "var masks = new List<string>{mask};\n",
    "\n",
    "for(var i = 0; i<mask.Length; i++) {\n",
    "    if (mask[i] == 'X') {\n",
    "        masks = new[]{\"0\",\"1\"}.SelectMany(x => masks.Select(y => y.Remove(i, 1).Insert(i, x))).ToList();\n",
    "    }\n",
    "}\n",
    "\n",
    "masks"
   ],
   "outputs": [
    {
     "output_type": "execute_result",
     "data": {
      "text/html": "<table><thead><tr><th><i>index</i></th><th>value</th></tr></thead><tbody><tr><td>0</td><td><div class=\"dni-plaintext\">101001010100101010000000110011011111</div></td></tr><tr><td>1</td><td><div class=\"dni-plaintext\">101011010100101010000000110011011111</div></td></tr><tr><td>2</td><td><div class=\"dni-plaintext\">101001010100101011000000110011011111</div></td></tr><tr><td>3</td><td><div class=\"dni-plaintext\">101011010100101011000000110011011111</div></td></tr><tr><td>4</td><td><div class=\"dni-plaintext\">101001010100101010001000110011011111</div></td></tr><tr><td>5</td><td><div class=\"dni-plaintext\">101011010100101010001000110011011111</div></td></tr><tr><td>6</td><td><div class=\"dni-plaintext\">101001010100101011001000110011011111</div></td></tr><tr><td>7</td><td><div class=\"dni-plaintext\">101011010100101011001000110011011111</div></td></tr><tr><td>8</td><td><div class=\"dni-plaintext\">101001010100101010000000111011011111</div></td></tr><tr><td>9</td><td><div class=\"dni-plaintext\">101011010100101010000000111011011111</div></td></tr><tr><td>10</td><td><div class=\"dni-plaintext\">101001010100101011000000111011011111</div></td></tr><tr><td>11</td><td><div class=\"dni-plaintext\">101011010100101011000000111011011111</div></td></tr><tr><td>12</td><td><div class=\"dni-plaintext\">101001010100101010001000111011011111</div></td></tr><tr><td>13</td><td><div class=\"dni-plaintext\">101011010100101010001000111011011111</div></td></tr><tr><td>14</td><td><div class=\"dni-plaintext\">101001010100101011001000111011011111</div></td></tr><tr><td>15</td><td><div class=\"dni-plaintext\">101011010100101011001000111011011111</div></td></tr><tr><td>16</td><td><div class=\"dni-plaintext\">101001010100101010000000110111011111</div></td></tr><tr><td>17</td><td><div class=\"dni-plaintext\">101011010100101010000000110111011111</div></td></tr><tr><td>18</td><td><div class=\"dni-plaintext\">101001010100101011000000110111011111</div></td></tr><tr><td>19</td><td><div class=\"dni-plaintext\">101011010100101011000000110111011111</div></td></tr><tr><td colspan=\"2\">(12 more)</td></tr></tbody></table>"
     },
     "execution_count": 1,
     "metadata": {}
    }
   ]
  },
  {
   "cell_type": "code",
   "execution_count": 1,
   "metadata": {},
   "source": [
    "var input = @\"mask = 000000000000000000000000000000X1001X\n",
    "mem[42] = 100\n",
    "mask = 00000000000000000000000000000000X0XX\n",
    "mem[26] = 1\".Split(Environment.NewLine).Select(x => \n",
    "    (\n",
    "        mask: (string)(x.StartsWith(\"mask\") ? x.Substring(7) : null),\n",
    "        mem: (x.StartsWith(\"mem\") \n",
    "            ? (adr: Convert.ToInt64(x.Substring(4, x.IndexOf(\"]\") - x.IndexOf(\"[\") - 1)), val: Convert.ToInt64(x.Substring(x.IndexOf(\"= \") + 2)))\n",
    "            : (adr:0,val:0))\n",
    "    )\n",
    ");\n",
    "\n",
    "var curMask = \"\";\n",
    "var addresses = new List<long>();\n",
    "var results = new Dictionary<long, long>();\n",
    "\n",
    "foreach(var item in input)\n",
    "{\n",
    "    if (item.mask != null) {\n",
    "        curMask = item.mask;\n",
    "    } else {\n",
    "        var orMask = Convert.ToInt64(curMask.Replace(\"X\", \"0\"), 2);\n",
    "        var addr = item.mem.adr | orMask;\n",
    "        var strAddr = Convert.ToString(addr, 2).PadLeft(36, '0');\n",
    "        var masks = new List<string>{strAddr};\n",
    "\n",
    "        for(var i = 0; i<curMask.Length; i++) {\n",
    "            if (curMask[i] == 'X') {\n",
    "                masks = new[]{\"0\",\"1\"}.SelectMany(x => masks.Select(y => y.Remove(i, 1).Insert(i, x))).ToList();\n",
    "            }\n",
    "        }\n",
    "\n",
    "        addresses = masks\n",
    "            .Select(x => Convert.ToInt64(x, 2))\n",
    "            .ToList();\n",
    "\n",
    "        addresses.ForEach(x => {\n",
    "            if (results.ContainsKey(x)) {\n",
    "                results[x] = item.mem.val;\n",
    "            } else {\n",
    "                results.Add(x, item.mem.val);\n",
    "            }\n",
    "        });\n",
    "    }\n",
    "}\n",
    "\n",
    "results.Values.Sum()"
   ],
   "outputs": [
    {
     "output_type": "execute_result",
     "data": {
      "text/html": "<div class=\"dni-plaintext\">208</div>"
     },
     "execution_count": 1,
     "metadata": {}
    }
   ]
  },
  {
   "cell_type": "code",
   "execution_count": 1,
   "metadata": {},
   "source": [
    "var input = System.IO.File.ReadAllLines(\"./input.txt\").Select(x => \n",
    "    (\n",
    "        mask: (string)(x.StartsWith(\"mask\") ? x.Substring(7) : null),\n",
    "        mem: (x.StartsWith(\"mem\") \n",
    "            ? (adr: Convert.ToInt64(x.Substring(4, x.IndexOf(\"]\") - x.IndexOf(\"[\") - 1)), val: Convert.ToInt64(x.Substring(x.IndexOf(\"= \") + 2)))\n",
    "            : (adr:0,val:0))\n",
    "    )\n",
    ");\n",
    "\n",
    "var curMask = \"\";\n",
    "var addresses = new List<long>();\n",
    "var results = new Dictionary<long, long>();\n",
    "\n",
    "foreach(var item in input)\n",
    "{\n",
    "    if (item.mask != null) {\n",
    "        curMask = item.mask;\n",
    "    } else {\n",
    "        var orMask = Convert.ToInt64(curMask.Replace(\"X\", \"0\"), 2);\n",
    "        var addr = item.mem.adr | orMask;\n",
    "        var strAddr = Convert.ToString(addr, 2).PadLeft(36, '0');\n",
    "        var masks = new List<string>{strAddr};\n",
    "\n",
    "        for(var i = 0; i<curMask.Length; i++) {\n",
    "            if (curMask[i] == 'X') {\n",
    "                masks = new[]{\"0\",\"1\"}.SelectMany(x => masks.Select(y => y.Remove(i, 1).Insert(i, x))).ToList();\n",
    "            }\n",
    "        }\n",
    "\n",
    "        addresses = masks\n",
    "            .Select(x => Convert.ToInt64(x, 2))\n",
    "            .ToList();\n",
    "\n",
    "        addresses.ForEach(x => {\n",
    "            if (results.ContainsKey(x)) {\n",
    "                results[x] = item.mem.val;\n",
    "            } else {\n",
    "                results.Add(x, item.mem.val);\n",
    "            }\n",
    "        });\n",
    "    }\n",
    "}\n",
    "\n",
    "results.Values.Sum()"
   ],
   "outputs": [
    {
     "output_type": "execute_result",
     "data": {
      "text/html": "<div class=\"dni-plaintext\">1819911361394</div>"
     },
     "execution_count": 1,
     "metadata": {}
    }
   ]
  }
 ],
 "metadata": {
  "kernelspec": {
   "display_name": ".NET (C#)",
   "language": "C#",
   "name": ".net-csharp"
  },
  "language_info": {
   "file_extension": ".cs",
   "mimetype": "text/x-csharp",
   "name": "C#",
   "pygments_lexer": "csharp",
   "version": "8.0"
  }
 },
 "nbformat": 4,
 "nbformat_minor": 4
}