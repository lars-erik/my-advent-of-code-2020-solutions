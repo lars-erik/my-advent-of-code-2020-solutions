{
 "cells": [
  {
   "cell_type": "code",
   "execution_count": 1,
   "metadata": {},
   "source": [
    "var maskInput = \"XXXXXXXXXXXXXXXXXXXXXXXXXXXXX1XXXX0X\";\n",
    "// var orMask = ~Convert.ToInt64(\"1111111111111111111111111111\" + maskInput.Replace(\"X\", \"1\"), 2);\n",
    "var andMask = Convert.ToInt64(maskInput.Replace(\"X\", \"0\"), 2);\n",
    "\n",
    "var input = new[]{\n",
    "    (8, 11),\n",
    "    (7, 101),\n",
    "    (8, 0)\n",
    "};\n",
    "\n",
    "var modified = input.Select(x => \n",
    "    (\n",
    "        input: x.Item2,\n",
    "        binInput: Convert.ToString(x.Item2, 2),\n",
    "        result: (x.Item2 | andMask),\n",
    "        binResult: Convert.ToString((x.Item2 | andMask), 2)\n",
    "    )\n",
    ");\n",
    "\n",
    "Console.WriteLine(Convert.ToString(orMask, 2));\n",
    "Console.WriteLine(Convert.ToString(andMask, 2));\n",
    "\n",
    "modified"
   ],
   "outputs": [
    {
     "output_type": "execute_result",
     "data": {
      "text/plain": "10\r\n"
     },
     "execution_count": 1,
     "metadata": {}
    },
    {
     "output_type": "execute_result",
     "data": {
      "text/plain": "1000000\r\n"
     },
     "execution_count": 1,
     "metadata": {}
    },
    {
     "output_type": "execute_result",
     "data": {
      "text/html": "<table><thead><tr><th><i>index</i></th><th>Item1</th><th>Item2</th><th>Item3</th><th>Item4</th></tr></thead><tbody><tr><td>0</td><td><div class=\"dni-plaintext\">11</div></td><td><div class=\"dni-plaintext\">1011</div></td><td><div class=\"dni-plaintext\">75</div></td><td><div class=\"dni-plaintext\">1001011</div></td></tr><tr><td>1</td><td><div class=\"dni-plaintext\">101</div></td><td><div class=\"dni-plaintext\">1100101</div></td><td><div class=\"dni-plaintext\">101</div></td><td><div class=\"dni-plaintext\">1100101</div></td></tr><tr><td>2</td><td><div class=\"dni-plaintext\">0</div></td><td><div class=\"dni-plaintext\">0</div></td><td><div class=\"dni-plaintext\">64</div></td><td><div class=\"dni-plaintext\">1000000</div></td></tr></tbody></table>"
     },
     "execution_count": 1,
     "metadata": {}
    }
   ]
  },
  {
   "cell_type": "code",
   "execution_count": 1,
   "metadata": {},
   "source": [
    "var input = System.IO.File.ReadAllLines(\"./input.txt\").Select(x => \n",
    "    (\n",
    "        mask: (string)(x.StartsWith(\"mask\") ? x.Substring(7) : null),\n",
    "        mem: (x.StartsWith(\"mem\") \n",
    "            ? (adr: Convert.ToInt64(x.Substring(4, x.IndexOf(\"]\") - x.IndexOf(\"[\") - 1)), val: Convert.ToInt64(x.Substring(x.IndexOf(\"= \") + 2)))\n",
    "            : (adr:0,val:0))\n",
    "    )\n",
    ");\n",
    "\n",
    "long curMask = 0;\n",
    "var results = new Dictionary<long, long>();\n",
    "\n",
    "foreach(var item in input)\n",
    "{\n",
    "    if (item.mask != null) {\n",
    "        curMask = Convert.ToInt64(item.mask.Replace(\"X\", \"0\"), 2);\n",
    "    } else {\n",
    "        var val = item.mem.val | curMask;\n",
    "        if (results.ContainsKey(item.mem.adr)) {\n",
    "            results[item.mem.adr] = val;\n",
    "        } else {\n",
    "            results.Add(item.mem.adr, val);\n",
    "        }\n",
    "    }\n",
    "}"
   ],
   "outputs": [
    {
     "output_type": "execute_result",
     "data": {
      "text/html": "<table><thead><tr><th><i>index</i></th><th>Item1</th><th>Item2</th></tr></thead><tbody><tr><td>0</td><td><div class=\"dni-plaintext\">1010X101010010101X00X00011XX11011111</div></td><td><div class=\"dni-plaintext\">( 0, 0 )</div></td></tr><tr><td>1</td><td><div class=\"dni-plaintext\">&lt;null&gt;</div></td><td><div class=\"dni-plaintext\">( 1303, 728 )</div></td></tr><tr><td>2</td><td><div class=\"dni-plaintext\">&lt;null&gt;</div></td><td><div class=\"dni-plaintext\">( 5195, 213352120 )</div></td></tr><tr><td>3</td><td><div class=\"dni-plaintext\">&lt;null&gt;</div></td><td><div class=\"dni-plaintext\">( 34818, 782 )</div></td></tr><tr><td>4</td><td><div class=\"dni-plaintext\">&lt;null&gt;</div></td><td><div class=\"dni-plaintext\">( 43971, 29724050 )</div></td></tr><tr><td>5</td><td><div class=\"dni-plaintext\">&lt;null&gt;</div></td><td><div class=\"dni-plaintext\">( 51737, 1731727 )</div></td></tr><tr><td>6</td><td><div class=\"dni-plaintext\">&lt;null&gt;</div></td><td><div class=\"dni-plaintext\">( 5175, 353551570 )</div></td></tr><tr><td>7</td><td><div class=\"dni-plaintext\">&lt;null&gt;</div></td><td><div class=\"dni-plaintext\">( 45056, 8766 )</div></td></tr><tr><td>8</td><td><div class=\"dni-plaintext\">0110X1011110XX111X0011X0X01X00010010</div></td><td><div class=\"dni-plaintext\">( 0, 0 )</div></td></tr><tr><td>9</td><td><div class=\"dni-plaintext\">&lt;null&gt;</div></td><td><div class=\"dni-plaintext\">( 7343, 6334776 )</div></td></tr><tr><td>10</td><td><div class=\"dni-plaintext\">&lt;null&gt;</div></td><td><div class=\"dni-plaintext\">( 28415, 10870 )</div></td></tr><tr><td>11</td><td><div class=\"dni-plaintext\">&lt;null&gt;</div></td><td><div class=\"dni-plaintext\">( 4761, 2912 )</div></td></tr><tr><td>12</td><td><div class=\"dni-plaintext\">&lt;null&gt;</div></td><td><div class=\"dni-plaintext\">( 43137, 14501587 )</div></td></tr><tr><td>13</td><td><div class=\"dni-plaintext\">&lt;null&gt;</div></td><td><div class=\"dni-plaintext\">( 27900, 10713 )</div></td></tr><tr><td>14</td><td><div class=\"dni-plaintext\">&lt;null&gt;</div></td><td><div class=\"dni-plaintext\">( 19990, 519691 )</div></td></tr><tr><td>15</td><td><div class=\"dni-plaintext\">001X0X011110X01XX000100X10010100X00X</div></td><td><div class=\"dni-plaintext\">( 0, 0 )</div></td></tr><tr><td>16</td><td><div class=\"dni-plaintext\">&lt;null&gt;</div></td><td><div class=\"dni-plaintext\">( 60244, 1003035 )</div></td></tr><tr><td>17</td><td><div class=\"dni-plaintext\">&lt;null&gt;</div></td><td><div class=\"dni-plaintext\">( 4068, 7428 )</div></td></tr><tr><td>18</td><td><div class=\"dni-plaintext\">&lt;null&gt;</div></td><td><div class=\"dni-plaintext\">( 36608, 846 )</div></td></tr><tr><td>19</td><td><div class=\"dni-plaintext\">&lt;null&gt;</div></td><td><div class=\"dni-plaintext\">( 41866, 7255 )</div></td></tr><tr><td colspan=\"3\">(556 more)</td></tr></tbody></table>"
     },
     "execution_count": 1,
     "metadata": {}
    }
   ]
  }
 ],
 "metadata": {
  "kernelspec": {
   "display_name": ".NET (C#)",
   "language": "C#",
   "name": ".net-csharp"
  },
  "language_info": {
   "file_extension": ".cs",
   "mimetype": "text/x-csharp",
   "name": "C#",
   "pygments_lexer": "csharp",
   "version": "8.0"
  }
 },
 "nbformat": 4,
 "nbformat_minor": 4
}