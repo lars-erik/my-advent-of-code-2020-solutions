{
 "cells": [
  {
   "cell_type": "markdown",
   "metadata": {},
   "source": [
    "## Should be two addends in previous results that add up to current number"
   ]
  },
  {
   "cell_type": "code",
   "execution_count": 1,
   "metadata": {},
   "source": [
    "var sample = new[]{\n",
    "    35,20,15,25,47,40,62,55,65,95,102,117,150,182,127,219,299,277,309,576\n",
    "};\n",
    "sample"
   ],
   "outputs": [
    {
     "output_type": "execute_result",
     "data": {
      "text/html": "<table><thead><tr><th><i>index</i></th><th>value</th></tr></thead><tbody><tr><td>0</td><td><div class=\"dni-plaintext\">35</div></td></tr><tr><td>1</td><td><div class=\"dni-plaintext\">20</div></td></tr><tr><td>2</td><td><div class=\"dni-plaintext\">15</div></td></tr><tr><td>3</td><td><div class=\"dni-plaintext\">25</div></td></tr><tr><td>4</td><td><div class=\"dni-plaintext\">47</div></td></tr><tr><td>5</td><td><div class=\"dni-plaintext\">40</div></td></tr><tr><td>6</td><td><div class=\"dni-plaintext\">62</div></td></tr><tr><td>7</td><td><div class=\"dni-plaintext\">55</div></td></tr><tr><td>8</td><td><div class=\"dni-plaintext\">65</div></td></tr><tr><td>9</td><td><div class=\"dni-plaintext\">95</div></td></tr><tr><td>10</td><td><div class=\"dni-plaintext\">102</div></td></tr><tr><td>11</td><td><div class=\"dni-plaintext\">117</div></td></tr><tr><td>12</td><td><div class=\"dni-plaintext\">150</div></td></tr><tr><td>13</td><td><div class=\"dni-plaintext\">182</div></td></tr><tr><td>14</td><td><div class=\"dni-plaintext\">127</div></td></tr><tr><td>15</td><td><div class=\"dni-plaintext\">219</div></td></tr><tr><td>16</td><td><div class=\"dni-plaintext\">299</div></td></tr><tr><td>17</td><td><div class=\"dni-plaintext\">277</div></td></tr><tr><td>18</td><td><div class=\"dni-plaintext\">309</div></td></tr><tr><td>19</td><td><div class=\"dni-plaintext\">576</div></td></tr></tbody></table>"
     },
     "execution_count": 1,
     "metadata": {}
    }
   ]
  },
  {
   "cell_type": "markdown",
   "metadata": {},
   "source": [
    "## Find first number that does not have property of being sum of previous {preamble size} numbers."
   ]
  },
  {
   "cell_type": "code",
   "execution_count": 1,
   "metadata": {},
   "source": [
    "const int preamble = 5;\n",
    "int sampleNumWithoutSumInPreamble = 0;\n",
    "for(var i = 5; i<sample.Length; i++)\n",
    "{\n",
    "    var previousN = sample.Skip(i - preamble).Take(preamble);\n",
    "    var cross = \n",
    "        from x in previousN\n",
    "        from y in previousN\n",
    "        where x != y\n",
    "        where sample[i] == x + y\n",
    "        select (i, x, y, x + y);\n",
    "\n",
    "    if (cross.Count() == 0)\n",
    "    {\n",
    "        sampleNumWithoutSumInPreamble = sample[i];\n",
    "        break;\n",
    "    }\n",
    "}\n",
    "\n",
    "sampleNumWithoutSumInPreamble\n",
    ""
   ],
   "outputs": [
    {
     "output_type": "execute_result",
     "data": {
      "text/html": "<div class=\"dni-plaintext\">127</div>"
     },
     "execution_count": 1,
     "metadata": {}
    }
   ]
  },
  {
   "cell_type": "markdown",
   "metadata": {},
   "source": [
    "## 9.1 solution"
   ]
  },
  {
   "cell_type": "code",
   "execution_count": 1,
   "metadata": {},
   "source": [
    "var input = System.IO.File.ReadAllText(@\".\\input.txt\").Split(Environment.NewLine).Select(x => Convert.ToInt64(x)).ToArray();\n",
    ""
   ],
   "outputs": []
  },
  {
   "cell_type": "code",
   "execution_count": 1,
   "metadata": {},
   "source": [
    "\n",
    "const int preamble = 25;\n",
    "long numWithoutSumInPreamble = 0;\n",
    "for(var i = preamble; i<input.Length; i++)\n",
    "{\n",
    "    var previousN = input.Skip(i - preamble).Take(preamble);\n",
    "    var cross = \n",
    "        from x in previousN\n",
    "        from y in previousN\n",
    "        where x != y\n",
    "        where input[i] == x + y\n",
    "        select (i, x, y, x + y);\n",
    "\n",
    "    if (cross.Count() == 0)\n",
    "    {\n",
    "        numWithoutSumInPreamble = input[i];\n",
    "        break;\n",
    "    }\n",
    "}\n",
    "\n",
    "numWithoutSumInPreamble\n",
    ""
   ],
   "outputs": [
    {
     "output_type": "execute_result",
     "data": {
      "text/html": "<div class=\"dni-plaintext\">542529149</div>"
     },
     "execution_count": 1,
     "metadata": {}
    }
   ]
  },
  {
   "cell_type": "markdown",
   "metadata": {},
   "source": [
    "## 9.2 Solution"
   ]
  },
  {
   "cell_type": "code",
   "execution_count": 1,
   "metadata": {},
   "source": [
    "const int maxRange = 5;\n",
    "int index, range;\n",
    "\n",
    "for(int i = 2; i<maxRange; i++)\n",
    "{\n",
    "    for (int j = 0; j<sample.Length; j++)\n",
    "    {\n",
    "        var from = sample[j];\n",
    "        var sum = from;\n",
    "        for (int k = 0; k<i; k++)\n",
    "        {\n",
    "            if (j + k + 1 < sample.Length)\n",
    "            {\n",
    "                sum += sample[j + k + 1];\n",
    "            }\n",
    "        }\n",
    "        if (sum == sampleNumWithoutSumInPreamble)\n",
    "        {\n",
    "            index = j;\n",
    "            range = i;\n",
    "            break;\n",
    "        }\n",
    "    }\n",
    "}\n",
    "\n",
    "Console.WriteLine($\"{index} {range}\");\n",
    "\n",
    "var nums = sample.Skip(index).Take(range);\n",
    "var min = nums.Min();\n",
    "var max = nums.Max();\n",
    "var answer = min + max;\n",
    "\n",
    "answer"
   ],
   "outputs": [
    {
     "output_type": "execute_result",
     "data": {
      "text/html": "<div class=\"dni-plaintext\">62</div>"
     },
     "execution_count": 1,
     "metadata": {}
    }
   ]
  },
  {
   "cell_type": "code",
   "execution_count": 1,
   "metadata": {},
   "source": [
    "const int maxRange = 50;\n",
    "\n",
    "int index, range;\n",
    "\n",
    "for(int i = 2; i<maxRange; i++)\n",
    "{\n",
    "    for (int j = 0; j<input.Length; j++)\n",
    "    {\n",
    "        var from = input[j];\n",
    "        long sum = from;\n",
    "        for (int k = 0; k<i; k++)\n",
    "        {\n",
    "            if (j + k + 1 < input.Length)\n",
    "            {\n",
    "                sum += input[j + k + 1];\n",
    "            }\n",
    "        }\n",
    "        if (sum == numWithoutSumInPreamble)\n",
    "        {\n",
    "            index = j;\n",
    "            range = i;\n",
    "            break;\n",
    "        }\n",
    "    }\n",
    "}\n",
    "\n",
    "Console.WriteLine($\"{index} {range}\");\n",
    "\n",
    "var nums = input.Skip(index).Take(range);\n",
    "var min = nums.Min();\n",
    "var max = nums.Max();\n",
    "var answer = min + max;\n",
    "\n",
    "answer"
   ],
   "outputs": [
    {
     "output_type": "error",
     "ename": "Error",
     "evalue": "(27,12): error CS0119: 'TopLevelMethods.input(string)' is a method, which is not valid in the given context\r\n(7,23): error CS0119: 'TopLevelMethods.input(string)' is a method, which is not valid in the given context\r\n(9,20): error CS0021: Cannot apply indexing with [] to an expression of type 'method group'\r\n(13,29): error CS0119: 'TopLevelMethods.input(string)' is a method, which is not valid in the given context\r\n(15,24): error CS0021: Cannot apply indexing with [] to an expression of type 'method group'\r\n(18,20): error CS0103: The name 'numWithoutSumInPreamble' does not exist in the current context",
     "traceback": []
    }
   ]
  }
 ],
 "metadata": {
  "kernelspec": {
   "display_name": ".NET (C#)",
   "language": "C#",
   "name": ".net-csharp"
  },
  "language_info": {
   "file_extension": ".cs",
   "mimetype": "text/x-csharp",
   "name": "C#",
   "pygments_lexer": "csharp",
   "version": "8.0"
  }
 },
 "nbformat": 4,
 "nbformat_minor": 4
}