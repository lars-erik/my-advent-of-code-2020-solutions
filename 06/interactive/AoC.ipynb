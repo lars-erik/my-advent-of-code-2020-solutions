{
 "cells": [
  {
   "cell_type": "markdown",
   "metadata": {},
   "source": [
    "## Day 6\n",
    "\n",
    "### Sample problem"
   ]
  },
  {
   "cell_type": "code",
   "execution_count": 1,
   "metadata": {},
   "source": [
    "string[] inputGroups = System.IO.File.ReadAllText(@\".\\sample.txt\").Split(Environment.NewLine + Environment.NewLine);\n",
    "\n",
    "var counts = inputGroups.Select(group => \n",
    "    group.Split(Environment.NewLine)\n",
    "        .SelectMany(c => c)\n",
    "        .Distinct()\n",
    "        .Count()\n",
    ").Sum();\n",
    "\n",
    "counts"
   ],
   "outputs": [
    {
     "output_type": "execute_result",
     "data": {
      "text/html": "<div class=\"dni-plaintext\">11</div>"
     },
     "execution_count": 1,
     "metadata": {}
    }
   ]
  },
  {
   "cell_type": "markdown",
   "metadata": {},
   "source": [
    "### 6.1"
   ]
  },
  {
   "cell_type": "code",
   "execution_count": 1,
   "metadata": {},
   "source": [
    "string[] inputGroups = System.IO.File.ReadAllText(@\".\\input.txt\").Split(Environment.NewLine + Environment.NewLine);\n",
    "\n",
    "var counts = inputGroups.Select(group => \n",
    "    group.Split(Environment.NewLine)\n",
    "        .SelectMany(c => c)\n",
    "        .Distinct()\n",
    "        .Count()\n",
    ").Sum();\n",
    "\n",
    "counts"
   ],
   "outputs": [
    {
     "output_type": "execute_result",
     "data": {
      "text/html": "<div class=\"dni-plaintext\">6504</div>"
     },
     "execution_count": 1,
     "metadata": {}
    }
   ]
  },
  {
   "cell_type": "markdown",
   "metadata": {},
   "source": [
    "### 6.2 sample"
   ]
  },
  {
   "cell_type": "code",
   "execution_count": 1,
   "metadata": {},
   "source": [
    "string[] inputGroups = System.IO.File.ReadAllText(@\".\\sample.txt\").Split(Environment.NewLine + Environment.NewLine);\n",
    "\n",
    "var counts = inputGroups.Select(group => {\n",
    "    var groupAnswers = group.Split(Environment.NewLine);\n",
    "    return groupAnswers\n",
    "        .SelectMany(c => c)\n",
    "        .GroupBy(c => c)\n",
    "        .Where(x => x.Count() == groupAnswers.Count());\n",
    "    })\n",
    "    .Select(x => x.Count())\n",
    "    .Sum();\n",
    "\n",
    "counts"
   ],
   "outputs": [
    {
     "output_type": "execute_result",
     "data": {
      "text/html": "<div class=\"dni-plaintext\">6</div>"
     },
     "execution_count": 1,
     "metadata": {}
    }
   ]
  }
 ],
 "metadata": {
  "kernelspec": {
   "display_name": ".NET (C#)",
   "language": "C#",
   "name": ".net-csharp"
  },
  "language_info": {
   "file_extension": ".cs",
   "mimetype": "text/x-csharp",
   "name": "C#",
   "pygments_lexer": "csharp",
   "version": "8.0"
  }
 },
 "nbformat": 4,
 "nbformat_minor": 4
}