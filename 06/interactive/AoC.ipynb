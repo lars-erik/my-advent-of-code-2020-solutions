{
 "cells": [
  {
   "cell_type": "markdown",
   "metadata": {},
   "source": [
    "## Day 6\n",
    "\n",
    "### Inputs\n",
    "\n",
    "The inputs are split into sets of unparsed group answers"
   ]
  },
  {
   "cell_type": "code",
   "execution_count": 1,
   "metadata": {},
   "source": [
    "string[] sample = System.IO.File.ReadAllText(@\".\\sample.txt\").Split(Environment.NewLine + Environment.NewLine);\n",
    "sample"
   ],
   "outputs": [
    {
     "output_type": "execute_result",
     "data": {
      "text/html": "<table><thead><tr><th><i>index</i></th><th>value</th></tr></thead><tbody><tr><td>0</td><td><div class=\"dni-plaintext\">abc</div></td></tr><tr><td>1</td><td><div class=\"dni-plaintext\">a\r\nb\r\nc</div></td></tr><tr><td>2</td><td><div class=\"dni-plaintext\">ab\r\nac</div></td></tr><tr><td>3</td><td><div class=\"dni-plaintext\">a\r\na\r\na\r\na</div></td></tr><tr><td>4</td><td><div class=\"dni-plaintext\">b</div></td></tr></tbody></table>"
     },
     "execution_count": 1,
     "metadata": {}
    }
   ]
  },
  {
   "cell_type": "code",
   "execution_count": 1,
   "metadata": {},
   "source": [
    "string[] input = System.IO.File.ReadAllText(@\".\\input.txt\").Split(Environment.NewLine + Environment.NewLine);\n",
    "input"
   ],
   "outputs": [
    {
     "output_type": "execute_result",
     "data": {
      "text/html": "<table><thead><tr><th><i>index</i></th><th>value</th></tr></thead><tbody><tr><td>0</td><td><div class=\"dni-plaintext\">wdcmlzfnugqtvjbsahi\r\neasrkmocxbpjgi</div></td></tr><tr><td>1</td><td><div class=\"dni-plaintext\">xrpnegqlcsyodhjfutzakmiwvb\r\nmgilapxjtrndbheyqzckfouwsv</div></td></tr><tr><td>2</td><td><div class=\"dni-plaintext\">scynhfozmlvbqkarwj\r\nqhvjkmbyxcfonlazdw\r\nvjhzfnapwclkqiomyb</div></td></tr><tr><td>3</td><td><div class=\"dni-plaintext\">bpourq\r\nujpmoqs\r\nobqup</div></td></tr><tr><td>4</td><td><div class=\"dni-plaintext\">v\r\nv\r\nv\r\nv\r\nv</div></td></tr><tr><td>5</td><td><div class=\"dni-plaintext\">hwjlda\r\nthkdjo\r\nmlhdjw\r\nedyfjvh\r\ndjh</div></td></tr><tr><td>6</td><td><div class=\"dni-plaintext\">xvjadplfcwmkeriug\r\nadgtscyjipewvulr</div></td></tr><tr><td>7</td><td><div class=\"dni-plaintext\">hmkipduz\r\nmdzkupi</div></td></tr><tr><td>8</td><td><div class=\"dni-plaintext\">vtyizwcdm\r\nzdvtcyiwm\r\nmfzcywvtid\r\niydclntzvmw</div></td></tr><tr><td>9</td><td><div class=\"dni-plaintext\">ps\r\npm\r\npm\r\np\r\npm</div></td></tr><tr><td>10</td><td><div class=\"dni-plaintext\">nglatdiw\r\ntwialgd\r\nigsadtwl\r\niadgtwl\r\nigawltd</div></td></tr><tr><td>11</td><td><div class=\"dni-plaintext\">jqoxkavs\r\naskoxvqj\r\naqjvxskho\r\njavqkxso\r\nkaxjoqsv</div></td></tr><tr><td>12</td><td><div class=\"dni-plaintext\">ltkjfoxes\r\naifogkepx\r\nufcekybmzx\r\ntigxeahnkf</div></td></tr><tr><td>13</td><td><div class=\"dni-plaintext\">xzfqbsnhmrviju\r\nrmfvsbihpujq\r\nhstfumvgrobijq</div></td></tr><tr><td>14</td><td><div class=\"dni-plaintext\">bga\r\nye</div></td></tr><tr><td>15</td><td><div class=\"dni-plaintext\">sg\r\ngs\r\nsg\r\ngs\r\nsg</div></td></tr><tr><td>16</td><td><div class=\"dni-plaintext\">knipbjmtrqoawe\r\nrtaebqkmopjiwn\r\newbuqcaijonmrpk\r\ntrnmpeqkobjiwa</div></td></tr><tr><td>17</td><td><div class=\"dni-plaintext\">puifme\r\nufb\r\nfvp\r\nrntzlyxwokfcg</div></td></tr><tr><td>18</td><td><div class=\"dni-plaintext\">nufjzpyawbqsdgi\r\nogcmpsdqaxvnzwetklh</div></td></tr><tr><td>19</td><td><div class=\"dni-plaintext\">qmdxnfrjobatzwgcyse\r\nrdxtqseawzobygcmfjn</div></td></tr><tr><td colspan=\"2\">(459 more)</td></tr></tbody></table>"
     },
     "execution_count": 1,
     "metadata": {}
    }
   ]
  },
  {
   "cell_type": "markdown",
   "metadata": {},
   "source": [
    "### 6.1 sample\n",
    "\n",
    "In order to count number of yes, we take a distinct list of each groups' answer IDs and total them up."
   ]
  },
  {
   "cell_type": "code",
   "execution_count": 1,
   "metadata": {},
   "source": [
    "var counts = sample.Select(group => \n",
    "    group.Split(Environment.NewLine)\n",
    "        .SelectMany(c => c)\n",
    "        .Distinct()\n",
    "        .Count()\n",
    ").Sum();\n",
    "\n",
    "counts"
   ],
   "outputs": [
    {
     "output_type": "execute_result",
     "data": {
      "text/html": "<div class=\"dni-plaintext\">11</div>"
     },
     "execution_count": 1,
     "metadata": {}
    }
   ]
  },
  {
   "cell_type": "markdown",
   "metadata": {},
   "source": [
    "### 6.1 input"
   ]
  },
  {
   "cell_type": "code",
   "execution_count": 1,
   "metadata": {},
   "source": [
    "var counts = input.Select(group => \n",
    "    group.Split(Environment.NewLine)\n",
    "        .SelectMany(c => c)\n",
    "        .Distinct()\n",
    "        .Count()\n",
    ").Sum();\n",
    "\n",
    "counts"
   ],
   "outputs": [
    {
     "output_type": "execute_result",
     "data": {
      "text/html": "<div class=\"dni-plaintext\">6504</div>"
     },
     "execution_count": 1,
     "metadata": {}
    }
   ]
  },
  {
   "cell_type": "markdown",
   "metadata": {},
   "source": [
    "### 6.2 sample\n",
    "\n",
    ""
   ]
  },
  {
   "cell_type": "code",
   "execution_count": 1,
   "metadata": {},
   "source": [
    "var counts = sample.Select(group => {\n",
    "    var groupAnswers = group.Split(Environment.NewLine);\n",
    "    return groupAnswers\n",
    "        .SelectMany(c => c)\n",
    "        .GroupBy(c => c)\n",
    "        .Where(x => x.Count() == groupAnswers.Count());\n",
    "    })\n",
    "    .Select(x => x.Count())\n",
    "    .Sum();\n",
    "\n",
    "counts"
   ],
   "outputs": [
    {
     "output_type": "execute_result",
     "data": {
      "text/html": "<div class=\"dni-plaintext\">6</div>"
     },
     "execution_count": 1,
     "metadata": {}
    }
   ]
  },
  {
   "cell_type": "markdown",
   "metadata": {},
   "source": [
    "### 6.2 Input\n",
    "\n",
    "In order to get all answers where everyone in a group answered yes, we need to compare answer count to group size, and then total everythin up."
   ]
  },
  {
   "cell_type": "code",
   "execution_count": 1,
   "metadata": {},
   "source": [
    "var counts = input.Select(group => {\n",
    "    var groupAnswers = group.Split(Environment.NewLine);\n",
    "    return groupAnswers\n",
    "        .SelectMany(c => c)\n",
    "        .GroupBy(c => c)\n",
    "        .Where(x => x.Count() == groupAnswers.Count());\n",
    "    })\n",
    "    .Select(x => x.Count())\n",
    "    .Sum();\n",
    "\n",
    "counts"
   ],
   "outputs": [
    {
     "output_type": "execute_result",
     "data": {
      "text/html": "<div class=\"dni-plaintext\">3351</div>"
     },
     "execution_count": 1,
     "metadata": {}
    }
   ]
  },
  {
   "cell_type": "markdown",
   "metadata": {},
   "source": [
    "The end."
   ]
  }
 ],
 "metadata": {
  "kernelspec": {
   "display_name": ".NET (C#)",
   "language": "C#",
   "name": ".net-csharp"
  },
  "language_info": {
   "file_extension": ".cs",
   "mimetype": "text/x-csharp",
   "name": "C#",
   "pygments_lexer": "csharp",
   "version": "8.0"
  }
 },
 "nbformat": 4,
 "nbformat_minor": 4
}