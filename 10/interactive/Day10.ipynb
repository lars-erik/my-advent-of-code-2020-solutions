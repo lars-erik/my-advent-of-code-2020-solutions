{
 "cells": [
  {
   "cell_type": "markdown",
   "metadata": {},
   "source": [
    "## Day 10"
   ]
  },
  {
   "cell_type": "markdown",
   "metadata": {},
   "source": [
    "### Sample 2"
   ]
  },
  {
   "cell_type": "code",
   "execution_count": 1,
   "metadata": {},
   "source": [
    "var sample = System.IO.File.ReadAllText(@\".\\sample2.txt\").Split(Environment.NewLine).Select(x => Convert.ToInt32(x));\n",
    "sample"
   ],
   "outputs": [
    {
     "output_type": "execute_result",
     "data": {
      "text/html": "<table><thead><tr><th><i>index</i></th><th>value</th></tr></thead><tbody><tr><td>0</td><td><div class=\"dni-plaintext\">28</div></td></tr><tr><td>1</td><td><div class=\"dni-plaintext\">33</div></td></tr><tr><td>2</td><td><div class=\"dni-plaintext\">18</div></td></tr><tr><td>3</td><td><div class=\"dni-plaintext\">42</div></td></tr><tr><td>4</td><td><div class=\"dni-plaintext\">31</div></td></tr><tr><td>5</td><td><div class=\"dni-plaintext\">14</div></td></tr><tr><td>6</td><td><div class=\"dni-plaintext\">46</div></td></tr><tr><td>7</td><td><div class=\"dni-plaintext\">20</div></td></tr><tr><td>8</td><td><div class=\"dni-plaintext\">48</div></td></tr><tr><td>9</td><td><div class=\"dni-plaintext\">47</div></td></tr><tr><td>10</td><td><div class=\"dni-plaintext\">24</div></td></tr><tr><td>11</td><td><div class=\"dni-plaintext\">23</div></td></tr><tr><td>12</td><td><div class=\"dni-plaintext\">49</div></td></tr><tr><td>13</td><td><div class=\"dni-plaintext\">45</div></td></tr><tr><td>14</td><td><div class=\"dni-plaintext\">19</div></td></tr><tr><td>15</td><td><div class=\"dni-plaintext\">38</div></td></tr><tr><td>16</td><td><div class=\"dni-plaintext\">39</div></td></tr><tr><td>17</td><td><div class=\"dni-plaintext\">11</div></td></tr><tr><td>18</td><td><div class=\"dni-plaintext\">1</div></td></tr><tr><td>19</td><td><div class=\"dni-plaintext\">32</div></td></tr><tr><td colspan=\"2\">(11 more)</td></tr></tbody></table>"
     },
     "execution_count": 1,
     "metadata": {}
    }
   ]
  },
  {
   "cell_type": "markdown",
   "metadata": {},
   "source": [
    "## Day 10 input"
   ]
  },
  {
   "cell_type": "code",
   "execution_count": 1,
   "metadata": {},
   "source": [
    "var input = System.IO.File.ReadAllText(@\".\\input.txt\").Split(Environment.NewLine).Select(x => Convert.ToInt32(x));\n",
    "input"
   ],
   "outputs": [
    {
     "output_type": "execute_result",
     "data": {
      "text/html": "<table><thead><tr><th><i>index</i></th><th>value</th></tr></thead><tbody><tr><td>0</td><td><div class=\"dni-plaintext\">152</div></td></tr><tr><td>1</td><td><div class=\"dni-plaintext\">18</div></td></tr><tr><td>2</td><td><div class=\"dni-plaintext\">146</div></td></tr><tr><td>3</td><td><div class=\"dni-plaintext\">22</div></td></tr><tr><td>4</td><td><div class=\"dni-plaintext\">28</div></td></tr><tr><td>5</td><td><div class=\"dni-plaintext\">133</div></td></tr><tr><td>6</td><td><div class=\"dni-plaintext\">114</div></td></tr><tr><td>7</td><td><div class=\"dni-plaintext\">67</div></td></tr><tr><td>8</td><td><div class=\"dni-plaintext\">19</div></td></tr><tr><td>9</td><td><div class=\"dni-plaintext\">37</div></td></tr><tr><td>10</td><td><div class=\"dni-plaintext\">66</div></td></tr><tr><td>11</td><td><div class=\"dni-plaintext\">14</div></td></tr><tr><td>12</td><td><div class=\"dni-plaintext\">90</div></td></tr><tr><td>13</td><td><div class=\"dni-plaintext\">163</div></td></tr><tr><td>14</td><td><div class=\"dni-plaintext\">26</div></td></tr><tr><td>15</td><td><div class=\"dni-plaintext\">149</div></td></tr><tr><td>16</td><td><div class=\"dni-plaintext\">71</div></td></tr><tr><td>17</td><td><div class=\"dni-plaintext\">106</div></td></tr><tr><td>18</td><td><div class=\"dni-plaintext\">46</div></td></tr><tr><td>19</td><td><div class=\"dni-plaintext\">143</div></td></tr><tr><td colspan=\"2\">(84 more)</td></tr></tbody></table>"
     },
     "execution_count": 1,
     "metadata": {}
    }
   ]
  },
  {
   "cell_type": "markdown",
   "metadata": {},
   "source": [
    "## 10.1 sample solution"
   ]
  },
  {
   "cell_type": "code",
   "execution_count": 1,
   "metadata": {},
   "source": [
    "var untested = sample.OrderBy(x => x).ToList();\n",
    "untested.Add(untested.Max() + 3);\n",
    "var withDiff = untested\n",
    "    .Select((x, i) => (x, i > 0 ? x - untested[i-1] : x))\n",
    "    .ToList()\n",
    "    .GroupBy(x => x.Item2)\n",
    "    .ToDictionary(x => x.Key, x => x.Count());\n",
    "\n",
    "withDiff"
   ],
   "outputs": [
    {
     "output_type": "execute_result",
     "data": {
      "text/html": "<table><thead><tr><th><i>key</i></th><th>value</th></tr></thead><tbody><tr><td><div class=\"dni-plaintext\">1</div></td><td><div class=\"dni-plaintext\">22</div></td></tr><tr><td><div class=\"dni-plaintext\">3</div></td><td><div class=\"dni-plaintext\">10</div></td></tr></tbody></table>"
     },
     "execution_count": 1,
     "metadata": {}
    }
   ]
  },
  {
   "cell_type": "markdown",
   "metadata": {},
   "source": [
    "## 10.1 solution"
   ]
  },
  {
   "cell_type": "code",
   "execution_count": 1,
   "metadata": {},
   "source": [
    "var untested = input.OrderBy(x => x).ToList();\n",
    "untested.Add(untested.Max() + 3);\n",
    "var withDiff = untested\n",
    "    .Select((x, i) => (x, i > 0 ? x - untested[i-1] : x))\n",
    "    .ToList()\n",
    "    .GroupBy(x => x.Item2)\n",
    "    .ToDictionary(x => x.Key, x => x.Count());\n",
    "\n",
    "Console.WriteLine(withDiff[1] * withDiff[3]);\n",
    "\n",
    "withDiff\n",
    ""
   ],
   "outputs": [
    {
     "output_type": "execute_result",
     "data": {
      "text/html": "<table><thead><tr><th><i>key</i></th><th>value</th></tr></thead><tbody><tr><td><div class=\"dni-plaintext\">1</div></td><td><div class=\"dni-plaintext\">66</div></td></tr><tr><td><div class=\"dni-plaintext\">3</div></td><td><div class=\"dni-plaintext\">39</div></td></tr></tbody></table>"
     },
     "execution_count": 1,
     "metadata": {}
    }
   ]
  }
 ],
 "metadata": {
  "kernelspec": {
   "display_name": ".NET (C#)",
   "language": "C#",
   "name": ".net-csharp"
  },
  "language_info": {
   "file_extension": ".cs",
   "mimetype": "text/x-csharp",
   "name": "C#",
   "pygments_lexer": "csharp",
   "version": "8.0"
  }
 },
 "nbformat": 4,
 "nbformat_minor": 4
}