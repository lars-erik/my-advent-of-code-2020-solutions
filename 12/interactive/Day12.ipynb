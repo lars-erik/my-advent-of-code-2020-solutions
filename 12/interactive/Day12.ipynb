{
 "cells": [
  {
   "cell_type": "markdown",
   "metadata": {},
   "source": [
    "# Day 12 - Steering a ship"
   ]
  },
  {
   "cell_type": "code",
   "execution_count": 1,
   "metadata": {},
   "source": [
    "using System.IO;\n",
    "\n",
    "var input = File.ReadAllLines(@\".\\input.txt\")\n",
    "    .Select(x => (instr: x[0], dist: Convert.ToInt32(x.Substring(1))))\n",
    "    .ToArray();\n",
    "\n",
    "input"
   ],
   "outputs": [
    {
     "output_type": "execute_result",
     "data": {
      "text/html": "<table><thead><tr><th><i>index</i></th><th>Item1</th><th>Item2</th></tr></thead><tbody><tr><td>0</td><td><div class=\"dni-plaintext\">F</div></td><td><div class=\"dni-plaintext\">35</div></td></tr><tr><td>1</td><td><div class=\"dni-plaintext\">L</div></td><td><div class=\"dni-plaintext\">90</div></td></tr><tr><td>2</td><td><div class=\"dni-plaintext\">S</div></td><td><div class=\"dni-plaintext\">5</div></td></tr><tr><td>3</td><td><div class=\"dni-plaintext\">F</div></td><td><div class=\"dni-plaintext\">4</div></td></tr><tr><td>4</td><td><div class=\"dni-plaintext\">R</div></td><td><div class=\"dni-plaintext\">90</div></td></tr><tr><td>5</td><td><div class=\"dni-plaintext\">F</div></td><td><div class=\"dni-plaintext\">46</div></td></tr><tr><td>6</td><td><div class=\"dni-plaintext\">W</div></td><td><div class=\"dni-plaintext\">3</div></td></tr><tr><td>7</td><td><div class=\"dni-plaintext\">N</div></td><td><div class=\"dni-plaintext\">1</div></td></tr><tr><td>8</td><td><div class=\"dni-plaintext\">L</div></td><td><div class=\"dni-plaintext\">90</div></td></tr><tr><td>9</td><td><div class=\"dni-plaintext\">F</div></td><td><div class=\"dni-plaintext\">13</div></td></tr><tr><td>10</td><td><div class=\"dni-plaintext\">S</div></td><td><div class=\"dni-plaintext\">5</div></td></tr><tr><td>11</td><td><div class=\"dni-plaintext\">E</div></td><td><div class=\"dni-plaintext\">5</div></td></tr><tr><td>12</td><td><div class=\"dni-plaintext\">R</div></td><td><div class=\"dni-plaintext\">180</div></td></tr><tr><td>13</td><td><div class=\"dni-plaintext\">S</div></td><td><div class=\"dni-plaintext\">1</div></td></tr><tr><td>14</td><td><div class=\"dni-plaintext\">F</div></td><td><div class=\"dni-plaintext\">39</div></td></tr><tr><td>15</td><td><div class=\"dni-plaintext\">N</div></td><td><div class=\"dni-plaintext\">2</div></td></tr><tr><td>16</td><td><div class=\"dni-plaintext\">R</div></td><td><div class=\"dni-plaintext\">90</div></td></tr><tr><td>17</td><td><div class=\"dni-plaintext\">S</div></td><td><div class=\"dni-plaintext\">1</div></td></tr><tr><td>18</td><td><div class=\"dni-plaintext\">F</div></td><td><div class=\"dni-plaintext\">94</div></td></tr><tr><td>19</td><td><div class=\"dni-plaintext\">R</div></td><td><div class=\"dni-plaintext\">90</div></td></tr><tr><td colspan=\"3\">(740 more)</td></tr></tbody></table>"
     },
     "execution_count": 1,
     "metadata": {}
    }
   ]
  },
  {
   "cell_type": "markdown",
   "metadata": {},
   "source": [
    "## 12.1 Solution"
   ]
  },
  {
   "cell_type": "code",
   "execution_count": 1,
   "metadata": {},
   "source": [
    "var itinerary = new List<(char op, int dist, int x, int y)>();\n",
    "var curPos = (x: 0, y: 0);\n",
    "var faceDir = 0;\n",
    "\n",
    "foreach(var op in input)\n",
    "{\n",
    "    faceDir = op.instr switch {\n",
    "        'L' => (faceDir - op.dist + 360) % 360,\n",
    "        'R' => (faceDir + op.dist) % 360,\n",
    "        _ => faceDir\n",
    "    };\n",
    "\n",
    "    curPos = op.instr switch {\n",
    "        'L' or 'R' => curPos,\n",
    "        'F' => faceDir switch {\n",
    "            0 => (x: curPos.x + op.dist, y: curPos.y), // east\n",
    "            90 => (x: curPos.x, y: curPos.y + op.dist), // south\n",
    "            180 => (x: curPos.x - op.dist, y: curPos.y), // west\n",
    "            270 => (x: curPos.x, y: curPos.y - op.dist), // north\n",
    "            _ => throw new Exception(\"Diagonals not supported\")\n",
    "        },\n",
    "        'E' => (x: curPos.x + op.dist, y: curPos.y),\n",
    "        'S' => (x: curPos.x, y: curPos.y + op.dist),\n",
    "        'W' => (x: curPos.x - op.dist, y: curPos.y),\n",
    "        'N' => (x: curPos.x, y: curPos.y - op.dist),\n",
    "        _ => throw new Exception(\"Not supported\")\n",
    "    };\n",
    "\n",
    "    itinerary.Add((op.instr, op.dist, curPos.x, curPos.y));\n",
    "}\n",
    "\n",
    "curPos.x + curPos.y"
   ],
   "outputs": [
    {
     "output_type": "execute_result",
     "data": {
      "text/html": "<div class=\"dni-plaintext\">590</div>"
     },
     "execution_count": 1,
     "metadata": {}
    }
   ]
  },
  {
   "cell_type": "markdown",
   "metadata": {},
   "source": [
    "## 12.2 Solution"
   ]
  },
  {
   "cell_type": "code",
   "execution_count": 1,
   "metadata": {},
   "source": [
    "var itinerary = new List<(char op, int dist, int x, int y, int z, int i)>();\n",
    "var curWP = (x: 10, y: 1);\n",
    "var curPos = (x: 0, y: 0);\n",
    "var faceDir = 0;\n",
    "\n",
    "foreach(var op in input)\n",
    "{\n",
    "    curWP = op.instr switch {\n",
    "        'F' => curWP,\n",
    "        'L' => (\n",
    "            x: (int)(curWP.x * Math.Cos(-1*op.dist/180*Math.PI) - curWP.y * Math.Sin(-1*op.dist/180*Math.PI)), \n",
    "            y: (int)(curWP.x * Math.Sin(-1*op.dist/180*Math.PI) + curWP.y * Math.Cos(-1*op.dist/180*Math.PI))\n",
    "        ),\n",
    "        'R' => (\n",
    "            x: (int)(curWP.x * Math.Cos(op.dist/180*Math.PI) - curWP.y * Math.Sin(op.dist/180*Math.PI)), \n",
    "            y: (int)(curWP.x * Math.Sin(op.dist/180*Math.PI) + curWP.y * Math.Cos(op.dist/180*Math.PI))\n",
    "        ),\n",
    "        'E' => (x: curWP.x + op.dist, y: curWP.y),\n",
    "        'S' => (x: curWP.x, y: curWP.y + op.dist),\n",
    "        'W' => (x: curWP.x - op.dist, y: curWP.y),\n",
    "        'N' => (x: curWP.x, y: curWP.y - op.dist),\n",
    "        _ => throw new Exception(\"Not supported\")\n",
    "    };\n",
    "\n",
    "    curPos = op.instr switch {\n",
    "        'F' => (x: curPos.x + curWP.x * op.dist, y: curPos.y + curWP.y * op.dist),\n",
    "        _ => curPos\n",
    "    };\n",
    "\n",
    "    itinerary.Add((op.instr, op.dist, curWP.x, curWP.y, curPos.x, curPos.y));\n",
    "}\n",
    "\n",
    "Console.WriteLine(curPos.x + curPos.y);\n",
    "\n",
    "itinerary\n",
    "\n",
    "//curWP.x + curWP.y"
   ],
   "outputs": [
    {
     "output_type": "execute_result",
     "data": {
      "text/plain": "69485\r\n"
     },
     "execution_count": 1,
     "metadata": {}
    },
    {
     "output_type": "execute_result",
     "data": {
      "text/html": "<table><thead><tr><th><i>index</i></th><th>Item1</th><th>Item2</th><th>Item3</th><th>Item4</th><th>Item5</th><th>Item6</th></tr></thead><tbody><tr><td>0</td><td><div class=\"dni-plaintext\">F</div></td><td><div class=\"dni-plaintext\">35</div></td><td><div class=\"dni-plaintext\">10</div></td><td><div class=\"dni-plaintext\">1</div></td><td><div class=\"dni-plaintext\">350</div></td><td><div class=\"dni-plaintext\">35</div></td></tr><tr><td>1</td><td><div class=\"dni-plaintext\">L</div></td><td><div class=\"dni-plaintext\">90</div></td><td><div class=\"dni-plaintext\">10</div></td><td><div class=\"dni-plaintext\">10</div></td><td><div class=\"dni-plaintext\">350</div></td><td><div class=\"dni-plaintext\">35</div></td></tr><tr><td>2</td><td><div class=\"dni-plaintext\">S</div></td><td><div class=\"dni-plaintext\">5</div></td><td><div class=\"dni-plaintext\">10</div></td><td><div class=\"dni-plaintext\">15</div></td><td><div class=\"dni-plaintext\">350</div></td><td><div class=\"dni-plaintext\">35</div></td></tr><tr><td>3</td><td><div class=\"dni-plaintext\">F</div></td><td><div class=\"dni-plaintext\">4</div></td><td><div class=\"dni-plaintext\">10</div></td><td><div class=\"dni-plaintext\">15</div></td><td><div class=\"dni-plaintext\">390</div></td><td><div class=\"dni-plaintext\">95</div></td></tr><tr><td>4</td><td><div class=\"dni-plaintext\">R</div></td><td><div class=\"dni-plaintext\">90</div></td><td><div class=\"dni-plaintext\">10</div></td><td><div class=\"dni-plaintext\">15</div></td><td><div class=\"dni-plaintext\">390</div></td><td><div class=\"dni-plaintext\">95</div></td></tr><tr><td>5</td><td><div class=\"dni-plaintext\">F</div></td><td><div class=\"dni-plaintext\">46</div></td><td><div class=\"dni-plaintext\">10</div></td><td><div class=\"dni-plaintext\">15</div></td><td><div class=\"dni-plaintext\">850</div></td><td><div class=\"dni-plaintext\">785</div></td></tr><tr><td>6</td><td><div class=\"dni-plaintext\">W</div></td><td><div class=\"dni-plaintext\">3</div></td><td><div class=\"dni-plaintext\">7</div></td><td><div class=\"dni-plaintext\">15</div></td><td><div class=\"dni-plaintext\">850</div></td><td><div class=\"dni-plaintext\">785</div></td></tr><tr><td>7</td><td><div class=\"dni-plaintext\">N</div></td><td><div class=\"dni-plaintext\">1</div></td><td><div class=\"dni-plaintext\">7</div></td><td><div class=\"dni-plaintext\">14</div></td><td><div class=\"dni-plaintext\">850</div></td><td><div class=\"dni-plaintext\">785</div></td></tr><tr><td>8</td><td><div class=\"dni-plaintext\">L</div></td><td><div class=\"dni-plaintext\">90</div></td><td><div class=\"dni-plaintext\">7</div></td><td><div class=\"dni-plaintext\">7</div></td><td><div class=\"dni-plaintext\">850</div></td><td><div class=\"dni-plaintext\">785</div></td></tr><tr><td>9</td><td><div class=\"dni-plaintext\">F</div></td><td><div class=\"dni-plaintext\">13</div></td><td><div class=\"dni-plaintext\">7</div></td><td><div class=\"dni-plaintext\">7</div></td><td><div class=\"dni-plaintext\">941</div></td><td><div class=\"dni-plaintext\">876</div></td></tr><tr><td>10</td><td><div class=\"dni-plaintext\">S</div></td><td><div class=\"dni-plaintext\">5</div></td><td><div class=\"dni-plaintext\">7</div></td><td><div class=\"dni-plaintext\">12</div></td><td><div class=\"dni-plaintext\">941</div></td><td><div class=\"dni-plaintext\">876</div></td></tr><tr><td>11</td><td><div class=\"dni-plaintext\">E</div></td><td><div class=\"dni-plaintext\">5</div></td><td><div class=\"dni-plaintext\">12</div></td><td><div class=\"dni-plaintext\">12</div></td><td><div class=\"dni-plaintext\">941</div></td><td><div class=\"dni-plaintext\">876</div></td></tr><tr><td>12</td><td><div class=\"dni-plaintext\">R</div></td><td><div class=\"dni-plaintext\">180</div></td><td><div class=\"dni-plaintext\">-12</div></td><td><div class=\"dni-plaintext\">-11</div></td><td><div class=\"dni-plaintext\">941</div></td><td><div class=\"dni-plaintext\">876</div></td></tr><tr><td>13</td><td><div class=\"dni-plaintext\">S</div></td><td><div class=\"dni-plaintext\">1</div></td><td><div class=\"dni-plaintext\">-12</div></td><td><div class=\"dni-plaintext\">-10</div></td><td><div class=\"dni-plaintext\">941</div></td><td><div class=\"dni-plaintext\">876</div></td></tr><tr><td>14</td><td><div class=\"dni-plaintext\">F</div></td><td><div class=\"dni-plaintext\">39</div></td><td><div class=\"dni-plaintext\">-12</div></td><td><div class=\"dni-plaintext\">-10</div></td><td><div class=\"dni-plaintext\">473</div></td><td><div class=\"dni-plaintext\">486</div></td></tr><tr><td>15</td><td><div class=\"dni-plaintext\">N</div></td><td><div class=\"dni-plaintext\">2</div></td><td><div class=\"dni-plaintext\">-12</div></td><td><div class=\"dni-plaintext\">-12</div></td><td><div class=\"dni-plaintext\">473</div></td><td><div class=\"dni-plaintext\">486</div></td></tr><tr><td>16</td><td><div class=\"dni-plaintext\">R</div></td><td><div class=\"dni-plaintext\">90</div></td><td><div class=\"dni-plaintext\">-12</div></td><td><div class=\"dni-plaintext\">-12</div></td><td><div class=\"dni-plaintext\">473</div></td><td><div class=\"dni-plaintext\">486</div></td></tr><tr><td>17</td><td><div class=\"dni-plaintext\">S</div></td><td><div class=\"dni-plaintext\">1</div></td><td><div class=\"dni-plaintext\">-12</div></td><td><div class=\"dni-plaintext\">-11</div></td><td><div class=\"dni-plaintext\">473</div></td><td><div class=\"dni-plaintext\">486</div></td></tr><tr><td>18</td><td><div class=\"dni-plaintext\">F</div></td><td><div class=\"dni-plaintext\">94</div></td><td><div class=\"dni-plaintext\">-12</div></td><td><div class=\"dni-plaintext\">-11</div></td><td><div class=\"dni-plaintext\">-655</div></td><td><div class=\"dni-plaintext\">-548</div></td></tr><tr><td>19</td><td><div class=\"dni-plaintext\">R</div></td><td><div class=\"dni-plaintext\">90</div></td><td><div class=\"dni-plaintext\">-12</div></td><td><div class=\"dni-plaintext\">-11</div></td><td><div class=\"dni-plaintext\">-655</div></td><td><div class=\"dni-plaintext\">-548</div></td></tr><tr><td colspan=\"7\">(740 more)</td></tr></tbody></table>"
     },
     "execution_count": 1,
     "metadata": {}
    }
   ]
  },
  {
   "cell_type": "code",
   "execution_count": 1,
   "metadata": {},
   "source": [
    "var curWP = (x: 10, y: 1);\n",
    "var angle = -90.0;\n",
    "var transformed = (\n",
    "    x: (curWP.x * Math.Cos(angle/180.0*Math.PI) - curWP.y * Math.Sin(angle/180.0*Math.PI)), \n",
    "    y: (curWP.x * Math.Sin(angle/180.0*Math.PI) + curWP.y * Math.Cos(angle/180.0*Math.PI))\n",
    ");\n",
    "\n",
    "(curWP.x * Math.Cos(angle/180.0*Math.PI)).ToString(\"n5\")\n",
    "// transformed"
   ],
   "outputs": [
    {
     "output_type": "execute_result",
     "data": {
      "text/plain": "0,00000"
     },
     "execution_count": 1,
     "metadata": {}
    }
   ]
  }
 ],
 "metadata": {
  "kernelspec": {
   "display_name": ".NET (C#)",
   "language": "C#",
   "name": ".net-csharp"
  },
  "language_info": {
   "file_extension": ".cs",
   "mimetype": "text/x-csharp",
   "name": "C#",
   "pygments_lexer": "csharp",
   "version": "8.0"
  }
 },
 "nbformat": 4,
 "nbformat_minor": 4
}