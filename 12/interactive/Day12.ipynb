{
 "cells": [
  {
   "cell_type": "markdown",
   "metadata": {},
   "source": [
    "# Day 12 - Steering a ship"
   ]
  },
  {
   "cell_type": "code",
   "execution_count": 1,
   "metadata": {},
   "source": [
    "using System.IO;\n",
    "\n",
    "var input = File.ReadAllLines(@\".\\input.txt\")\n",
    "    .Select(x => (instr: x[0], dist: Convert.ToInt32(x.Substring(1))))\n",
    "    .ToArray();\n",
    "\n",
    "input"
   ],
   "outputs": [
    {
     "output_type": "execute_result",
     "data": {
      "text/html": "<table><thead><tr><th><i>index</i></th><th>Item1</th><th>Item2</th></tr></thead><tbody><tr><td>0</td><td><div class=\"dni-plaintext\">F</div></td><td><div class=\"dni-plaintext\">35</div></td></tr><tr><td>1</td><td><div class=\"dni-plaintext\">L</div></td><td><div class=\"dni-plaintext\">90</div></td></tr><tr><td>2</td><td><div class=\"dni-plaintext\">S</div></td><td><div class=\"dni-plaintext\">5</div></td></tr><tr><td>3</td><td><div class=\"dni-plaintext\">F</div></td><td><div class=\"dni-plaintext\">4</div></td></tr><tr><td>4</td><td><div class=\"dni-plaintext\">R</div></td><td><div class=\"dni-plaintext\">90</div></td></tr><tr><td>5</td><td><div class=\"dni-plaintext\">F</div></td><td><div class=\"dni-plaintext\">46</div></td></tr><tr><td>6</td><td><div class=\"dni-plaintext\">W</div></td><td><div class=\"dni-plaintext\">3</div></td></tr><tr><td>7</td><td><div class=\"dni-plaintext\">N</div></td><td><div class=\"dni-plaintext\">1</div></td></tr><tr><td>8</td><td><div class=\"dni-plaintext\">L</div></td><td><div class=\"dni-plaintext\">90</div></td></tr><tr><td>9</td><td><div class=\"dni-plaintext\">F</div></td><td><div class=\"dni-plaintext\">13</div></td></tr><tr><td>10</td><td><div class=\"dni-plaintext\">S</div></td><td><div class=\"dni-plaintext\">5</div></td></tr><tr><td>11</td><td><div class=\"dni-plaintext\">E</div></td><td><div class=\"dni-plaintext\">5</div></td></tr><tr><td>12</td><td><div class=\"dni-plaintext\">R</div></td><td><div class=\"dni-plaintext\">180</div></td></tr><tr><td>13</td><td><div class=\"dni-plaintext\">S</div></td><td><div class=\"dni-plaintext\">1</div></td></tr><tr><td>14</td><td><div class=\"dni-plaintext\">F</div></td><td><div class=\"dni-plaintext\">39</div></td></tr><tr><td>15</td><td><div class=\"dni-plaintext\">N</div></td><td><div class=\"dni-plaintext\">2</div></td></tr><tr><td>16</td><td><div class=\"dni-plaintext\">R</div></td><td><div class=\"dni-plaintext\">90</div></td></tr><tr><td>17</td><td><div class=\"dni-plaintext\">S</div></td><td><div class=\"dni-plaintext\">1</div></td></tr><tr><td>18</td><td><div class=\"dni-plaintext\">F</div></td><td><div class=\"dni-plaintext\">94</div></td></tr><tr><td>19</td><td><div class=\"dni-plaintext\">R</div></td><td><div class=\"dni-plaintext\">90</div></td></tr><tr><td colspan=\"3\">(740 more)</td></tr></tbody></table>"
     },
     "execution_count": 1,
     "metadata": {}
    }
   ]
  },
  {
   "cell_type": "markdown",
   "metadata": {},
   "source": [
    "Let's see if we can draw this madness"
   ]
  },
  {
   "cell_type": "code",
   "execution_count": 1,
   "metadata": {},
   "source": [
    "using Microsoft.DotNet.Interactive.Events;\n",
    "int horiz = 80;\n",
    "int vert = 10;\n",
    "void FPS(DisplayedValue output, int faceDir, (int x, int y) curPos, (int x, int y) wp, int tick, int dist)\n",
    "{\n",
    "    var scene = $\"tick: {tick}, x: {curPos.x}, y: {curPos.y}, dist: {dist}\" + Environment.NewLine;\n",
    "    for(var y = curPos.y - vert; y<curPos.y + vert; y++)\n",
    "    {\n",
    "        for(var x = curPos.x - horiz; x<curPos.x + horiz; x++)\n",
    "        {\n",
    "            if (x == curPos.x && y == curPos.y) {\n",
    "                scene += faceDir switch {\n",
    "                    0 => \">\",\n",
    "                    90 => \"v\",\n",
    "                    180 => \"<\",\n",
    "                    _ => \"^\"\n",
    "                };\n",
    "            } else if (x == wp.x && y == wp.y) {\n",
    "                scene += \"X\";\n",
    "            } else if (x % 21 == 0 && y % 11 == 0 || x % 27 == 0 && (y + 6) % 11 == 0) {\n",
    "                scene += \"~\";\n",
    "            } else {\n",
    "                scene += \" \";\n",
    "            }\n",
    "        }\n",
    "        scene += Environment.NewLine;\n",
    "    }\n",
    "\n",
    "    output.Update(scene);\n",
    "}\n",
    "\n",
    "\n",
    "FPS(display(\"\"), 90, (40, 7), (51, 7), 1, 1)"
   ],
   "outputs": [
    {
     "output_type": "execute_result",
     "data": {
      "text/plain": "tick: 1, x: 40, y: 7, dist: 1\r\n                                                                                                                                                                \r\n                                                                                                                                                                \r\n                                                                                                                                                                \r\n                   ~                    ~                    ~                    ~                    ~                    ~                    ~              \r\n                                                                                                                                                                \r\n                                                                                                                                                                \r\n                                                                                                                                                                \r\n                                                                                                                                                                \r\n             ~                          ~                          ~                          ~                          ~                          ~           \r\n                                                                                                                                                                \r\n                                                                                v          X                                                                    \r\n                                                                                                                                                                \r\n                                                                                                                                                                \r\n                                                                                                                                                                \r\n                   ~                    ~                    ~                    ~                    ~                    ~                    ~              \r\n                                                                                                                                                                \r\n                                                                                                                                                                \r\n                                                                                                                                                                \r\n                                                                                                                                                                \r\n             ~                          ~                          ~                          ~                          ~                          ~           \r\n"
     },
     "execution_count": 1,
     "metadata": {}
    }
   ]
  },
  {
   "cell_type": "code",
   "execution_count": 1,
   "metadata": {},
   "source": [
    "using Microsoft.DotNet.Interactive.Events;\n",
    "void Animate(DisplayedValue output, int faceDir, (int x, int y) from, (int x, int y) to, (int x, int y) wp, int tick, int speed = 1) {\n",
    "    var diff = (x: to.x - from.x, y: to.y - from.y);\n",
    "    var dist = Math.Max((int)Math.Sqrt(diff.x*diff.x+diff.y*diff.y), 1);\n",
    "    var step = (float)speed/dist;\n",
    "    var iter = (float)dist/speed;\n",
    "    for(int i = 1, j = 1; i<iter; i+=speed, j++) {\n",
    "        var inc = (x: step * j * diff.x, y: step * j * diff.y);\n",
    "        var curr = (x: (int)((float)from.x + inc.x), y: (int)((float)from.y + inc.y));\n",
    "        FPS(output, faceDir, curr, (x: curr.x + wp.x, y: curr.y + wp.y), tick, dist);\n",
    "        System.Threading.Thread.Sleep(40);\n",
    "    }\n",
    "}"
   ],
   "outputs": []
  },
  {
   "cell_type": "markdown",
   "metadata": {},
   "source": [
    "## 12.1 Solution"
   ]
  },
  {
   "cell_type": "code",
   "execution_count": 1,
   "metadata": {},
   "source": [
    "var prevPos = (x: 0, y: 0);\n",
    "var curPos = (x: 0, y: 0);\n",
    "var faceDir = 0;\n",
    "var tick = 0;\n",
    "var output = display(String.Join(Environment.NewLine, new String[21]));\n",
    "FPS(output, faceDir, curPos, 1, 1);\n",
    "\n",
    "foreach(var op in input)\n",
    "{\n",
    "    faceDir = op.instr switch {\n",
    "        'L' => (faceDir - op.dist + 360) % 360,\n",
    "        'R' => (faceDir + op.dist) % 360,\n",
    "        _ => faceDir\n",
    "    };\n",
    "\n",
    "    prevPos = curPos;\n",
    "    curPos = op.instr switch {\n",
    "        'L' or 'R' => curPos,\n",
    "        'F' => faceDir switch {\n",
    "            0 => (x: curPos.x + op.dist, y: curPos.y), // east\n",
    "            90 => (x: curPos.x, y: curPos.y + op.dist), // south\n",
    "            180 => (x: curPos.x - op.dist, y: curPos.y), // west\n",
    "            270 => (x: curPos.x, y: curPos.y - op.dist), // north\n",
    "            _ => throw new Exception(\"Diagonals not supported\")\n",
    "        },\n",
    "        'E' => (x: curPos.x + op.dist, y: curPos.y),\n",
    "        'S' => (x: curPos.x, y: curPos.y + op.dist),\n",
    "        'W' => (x: curPos.x - op.dist, y: curPos.y),\n",
    "        'N' => (x: curPos.x, y: curPos.y - op.dist),\n",
    "        _ => throw new Exception(\"Not supported\")\n",
    "    };\n",
    "\n",
    "    Animate(output, faceDir, prevPos, curPos, curPos, tick++, 5);\n",
    "    //System.Threading.Thread.Sleep(100);\n",
    "    //FPS(output, faceDir, curPos);\n",
    "}\n",
    "\n",
    "Console.WriteLine(curPos.x + curPos.y);"
   ],
   "outputs": [
    {
     "output_type": "execute_result",
     "data": {
      "text/plain": "tick: 756, x: 401, y: 189, dist: 8\r\n                                                                                                                                                                \r\n                                                                                                                                                                \r\n   ~                          ~                          ~                          ~                          ~                          ~                     \r\n                                                                                                                                                                \r\n                                                                                                                                                                \r\n                                                                                                                                                                \r\n                                                                                                                                                                \r\n                                                                                                                                                                \r\n               ~                    ~                    ~                    ~                    ~                    ~                    ~                  \r\n                                                                                                                                                                \r\n                                                                                ^                                                                               \r\n                                                                                                                                                                \r\n                                                                                                                                                                \r\n   ~                          ~                          ~                          ~                          ~                          ~                     \r\n                                                                                                                                                                \r\n                                                                                                                                                                \r\n                                                                                                                                                                \r\n                                                                                                                                                                \r\n                                                                                                                                                                \r\n               ~                    ~                    ~                    ~                    ~                    ~                    ~                  \r\n"
     },
     "execution_count": 1,
     "metadata": {}
    },
    {
     "output_type": "execute_result",
     "data": {
      "text/plain": "590\r\n"
     },
     "execution_count": 1,
     "metadata": {}
    }
   ]
  },
  {
   "cell_type": "markdown",
   "metadata": {},
   "source": [
    "## 12.2 Sample solution"
   ]
  },
  {
   "cell_type": "code",
   "execution_count": 1,
   "metadata": {},
   "source": [
    "var sample = new[]{\"F10\", \"N3\", \"F7\", \"L90\", \"F11\"}\n",
    "    .Select(x => (instr: x[0], dist: Convert.ToInt32(x.Substring(1))))\n",
    "    .ToArray();\n",
    "\n",
    "var itinerary = new List<(char op, int dist, int x, int y, int z, int i)>();\n",
    "var curWP = (x: 10, y: -1);\n",
    "var prevPos = (x: 0, y: 0);\n",
    "var curPos = (x: 0, y: 0);\n",
    "var faceDir = 0;\n",
    "var tick = 0;\n",
    "\n",
    "var output = display(String.Join(Environment.NewLine, new String[21]));\n",
    "FPS(output, faceDir, curPos, 1, 1);\n",
    "\n",
    "foreach(var op in sample)\n",
    "{\n",
    "    curWP = op.instr switch {\n",
    "        'F' => curWP,\n",
    "        'L' => (\n",
    "            x: (int)Math.Round(curWP.x * Math.Cos(-1*op.dist/180.0*Math.PI) - curWP.y * Math.Sin(-1*op.dist/180.0*Math.PI)), \n",
    "            y: (int)Math.Round(curWP.x * Math.Sin(-1*op.dist/180.0*Math.PI) + curWP.y * Math.Cos(-1*op.dist/180.0*Math.PI))\n",
    "        ),\n",
    "        'R' => (\n",
    "            x: (int)Math.Round(curWP.x * Math.Cos(op.dist/180.0*Math.PI) - curWP.y * Math.Sin(op.dist/180.0*Math.PI)), \n",
    "            y: (int)Math.Round(curWP.x * Math.Sin(op.dist/180.0*Math.PI) + curWP.y * Math.Cos(op.dist/180.0*Math.PI))\n",
    "        ),\n",
    "        'E' => (x: curWP.x + op.dist, y: curWP.y),\n",
    "        'S' => (x: curWP.x, y: curWP.y + op.dist),\n",
    "        'W' => (x: curWP.x - op.dist, y: curWP.y),\n",
    "        'N' => (x: curWP.x, y: curWP.y - op.dist),\n",
    "        _ => throw new Exception(\"Not supported\")\n",
    "    };\n",
    "\n",
    "    faceDir = ((int)Math.Round(Math.Atan2(curWP.y, curWP.x)/(Math.PI*2)*4) * 90 + 360) % 360;\n",
    "\n",
    "    prevPos = curPos;\n",
    "    curPos = op.instr switch {\n",
    "        'F' => (x: curPos.x + curWP.x * op.dist, y: curPos.y + curWP.y * op.dist),\n",
    "        _ => curPos\n",
    "    };\n",
    "\n",
    "    tick++;\n",
    "    if (op.instr == 'F') {\n",
    "        Animate(output, faceDir, prevPos, curPos, curWP, tick, 2);\n",
    "    }\n",
    "    itinerary.Add((op.instr, op.dist, curWP.x, curWP.y, curPos.x, curPos.y));\n",
    "}\n",
    "\n",
    "Console.WriteLine(curPos.x + curPos.y);\n",
    "\n",
    "itinerary"
   ],
   "outputs": [
    {
     "output_type": "execute_result",
     "data": {
      "text/plain": "tick: 5, x: 148, y: -92, dist: 118\r\n                                                                            X                                                                                   \r\n                                                                                                                                                                \r\n                                                                                                                                                                \r\n                ~                    ~                    ~                    ~                    ~                    ~                    ~                 \r\n                                                                                                                                                                \r\n                                                                                                                                                                \r\n                                                                                                                                                                \r\n                                                                                                                                                                \r\n             ~                          ~                          ~                          ~                          ~                          ~           \r\n                                                                                                                                                                \r\n                                                                                ^                                                                               \r\n                                                                                                                                                                \r\n                                                                                                                                                                \r\n                                                                                                                                                                \r\n                ~                    ~                    ~                    ~                    ~                    ~                    ~                 \r\n                                                                                                                                                                \r\n                                                                                                                                                                \r\n                                                                                                                                                                \r\n                                                                                                                                                                \r\n             ~                          ~                          ~                          ~                          ~                          ~           \r\n"
     },
     "execution_count": 1,
     "metadata": {}
    },
    {
     "output_type": "execute_result",
     "data": {
      "text/plain": "-22\r\n"
     },
     "execution_count": 1,
     "metadata": {}
    },
    {
     "output_type": "execute_result",
     "data": {
      "text/html": "<table><thead><tr><th><i>index</i></th><th>Item1</th><th>Item2</th><th>Item3</th><th>Item4</th><th>Item5</th><th>Item6</th></tr></thead><tbody><tr><td>0</td><td><div class=\"dni-plaintext\">F</div></td><td><div class=\"dni-plaintext\">10</div></td><td><div class=\"dni-plaintext\">10</div></td><td><div class=\"dni-plaintext\">-1</div></td><td><div class=\"dni-plaintext\">100</div></td><td><div class=\"dni-plaintext\">-10</div></td></tr><tr><td>1</td><td><div class=\"dni-plaintext\">N</div></td><td><div class=\"dni-plaintext\">3</div></td><td><div class=\"dni-plaintext\">10</div></td><td><div class=\"dni-plaintext\">-4</div></td><td><div class=\"dni-plaintext\">100</div></td><td><div class=\"dni-plaintext\">-10</div></td></tr><tr><td>2</td><td><div class=\"dni-plaintext\">F</div></td><td><div class=\"dni-plaintext\">7</div></td><td><div class=\"dni-plaintext\">10</div></td><td><div class=\"dni-plaintext\">-4</div></td><td><div class=\"dni-plaintext\">170</div></td><td><div class=\"dni-plaintext\">-38</div></td></tr><tr><td>3</td><td><div class=\"dni-plaintext\">L</div></td><td><div class=\"dni-plaintext\">90</div></td><td><div class=\"dni-plaintext\">-4</div></td><td><div class=\"dni-plaintext\">-10</div></td><td><div class=\"dni-plaintext\">170</div></td><td><div class=\"dni-plaintext\">-38</div></td></tr><tr><td>4</td><td><div class=\"dni-plaintext\">F</div></td><td><div class=\"dni-plaintext\">11</div></td><td><div class=\"dni-plaintext\">-4</div></td><td><div class=\"dni-plaintext\">-10</div></td><td><div class=\"dni-plaintext\">126</div></td><td><div class=\"dni-plaintext\">-148</div></td></tr></tbody></table>"
     },
     "execution_count": 1,
     "metadata": {}
    }
   ]
  },
  {
   "cell_type": "markdown",
   "metadata": {},
   "source": [
    "## 12.2 Solution"
   ]
  },
  {
   "cell_type": "code",
   "execution_count": 1,
   "metadata": {},
   "source": [
    "var itinerary = new List<(char op, int dist, int x, int y, int z, int i)>();\n",
    "var curWP = (x: 10, y: -1);\n",
    "var curPos = (x: 0, y: 0);\n",
    "var prevPos = curPos;\n",
    "var faceDir = 0;\n",
    "var tick = 0;\n",
    "\n",
    "var output = display(String.Join(Environment.NewLine, new String[21]));\n",
    "FPS(output, faceDir, curPos, curPos, 1, 1);\n",
    "\n",
    "foreach(var op in input)\n",
    "{\n",
    "    curWP = op.instr switch {\n",
    "        'F' => curWP,\n",
    "        'L' => (\n",
    "            x: (int)Math.Round(curWP.x * Math.Cos(-1.0*op.dist/180.0*Math.PI) - curWP.y * Math.Sin(-1.0*op.dist/180.0*Math.PI)), \n",
    "            y: (int)Math.Round(curWP.x * Math.Sin(-1.0*op.dist/180.0*Math.PI) + curWP.y * Math.Cos(-1.0*op.dist/180.0*Math.PI))\n",
    "        ),\n",
    "        'R' => (\n",
    "            x: (int)Math.Round(curWP.x * Math.Cos(op.dist/180.0*Math.PI) - curWP.y * Math.Sin(op.dist/180.0*Math.PI)), \n",
    "            y: (int)Math.Round(curWP.x * Math.Sin(op.dist/180.0*Math.PI) + curWP.y * Math.Cos(op.dist/180.0*Math.PI))\n",
    "        ),\n",
    "        'E' => (x: curWP.x + op.dist, y: curWP.y),\n",
    "        'S' => (x: curWP.x, y: curWP.y + op.dist),\n",
    "        'W' => (x: curWP.x - op.dist, y: curWP.y),\n",
    "        'N' => (x: curWP.x, y: curWP.y - op.dist),\n",
    "        _ => throw new Exception(\"Not supported\")\n",
    "    };\n",
    "\n",
    "    prevPos = curPos;\n",
    "    curPos = op.instr switch {\n",
    "        'F' => (x: curPos.x + curWP.x * op.dist, y: curPos.y + curWP.y * op.dist),\n",
    "        _ => curPos\n",
    "    };\n",
    "\n",
    "    faceDir = ((int)Math.Round(Math.Atan2(curWP.y, curWP.x)/(Math.PI*2)*4) * 90 + 360) % 360;\n",
    "\n",
    "    tick++;\n",
    "    if (op.instr == 'F') {\n",
    "        Animate(output, faceDir, prevPos, curPos, curWP, tick, 5);\n",
    "    }\n",
    "\n",
    "    itinerary.Add((op.instr, op.dist, curWP.x, curWP.y, curPos.x, curPos.y));\n",
    "}\n",
    "\n",
    "Console.WriteLine(Math.Abs(curPos.x) + Math.Abs(curPos.y));\n",
    "\n",
    "itinerary"
   ],
   "outputs": [
    {
     "output_type": "error",
     "ename": "Error",
     "evalue": "(40,9): error CS0103: The name 'Animate' does not exist in the current context",
     "traceback": []
    }
   ]
  }
 ],
 "metadata": {
  "kernelspec": {
   "display_name": ".NET (C#)",
   "language": "C#",
   "name": ".net-csharp"
  },
  "language_info": {
   "file_extension": ".cs",
   "mimetype": "text/x-csharp",
   "name": "C#",
   "pygments_lexer": "csharp",
   "version": "8.0"
  }
 },
 "nbformat": 4,
 "nbformat_minor": 4
}