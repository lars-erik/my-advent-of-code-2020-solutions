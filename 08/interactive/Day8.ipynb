{
 "cells": [
  {
   "cell_type": "markdown",
   "metadata": {},
   "source": [
    "8.1 Sample"
   ]
  },
  {
   "cell_type": "code",
   "execution_count": 1,
   "metadata": {},
   "source": [
    "var sample = System.IO.File.ReadAllText(@\".\\sample.txt\").Split(Environment.NewLine);\n",
    "sample"
   ],
   "outputs": [
    {
     "output_type": "execute_result",
     "data": {
      "text/html": "<table><thead><tr><th><i>index</i></th><th>value</th></tr></thead><tbody><tr><td>0</td><td><div class=\"dni-plaintext\">nop +0</div></td></tr><tr><td>1</td><td><div class=\"dni-plaintext\">acc +1</div></td></tr><tr><td>2</td><td><div class=\"dni-plaintext\">jmp +4</div></td></tr><tr><td>3</td><td><div class=\"dni-plaintext\">acc +3</div></td></tr><tr><td>4</td><td><div class=\"dni-plaintext\">jmp -3</div></td></tr><tr><td>5</td><td><div class=\"dni-plaintext\">acc -99</div></td></tr><tr><td>6</td><td><div class=\"dni-plaintext\">acc +1</div></td></tr><tr><td>7</td><td><div class=\"dni-plaintext\">jmp -4</div></td></tr><tr><td>8</td><td><div class=\"dni-plaintext\">acc +6</div></td></tr></tbody></table>"
     },
     "execution_count": 1,
     "metadata": {}
    }
   ]
  },
  {
   "cell_type": "code",
   "execution_count": 1,
   "metadata": {},
   "source": [
    "List<string> allPossible = new List<string>();\n",
    "var parentNames = new[]{\"shiny gold bag\"};\n",
    "int rounds = 0;\n",
    "Console.Out.WriteLine(String.Join(\", \", parentNames));\n",
    "while(parentNames.Length > 0 && rounds++ < 100)\n",
    "{\n",
    "    parentNames = sample.Select(x => x.Split(new[]{\" contain \", \", \"}, StringSplitOptions.None))\n",
    "        .Where(x => x.Skip(1).Any(y => parentNames.Any(z => y.Contains(z))))\n",
    "        .Select(x => x.First().TrimEnd('s'))\n",
    "        .ToArray();\n",
    "    Console.Out.WriteLine(rounds + \" \" + String.Join(\", \", parentNames));\n",
    "    allPossible.AddRange(parentNames);\n",
    "}\n",
    "allPossible"
   ],
   "outputs": [
    {
     "output_type": "execute_result",
     "data": {
      "text/plain": "shiny gold bag\r\n"
     },
     "execution_count": 1,
     "metadata": {}
    },
    {
     "output_type": "execute_result",
     "data": {
      "text/plain": "1 bright white bag, muted yellow bag\r\n"
     },
     "execution_count": 1,
     "metadata": {}
    },
    {
     "output_type": "execute_result",
     "data": {
      "text/plain": "2 light red bag, dark orange bag\r\n"
     },
     "execution_count": 1,
     "metadata": {}
    },
    {
     "output_type": "execute_result",
     "data": {
      "text/plain": "3 \r\n"
     },
     "execution_count": 1,
     "metadata": {}
    },
    {
     "output_type": "execute_result",
     "data": {
      "text/html": "<table><thead><tr><th><i>index</i></th><th>value</th></tr></thead><tbody><tr><td>0</td><td><div class=\"dni-plaintext\">bright white bag</div></td></tr><tr><td>1</td><td><div class=\"dni-plaintext\">muted yellow bag</div></td></tr><tr><td>2</td><td><div class=\"dni-plaintext\">light red bag</div></td></tr><tr><td>3</td><td><div class=\"dni-plaintext\">dark orange bag</div></td></tr></tbody></table>"
     },
     "execution_count": 1,
     "metadata": {}
    }
   ]
  },
  {
   "cell_type": "markdown",
   "metadata": {},
   "source": [
    "8.1 Input"
   ]
  },
  {
   "cell_type": "code",
   "execution_count": 1,
   "metadata": {},
   "source": [
    "var input = System.IO.File.ReadAllText(@\".\\input.txt\").Split(Environment.NewLine);\n",
    "input"
   ],
   "outputs": [
    {
     "output_type": "execute_result",
     "data": {
      "text/html": "<table><thead><tr><th><i>index</i></th><th>value</th></tr></thead><tbody><tr><td>0</td><td><div class=\"dni-plaintext\">nop +283</div></td></tr><tr><td>1</td><td><div class=\"dni-plaintext\">acc +26</div></td></tr><tr><td>2</td><td><div class=\"dni-plaintext\">acc +37</div></td></tr><tr><td>3</td><td><div class=\"dni-plaintext\">acc +6</div></td></tr><tr><td>4</td><td><div class=\"dni-plaintext\">jmp +109</div></td></tr><tr><td>5</td><td><div class=\"dni-plaintext\">acc +10</div></td></tr><tr><td>6</td><td><div class=\"dni-plaintext\">jmp +18</div></td></tr><tr><td>7</td><td><div class=\"dni-plaintext\">acc +5</div></td></tr><tr><td>8</td><td><div class=\"dni-plaintext\">jmp +327</div></td></tr><tr><td>9</td><td><div class=\"dni-plaintext\">acc -4</div></td></tr><tr><td>10</td><td><div class=\"dni-plaintext\">jmp +269</div></td></tr><tr><td>11</td><td><div class=\"dni-plaintext\">acc -7</div></td></tr><tr><td>12</td><td><div class=\"dni-plaintext\">acc +27</div></td></tr><tr><td>13</td><td><div class=\"dni-plaintext\">nop +7</div></td></tr><tr><td>14</td><td><div class=\"dni-plaintext\">acc +0</div></td></tr><tr><td>15</td><td><div class=\"dni-plaintext\">jmp +81</div></td></tr><tr><td>16</td><td><div class=\"dni-plaintext\">acc +42</div></td></tr><tr><td>17</td><td><div class=\"dni-plaintext\">nop +338</div></td></tr><tr><td>18</td><td><div class=\"dni-plaintext\">acc -5</div></td></tr><tr><td>19</td><td><div class=\"dni-plaintext\">jmp +391</div></td></tr><tr><td colspan=\"2\">(611 more)</td></tr></tbody></table>"
     },
     "execution_count": 1,
     "metadata": {}
    }
   ]
  },
  {
   "cell_type": "code",
   "execution_count": 1,
   "metadata": {},
   "source": [
    "List<(int i, string newOp)> attempts = input\n",
    "    .Select((x, i) => (i, newOp:x.StartsWith(\"jmp\") ? \"nop\" : x.StartsWith(\"nop\") ? \"jmp\" : x.Substring(0, 3)))\n",
    "    .Where(x => x.newOp == \"jmp\" || x.newOp == \"nop\")\n",
    "    .ToList();\n",
    "attempts"
   ],
   "outputs": [
    {
     "output_type": "execute_result",
     "data": {
      "text/html": "<table><thead><tr><th><i>index</i></th><th>Item1</th><th>Item2</th></tr></thead><tbody><tr><td>0</td><td><div class=\"dni-plaintext\">0</div></td><td><div class=\"dni-plaintext\">jmp</div></td></tr><tr><td>1</td><td><div class=\"dni-plaintext\">4</div></td><td><div class=\"dni-plaintext\">nop</div></td></tr><tr><td>2</td><td><div class=\"dni-plaintext\">6</div></td><td><div class=\"dni-plaintext\">nop</div></td></tr><tr><td>3</td><td><div class=\"dni-plaintext\">8</div></td><td><div class=\"dni-plaintext\">nop</div></td></tr><tr><td>4</td><td><div class=\"dni-plaintext\">10</div></td><td><div class=\"dni-plaintext\">nop</div></td></tr><tr><td>5</td><td><div class=\"dni-plaintext\">13</div></td><td><div class=\"dni-plaintext\">jmp</div></td></tr><tr><td>6</td><td><div class=\"dni-plaintext\">15</div></td><td><div class=\"dni-plaintext\">nop</div></td></tr><tr><td>7</td><td><div class=\"dni-plaintext\">17</div></td><td><div class=\"dni-plaintext\">jmp</div></td></tr><tr><td>8</td><td><div class=\"dni-plaintext\">19</div></td><td><div class=\"dni-plaintext\">nop</div></td></tr><tr><td>9</td><td><div class=\"dni-plaintext\">20</div></td><td><div class=\"dni-plaintext\">jmp</div></td></tr><tr><td>10</td><td><div class=\"dni-plaintext\">21</div></td><td><div class=\"dni-plaintext\">nop</div></td></tr><tr><td>11</td><td><div class=\"dni-plaintext\">23</div></td><td><div class=\"dni-plaintext\">nop</div></td></tr><tr><td>12</td><td><div class=\"dni-plaintext\">28</div></td><td><div class=\"dni-plaintext\">nop</div></td></tr><tr><td>13</td><td><div class=\"dni-plaintext\">33</div></td><td><div class=\"dni-plaintext\">nop</div></td></tr><tr><td>14</td><td><div class=\"dni-plaintext\">35</div></td><td><div class=\"dni-plaintext\">nop</div></td></tr><tr><td>15</td><td><div class=\"dni-plaintext\">40</div></td><td><div class=\"dni-plaintext\">nop</div></td></tr><tr><td>16</td><td><div class=\"dni-plaintext\">42</div></td><td><div class=\"dni-plaintext\">nop</div></td></tr><tr><td>17</td><td><div class=\"dni-plaintext\">43</div></td><td><div class=\"dni-plaintext\">nop</div></td></tr><tr><td>18</td><td><div class=\"dni-plaintext\">44</div></td><td><div class=\"dni-plaintext\">nop</div></td></tr><tr><td>19</td><td><div class=\"dni-plaintext\">48</div></td><td><div class=\"dni-plaintext\">nop</div></td></tr><tr><td colspan=\"3\">(274 more)</td></tr></tbody></table>"
     },
     "execution_count": 1,
     "metadata": {}
    }
   ]
  },
  {
   "cell_type": "code",
   "execution_count": 1,
   "metadata": {},
   "source": [
    "var output = display(\"Starting\");\n",
    "\n",
    "public record Operation(String op, int Value)\n",
    "{\n",
    "    public bool Visited {get; private set;}\n",
    "    public void Visit()\n",
    "    {\n",
    "        Visited = true;\n",
    "    }\n",
    "};\n",
    "\n",
    "var maxRounds = 10000;\n",
    "var tick = 0;\n",
    "var acc = 0;\n",
    "var i = 0;\n",
    "List<(int i, Operation op)> opLog = new List<(int i, Operation op)>();\n",
    "Operation prevOp;\n",
    "int prevI;\n",
    "var prevAttempt = \"\";\n",
    "\n",
    "foreach(var attempt in attempts)\n",
    "{\n",
    "    output.Update($\"Attempt: {attempt}, Prev: {prevAttempt}\");\n",
    "\n",
    "    try\n",
    "    {\n",
    "        maxRounds = 10000;\n",
    "        tick = 0;\n",
    "        acc = 0;\n",
    "        i = 0;\n",
    "        opLog = new List<(int i, Operation op)>();\n",
    "        prevOp = null;\n",
    "        prevI = -1;\n",
    "\n",
    "        var ops = input.Select(x => {\n",
    "            var parts = x.Split(' ');\n",
    "            return new Operation(parts[0], Convert.ToInt32(parts[1]));\n",
    "        }).ToArray();\n",
    "\n",
    "        ops[attempt.i] = ops[attempt.i] with { op = attempt.newOp };\n",
    "        while(true && tick++ < maxRounds)\n",
    "        {\n",
    "            Func<Operation, int> doAcc = (op) => {\n",
    "                acc+=op.Value;\n",
    "                return i + 1;\n",
    "            };\n",
    "\n",
    "            var op = ops[i];\n",
    "\n",
    "            prevOp = op;\n",
    "            opLog.Add((i, op));\n",
    "            prevI = i;\n",
    "\n",
    "            if (op.Visited) {\n",
    "                // foreach(var log in opLog.Where(x => x.op.op == \"jmp\" || x.op.op == \"nop\")) {\n",
    "                //     Console.WriteLine($\"({log.i}, \\\"{log.op.op}\\\"),\");\n",
    "                // }\n",
    "                // Console.WriteLine($\"{tick} {i} {op}\");\n",
    "                throw new Exception(\"Looped\");\n",
    "            }\n",
    "\n",
    "            i = op switch {\n",
    "                // {Visited: true} => -1,\n",
    "                {op: \"nop\"} => i + 1,\n",
    "                {op: \"acc\"} => doAcc(op),\n",
    "                {op: \"jmp\"} => i + op.Value,\n",
    "                _ => throw new Exception(\"Unknown op\")\n",
    "            };\n",
    "            // output.Update($\"{tick}: {op.op} {op.Value} {op.Visited} > {i} {acc}\");\n",
    "\n",
    "            op.Visit();\n",
    "\n",
    "            if (i >= ops.Length - 1)\n",
    "            {\n",
    "                Console.WriteLine(attempt.i);\n",
    "                Console.WriteLine(\"Terminated\");\n",
    "                break;\n",
    "            }\n",
    "\n",
    "            if (tick % 100 == 0)\n",
    "            {\n",
    "                System.Threading.Thread.Sleep(100);\n",
    "            }\n",
    "\n",
    "            if (i < 0 || i >= ops.Length) break;\n",
    "        }\n",
    "    }\n",
    "    catch(Exception ex)\n",
    "    {\n",
    "        prevAttempt = ex.Message;\n",
    "        // Console.WriteLine(\"Next attempt\");\n",
    "        System.Threading.Thread.Sleep(100);\n",
    "        continue;\n",
    "    }\n",
    "    break;\n",
    "}\n",
    "\n",
    "acc"
   ],
   "outputs": [
    {
     "output_type": "execute_result",
     "data": {
      "text/plain": "Attempt: (304, nop), Prev: Looped"
     },
     "execution_count": 1,
     "metadata": {}
    },
    {
     "output_type": "execute_result",
     "data": {
      "text/plain": "304\r\n"
     },
     "execution_count": 1,
     "metadata": {}
    },
    {
     "output_type": "execute_result",
     "data": {
      "text/plain": "Terminated\r\n"
     },
     "execution_count": 1,
     "metadata": {}
    },
    {
     "output_type": "execute_result",
     "data": {
      "text/html": "<div class=\"dni-plaintext\">1089</div>"
     },
     "execution_count": 1,
     "metadata": {}
    }
   ]
  }
 ],
 "metadata": {
  "kernelspec": {
   "display_name": ".NET (C#)",
   "language": "C#",
   "name": ".net-csharp"
  },
  "language_info": {
   "file_extension": ".cs",
   "mimetype": "text/x-csharp",
   "name": "C#",
   "pygments_lexer": "csharp",
   "version": "8.0"
  }
 },
 "nbformat": 4,
 "nbformat_minor": 4
}