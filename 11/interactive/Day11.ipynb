{
 "cells": [
  {
   "cell_type": "markdown",
   "metadata": {},
   "source": [
    "## Day 11"
   ]
  },
  {
   "cell_type": "markdown",
   "metadata": {},
   "source": [
    "## 11.1 Sample"
   ]
  },
  {
   "cell_type": "code",
   "execution_count": 1,
   "metadata": {},
   "source": [
    "var sampleFloor = System.IO.File\n",
    "    .ReadAllLines(@\".\\sample.txt\")\n",
    "    .Select(x => x.ToCharArray())\n",
    "    .ToArray();\n",
    "sampleFloor"
   ],
   "outputs": [
    {
     "output_type": "execute_result",
     "data": {
      "text/html": "<table><thead><tr><th><i>index</i></th><th>value</th></tr></thead><tbody><tr><td>0</td><td><div class=\"dni-plaintext\">[ L, ., L, L, ., L, L, ., L, L ]</div></td></tr><tr><td>1</td><td><div class=\"dni-plaintext\">[ L, L, L, L, L, L, L, ., L, L ]</div></td></tr><tr><td>2</td><td><div class=\"dni-plaintext\">[ L, ., L, ., L, ., ., L, ., . ]</div></td></tr><tr><td>3</td><td><div class=\"dni-plaintext\">[ L, L, L, L, ., L, L, ., L, L ]</div></td></tr><tr><td>4</td><td><div class=\"dni-plaintext\">[ L, ., L, L, ., L, L, ., L, L ]</div></td></tr><tr><td>5</td><td><div class=\"dni-plaintext\">[ L, ., L, L, L, L, L, ., L, L ]</div></td></tr><tr><td>6</td><td><div class=\"dni-plaintext\">[ ., ., L, ., L, ., ., ., ., . ]</div></td></tr><tr><td>7</td><td><div class=\"dni-plaintext\">[ L, L, L, L, L, L, L, L, L, L ]</div></td></tr><tr><td>8</td><td><div class=\"dni-plaintext\">[ L, ., L, L, L, L, L, L, ., L ]</div></td></tr><tr><td>9</td><td><div class=\"dni-plaintext\">[ L, ., L, L, L, L, L, ., L, L ]</div></td></tr></tbody></table>"
     },
     "execution_count": 1,
     "metadata": {}
    }
   ]
  },
  {
   "cell_type": "code",
   "execution_count": 1,
   "metadata": {},
   "source": [
    "var output = display(\"\");\n",
    "\n",
    "record Seat(int X, int Y)\n",
    "{\n",
    "    public bool NextState {get; set;}\n",
    "    public bool Seated {get; set;}\n",
    "}\n",
    "var seats = sampleFloor\n",
    "    .SelectMany((row, y) => \n",
    "        row.Select((col, x) => col == 'L' ? new Seat(x, y) : null)\n",
    "    )\n",
    "    .Where(seat => seat != null)\n",
    "    .ToDictionary(seat => (seat.X, seat.Y));\n",
    "\n",
    "void drawPlan()\n",
    "{\n",
    "    var view = \"\";\n",
    "    for(var y = 0; y<sampleFloor.Length; y++) {\n",
    "        for(var x = 0; x<sampleFloor[0].Length; x++) {\n",
    "            if (seats.ContainsKey((x, y))) {\n",
    "                view += seats[(x, y)].Seated ? '#' : 'L';\n",
    "            } else {\n",
    "                view += \".\";\n",
    "            }\n",
    "        }\n",
    "        view += Environment.NewLine;\n",
    "    }\n",
    "    output.Update(view);\n",
    "}\n",
    "\n",
    "var changes = -1;\n",
    "var rounds = 0;\n",
    "var maxRounds = 1000;\n",
    "\n",
    "drawPlan();\n",
    "\n",
    "while(changes != 0 && rounds++ < maxRounds)\n",
    "{\n",
    "    changes=0;\n",
    "    foreach(var key in seats.Keys)\n",
    "    {\n",
    "        var neighbours = 0;\n",
    "        for(var y = -1; y<=1; y++)\n",
    "        {\n",
    "            for(var x = -1; x<=1; x++)\n",
    "            {\n",
    "                if (y == 0 && x == 0) continue;\n",
    "                var testCoord = (seats[key].X + x, seats[key].Y + y);\n",
    "                if (seats.ContainsKey(testCoord) && seats[testCoord].Seated)\n",
    "                {\n",
    "                    neighbours++;\n",
    "                }\n",
    "            }\n",
    "        }\n",
    "        if (neighbours == 0 && !seats[key].Seated)\n",
    "        {\n",
    "            seats[key].NextState = true;\n",
    "            changes++;\n",
    "        }\n",
    "        else if (neighbours >= 4 && seats[key].Seated)\n",
    "        {\n",
    "            seats[key].NextState = false;\n",
    "            changes++;\n",
    "        }\n",
    "    }\n",
    "    foreach(var key in seats.Keys)\n",
    "    {\n",
    "        seats[key].Seated = seats[key].NextState;\n",
    "    }\n",
    "\n",
    "    System.Threading.Thread.Sleep(1000);\n",
    "    drawPlan();\n",
    "}\n",
    "\n",
    "drawPlan();\n",
    "\n",
    "Console.WriteLine(seats.Values.Count(x => x.Seated));\n",
    "\n",
    "seats"
   ],
   "outputs": [
    {
     "output_type": "execute_result",
     "data": {
      "text/plain": "#.#L.L#.##\r\n#LLL#LL.L#\r\nL.#.L..#..\r\n#L##.##.L#\r\n#.#L.LL.LL\r\n#.#L#L#.##\r\n..L.L.....\r\n#L#L##L#L#\r\n#.LLLLLL.L\r\n#.#L#L#.##\r\n"
     },
     "execution_count": 1,
     "metadata": {}
    },
    {
     "output_type": "execute_result",
     "data": {
      "text/plain": "37\r\n"
     },
     "execution_count": 1,
     "metadata": {}
    },
    {
     "output_type": "execute_result",
     "data": {
      "text/html": "<table><thead><tr><th><i>key</i></th><th>X</th><th>Y</th><th>NextState</th><th>Seated</th></tr></thead><tbody><tr><td><div class=\"dni-plaintext\">( 0, 0 )</div></td><td><div class=\"dni-plaintext\">0</div></td><td><div class=\"dni-plaintext\">0</div></td><td><div class=\"dni-plaintext\">True</div></td><td><div class=\"dni-plaintext\">True</div></td></tr><tr><td><div class=\"dni-plaintext\">( 2, 0 )</div></td><td><div class=\"dni-plaintext\">2</div></td><td><div class=\"dni-plaintext\">0</div></td><td><div class=\"dni-plaintext\">True</div></td><td><div class=\"dni-plaintext\">True</div></td></tr><tr><td><div class=\"dni-plaintext\">( 3, 0 )</div></td><td><div class=\"dni-plaintext\">3</div></td><td><div class=\"dni-plaintext\">0</div></td><td><div class=\"dni-plaintext\">False</div></td><td><div class=\"dni-plaintext\">False</div></td></tr><tr><td><div class=\"dni-plaintext\">( 5, 0 )</div></td><td><div class=\"dni-plaintext\">5</div></td><td><div class=\"dni-plaintext\">0</div></td><td><div class=\"dni-plaintext\">False</div></td><td><div class=\"dni-plaintext\">False</div></td></tr><tr><td><div class=\"dni-plaintext\">( 6, 0 )</div></td><td><div class=\"dni-plaintext\">6</div></td><td><div class=\"dni-plaintext\">0</div></td><td><div class=\"dni-plaintext\">True</div></td><td><div class=\"dni-plaintext\">True</div></td></tr><tr><td><div class=\"dni-plaintext\">( 8, 0 )</div></td><td><div class=\"dni-plaintext\">8</div></td><td><div class=\"dni-plaintext\">0</div></td><td><div class=\"dni-plaintext\">True</div></td><td><div class=\"dni-plaintext\">True</div></td></tr><tr><td><div class=\"dni-plaintext\">( 9, 0 )</div></td><td><div class=\"dni-plaintext\">9</div></td><td><div class=\"dni-plaintext\">0</div></td><td><div class=\"dni-plaintext\">True</div></td><td><div class=\"dni-plaintext\">True</div></td></tr><tr><td><div class=\"dni-plaintext\">( 0, 1 )</div></td><td><div class=\"dni-plaintext\">0</div></td><td><div class=\"dni-plaintext\">1</div></td><td><div class=\"dni-plaintext\">True</div></td><td><div class=\"dni-plaintext\">True</div></td></tr><tr><td><div class=\"dni-plaintext\">( 1, 1 )</div></td><td><div class=\"dni-plaintext\">1</div></td><td><div class=\"dni-plaintext\">1</div></td><td><div class=\"dni-plaintext\">False</div></td><td><div class=\"dni-plaintext\">False</div></td></tr><tr><td><div class=\"dni-plaintext\">( 2, 1 )</div></td><td><div class=\"dni-plaintext\">2</div></td><td><div class=\"dni-plaintext\">1</div></td><td><div class=\"dni-plaintext\">False</div></td><td><div class=\"dni-plaintext\">False</div></td></tr><tr><td><div class=\"dni-plaintext\">( 3, 1 )</div></td><td><div class=\"dni-plaintext\">3</div></td><td><div class=\"dni-plaintext\">1</div></td><td><div class=\"dni-plaintext\">False</div></td><td><div class=\"dni-plaintext\">False</div></td></tr><tr><td><div class=\"dni-plaintext\">( 4, 1 )</div></td><td><div class=\"dni-plaintext\">4</div></td><td><div class=\"dni-plaintext\">1</div></td><td><div class=\"dni-plaintext\">True</div></td><td><div class=\"dni-plaintext\">True</div></td></tr><tr><td><div class=\"dni-plaintext\">( 5, 1 )</div></td><td><div class=\"dni-plaintext\">5</div></td><td><div class=\"dni-plaintext\">1</div></td><td><div class=\"dni-plaintext\">False</div></td><td><div class=\"dni-plaintext\">False</div></td></tr><tr><td><div class=\"dni-plaintext\">( 6, 1 )</div></td><td><div class=\"dni-plaintext\">6</div></td><td><div class=\"dni-plaintext\">1</div></td><td><div class=\"dni-plaintext\">False</div></td><td><div class=\"dni-plaintext\">False</div></td></tr><tr><td><div class=\"dni-plaintext\">( 8, 1 )</div></td><td><div class=\"dni-plaintext\">8</div></td><td><div class=\"dni-plaintext\">1</div></td><td><div class=\"dni-plaintext\">False</div></td><td><div class=\"dni-plaintext\">False</div></td></tr><tr><td><div class=\"dni-plaintext\">( 9, 1 )</div></td><td><div class=\"dni-plaintext\">9</div></td><td><div class=\"dni-plaintext\">1</div></td><td><div class=\"dni-plaintext\">True</div></td><td><div class=\"dni-plaintext\">True</div></td></tr><tr><td><div class=\"dni-plaintext\">( 0, 2 )</div></td><td><div class=\"dni-plaintext\">0</div></td><td><div class=\"dni-plaintext\">2</div></td><td><div class=\"dni-plaintext\">False</div></td><td><div class=\"dni-plaintext\">False</div></td></tr><tr><td><div class=\"dni-plaintext\">( 2, 2 )</div></td><td><div class=\"dni-plaintext\">2</div></td><td><div class=\"dni-plaintext\">2</div></td><td><div class=\"dni-plaintext\">True</div></td><td><div class=\"dni-plaintext\">True</div></td></tr><tr><td><div class=\"dni-plaintext\">( 4, 2 )</div></td><td><div class=\"dni-plaintext\">4</div></td><td><div class=\"dni-plaintext\">2</div></td><td><div class=\"dni-plaintext\">False</div></td><td><div class=\"dni-plaintext\">False</div></td></tr><tr><td><div class=\"dni-plaintext\">( 7, 2 )</div></td><td><div class=\"dni-plaintext\">7</div></td><td><div class=\"dni-plaintext\">2</div></td><td><div class=\"dni-plaintext\">True</div></td><td><div class=\"dni-plaintext\">True</div></td></tr><tr><td colspan=\"5\">(51 more)</td></tr></tbody></table>"
     },
     "execution_count": 1,
     "metadata": {}
    }
   ]
  },
  {
   "cell_type": "markdown",
   "metadata": {},
   "source": [
    "11.1 Input"
   ]
  },
  {
   "cell_type": "code",
   "execution_count": 1,
   "metadata": {},
   "source": [
    "var floor = System.IO.File\n",
    "    .ReadAllLines(@\".\\input.txt\")\n",
    "    .Select(x => x.ToCharArray())\n",
    "    .ToArray();\n",
    "floor"
   ],
   "outputs": [
    {
     "output_type": "execute_result",
     "data": {
      "text/html": "<table><thead><tr><th><i>index</i></th><th>value</th></tr></thead><tbody><tr><td>0</td><td><div class=\"dni-plaintext\">[ L, L, L, L, L, L, L, L, L, L, L, L, ., L, L, L, L, L, L, L ... (75 more) ]</div></td></tr><tr><td>1</td><td><div class=\"dni-plaintext\">[ L, L, L, L, L, ., L, L, L, L, L, L, ., L, L, L, L, L, L, L ... (75 more) ]</div></td></tr><tr><td>2</td><td><div class=\"dni-plaintext\">[ L, L, L, L, L, ., L, L, L, L, L, L, L, L, L, L, L, L, L, L ... (75 more) ]</div></td></tr><tr><td>3</td><td><div class=\"dni-plaintext\">[ L, ., L, L, L, L, L, L, L, L, L, L, ., L, L, L, L, L, L, L ... (75 more) ]</div></td></tr><tr><td>4</td><td><div class=\"dni-plaintext\">[ L, L, L, L, L, ., ., L, L, L, L, L, L, L, L, L, L, L, L, L ... (75 more) ]</div></td></tr><tr><td>5</td><td><div class=\"dni-plaintext\">[ L, L, L, L, L, ., L, L, L, L, L, L, ., L, L, L, L, L, L, L ... (75 more) ]</div></td></tr><tr><td>6</td><td><div class=\"dni-plaintext\">[ L, L, L, L, L, ., L, L, L, L, L, L, L, L, L, L, L, L, L, L ... (75 more) ]</div></td></tr><tr><td>7</td><td><div class=\"dni-plaintext\">[ ., L, ., ., ., L, L, ., L, ., L, ., L, ., ., ., ., L, ., . ... (75 more) ]</div></td></tr><tr><td>8</td><td><div class=\"dni-plaintext\">[ L, L, L, L, L, ., ., L, L, L, L, L, L, L, ., L, L, L, L, L ... (75 more) ]</div></td></tr><tr><td>9</td><td><div class=\"dni-plaintext\">[ L, L, L, ., L, L, L, L, L, L, L, L, ., ., L, L, L, L, L, L ... (75 more) ]</div></td></tr><tr><td>10</td><td><div class=\"dni-plaintext\">[ L, L, L, L, L, ., L, ., L, L, L, L, ., L, L, L, L, L, L, L ... (75 more) ]</div></td></tr><tr><td>11</td><td><div class=\"dni-plaintext\">[ L, L, L, L, L, ., L, L, L, L, L, L, ., L, L, L, L, L, L, L ... (75 more) ]</div></td></tr><tr><td>12</td><td><div class=\"dni-plaintext\">[ L, L, L, L, L, L, L, L, L, L, L, L, ., L, L, L, L, L, L, L ... (75 more) ]</div></td></tr><tr><td>13</td><td><div class=\"dni-plaintext\">[ L, L, L, ., L, L, L, L, L, L, L, L, ., L, L, L, L, L, L, L ... (75 more) ]</div></td></tr><tr><td>14</td><td><div class=\"dni-plaintext\">[ L, L, L, L, L, ., L, L, L, L, L, L, L, L, L, L, L, L, L, L ... (75 more) ]</div></td></tr><tr><td>15</td><td><div class=\"dni-plaintext\">[ L, ., L, L, L, L, L, L, L, L, L, L, ., L, L, L, L, L, L, L ... (75 more) ]</div></td></tr><tr><td>16</td><td><div class=\"dni-plaintext\">[ L, L, L, L, L, ., L, L, L, L, L, L, ., L, L, L, L, L, L, L ... (75 more) ]</div></td></tr><tr><td>17</td><td><div class=\"dni-plaintext\">[ L, ., ., ., L, ., L, L, ., ., L, ., L, ., L, L, ., L, L, . ... (75 more) ]</div></td></tr><tr><td>18</td><td><div class=\"dni-plaintext\">[ L, L, L, L, ., ., L, L, L, L, L, L, ., L, L, L, L, L, L, L ... (75 more) ]</div></td></tr><tr><td>19</td><td><div class=\"dni-plaintext\">[ L, L, L, L, L, ., L, L, L, L, L, L, ., L, L, L, ., L, L, . ... (75 more) ]</div></td></tr><tr><td colspan=\"2\">(73 more)</td></tr></tbody></table>"
     },
     "execution_count": 1,
     "metadata": {}
    }
   ]
  },
  {
   "cell_type": "code",
   "execution_count": 1,
   "metadata": {},
   "source": [
    "var output = display(\"\");\n",
    "\n",
    "record Seat(int X, int Y)\n",
    "{\n",
    "    public bool NextState {get; set;}\n",
    "    public bool Seated {get; set;}\n",
    "}\n",
    "var seats = floor\n",
    "    .SelectMany((row, y) => \n",
    "        row.Select((col, x) => col == 'L' ? new Seat(x, y) : null)\n",
    "    )\n",
    "    .Where(seat => seat != null)\n",
    "    .ToDictionary(seat => (seat.X, seat.Y));\n",
    "\n",
    "void drawPlan()\n",
    "{\n",
    "    var view = \"\";\n",
    "    for(var y = 0; y<floor.Length; y++) {\n",
    "        for(var x = 0; x<floor[0].Length; x++) {\n",
    "            if (seats.ContainsKey((x, y))) {\n",
    "                view += seats[(x, y)].Seated ? '#' : 'L';\n",
    "            } else {\n",
    "                view += \".\";\n",
    "            }\n",
    "        }\n",
    "        view += Environment.NewLine;\n",
    "    }\n",
    "    output.Update(view);\n",
    "}\n",
    "\n",
    "var changes = -1;\n",
    "var rounds = 0;\n",
    "var maxRounds = 1000;\n",
    "\n",
    "drawPlan();\n",
    "\n",
    "while(changes != 0 && rounds++ < maxRounds)\n",
    "{\n",
    "    changes=0;\n",
    "    foreach(var key in seats.Keys)\n",
    "    {\n",
    "        var neighbours = 0;\n",
    "        for(var y = -1; y<=1; y++)\n",
    "        {\n",
    "            for(var x = -1; x<=1; x++)\n",
    "            {\n",
    "                if (y == 0 && x == 0) continue;\n",
    "                var testCoord = (seats[key].X + x, seats[key].Y + y);\n",
    "                if (seats.ContainsKey(testCoord) && seats[testCoord].Seated)\n",
    "                {\n",
    "                    neighbours++;\n",
    "                }\n",
    "            }\n",
    "        }\n",
    "        if (neighbours == 0 && !seats[key].Seated)\n",
    "        {\n",
    "            seats[key].NextState = true;\n",
    "            changes++;\n",
    "        }\n",
    "        else if (neighbours >= 4 && seats[key].Seated)\n",
    "        {\n",
    "            seats[key].NextState = false;\n",
    "            changes++;\n",
    "        }\n",
    "    }\n",
    "    foreach(var key in seats.Keys)\n",
    "    {\n",
    "        seats[key].Seated = seats[key].NextState;\n",
    "    }\n",
    "\n",
    "    // System.Threading.Thread.Sleep(10);\n",
    "    drawPlan();\n",
    "}\n",
    "\n",
    "drawPlan();\n",
    "\n",
    "Console.WriteLine(seats.Values.Count(x => x.Seated));\n",
    "\n",
    "seats"
   ],
   "outputs": []
  }
 ],
 "metadata": {
  "kernelspec": {
   "display_name": ".NET (C#)",
   "language": "C#",
   "name": ".net-csharp"
  },
  "language_info": {
   "file_extension": ".cs",
   "mimetype": "text/x-csharp",
   "name": "C#",
   "pygments_lexer": "csharp",
   "version": "8.0"
  }
 },
 "nbformat": 4,
 "nbformat_minor": 4
}