{
 "cells": [
  {
   "cell_type": "markdown",
   "metadata": {},
   "source": [
    "## Day 11"
   ]
  },
  {
   "cell_type": "markdown",
   "metadata": {},
   "source": [
    "## 11.1 Sample"
   ]
  },
  {
   "cell_type": "markdown",
   "metadata": {},
   "source": [
    "We'll keep each seat in a record and then organize them in a dictionary of coordinate tuples."
   ]
  },
  {
   "cell_type": "code",
   "execution_count": 1,
   "metadata": {},
   "source": [
    "record Seat(int X, int Y)\n",
    "{\n",
    "    public bool NextState {get; set;}\n",
    "    public bool Seated {get; set;}\n",
    "}"
   ],
   "outputs": []
  },
  {
   "cell_type": "markdown",
   "metadata": {},
   "source": [
    "Counting direct neighbours is a good old foreach neighbour loop"
   ]
  },
  {
   "cell_type": "code",
   "execution_count": 1,
   "metadata": {},
   "source": [
    "int CountNeighbours(Seat seat, Dictionary<(int,int), Seat> seats)\n",
    "{\n",
    "    var neighbours = 0;\n",
    "    for(var y = -1; y<=1; y++)\n",
    "    {\n",
    "        for(var x = -1; x<=1; x++)\n",
    "        {\n",
    "            if (y == 0 && x == 0) continue;\n",
    "            var testCoord = (seat.X + x, seat.Y + y);\n",
    "            if (seats.ContainsKey(testCoord) && seats[testCoord].Seated)\n",
    "            {\n",
    "                neighbours++;\n",
    "            }\n",
    "        }\n",
    "    }\n",
    "    return neighbours;\n",
    "}\n",
    ""
   ],
   "outputs": []
  },
  {
   "cell_type": "markdown",
   "metadata": {},
   "source": [
    "We can draw our plan for fun"
   ]
  },
  {
   "cell_type": "code",
   "execution_count": 1,
   "metadata": {},
   "source": [
    "\n",
    "string drawPlan(char[][] drawFloor, Dictionary<(int,int), Seat> seats, Microsoft.DotNet.Interactive.Events.DisplayedValue displayedValue)\n",
    "{\n",
    "    var view = \"\";\n",
    "    for(var y = 0; y<drawFloor.Length; y++) {\n",
    "        for(var x = 0; x<drawFloor[0].Length; x++) {\n",
    "            if (seats.ContainsKey((x, y))) {\n",
    "                view += seats[(x, y)].Seated ? '#' : 'L';\n",
    "            } else {\n",
    "                view += \".\";\n",
    "            }\n",
    "        }\n",
    "        view += Environment.NewLine;\n",
    "    }\n",
    "    return view;\n",
    "}\n",
    ""
   ],
   "outputs": []
  },
  {
   "cell_type": "markdown",
   "metadata": {},
   "source": [
    "Count stuff"
   ]
  },
  {
   "cell_type": "code",
   "execution_count": 1,
   "metadata": {},
   "source": [
    "int TurnChanges(Dictionary<(int, int), Seat> seats, Func<Seat, Dictionary<(int, int), Seat>, int> counter)\n",
    "{\n",
    "    var theseChanges=0;\n",
    "    foreach(var key in seats.Keys)\n",
    "    {\n",
    "        var neighbours = counter(seats[key], seats);\n",
    "\n",
    "        if (neighbours == 0 && !seats[key].Seated)\n",
    "        {\n",
    "            seats[key].NextState = true;\n",
    "            theseChanges++;\n",
    "        }\n",
    "        else if (neighbours >= 4 && seats[key].Seated)\n",
    "        {\n",
    "            seats[key].NextState = false;\n",
    "            theseChanges++;\n",
    "        }\n",
    "    }\n",
    "    foreach(var key in seats.Keys)\n",
    "    {\n",
    "        seats[key].Seated = seats[key].NextState;\n",
    "    }\n",
    "\n",
    "    return theseChanges;\n",
    "}"
   ],
   "outputs": []
  },
  {
   "cell_type": "markdown",
   "metadata": {},
   "source": [
    "## Sample data in a two dimensional char array organized by row, then column"
   ]
  },
  {
   "cell_type": "code",
   "execution_count": 1,
   "metadata": {},
   "source": [
    "var sampleFloor = System.IO.File\n",
    "    .ReadAllLines(@\".\\sample.txt\")\n",
    "    .Select(x => x.ToCharArray())\n",
    "    .ToArray();\n",
    "sampleFloor"
   ],
   "outputs": [
    {
     "output_type": "execute_result",
     "data": {
      "text/html": "<table><thead><tr><th><i>index</i></th><th>value</th></tr></thead><tbody><tr><td>0</td><td><div class=\"dni-plaintext\">[ L, ., L, L, ., L, L, ., L, L ]</div></td></tr><tr><td>1</td><td><div class=\"dni-plaintext\">[ L, L, L, L, L, L, L, ., L, L ]</div></td></tr><tr><td>2</td><td><div class=\"dni-plaintext\">[ L, ., L, ., L, ., ., L, ., . ]</div></td></tr><tr><td>3</td><td><div class=\"dni-plaintext\">[ L, L, L, L, ., L, L, ., L, L ]</div></td></tr><tr><td>4</td><td><div class=\"dni-plaintext\">[ L, ., L, L, ., L, L, ., L, L ]</div></td></tr><tr><td>5</td><td><div class=\"dni-plaintext\">[ L, ., L, L, L, L, L, ., L, L ]</div></td></tr><tr><td>6</td><td><div class=\"dni-plaintext\">[ ., ., L, ., L, ., ., ., ., . ]</div></td></tr><tr><td>7</td><td><div class=\"dni-plaintext\">[ L, L, L, L, L, L, L, L, L, L ]</div></td></tr><tr><td>8</td><td><div class=\"dni-plaintext\">[ L, ., L, L, L, L, L, L, ., L ]</div></td></tr><tr><td>9</td><td><div class=\"dni-plaintext\">[ L, ., L, L, L, L, L, ., L, L ]</div></td></tr></tbody></table>"
     },
     "execution_count": 1,
     "metadata": {}
    }
   ]
  },
  {
   "cell_type": "markdown",
   "metadata": {},
   "source": [
    "## Solve 11.1 sample"
   ]
  },
  {
   "cell_type": "code",
   "execution_count": 1,
   "metadata": {},
   "source": [
    "\n",
    "var seats = sampleFloor\n",
    "    .SelectMany((row, y) => \n",
    "        row.Select((col, x) => col == 'L' ? new Seat(x, y) : null)\n",
    "    )\n",
    "    .Where(seat => seat != null)\n",
    "    .ToDictionary(seat => (seat.X, seat.Y));\n",
    "\n",
    "var rounds = 0;\n",
    "var maxRounds = 1000;\n",
    "\n",
    "Microsoft.DotNet.Interactive.Events.DisplayedValue output = display(drawPlan(sampleFloor, seats, output));\n",
    "\n",
    "var changes = -1;\n",
    "while(changes != 0 && rounds++ < maxRounds)\n",
    "{\n",
    "    var theseChanges = TurnChanges(seats, CountNeighbours);\n",
    "    changes = theseChanges;\n",
    "    System.Threading.Thread.Sleep(200);\n",
    "    output.Update(drawPlan(sampleFloor, seats, output));\n",
    "}\n",
    "\n",
    "seats.Values.Count(x => x.Seated)\n",
    "\n",
    ""
   ],
   "outputs": [
    {
     "output_type": "execute_result",
     "data": {
      "text/plain": "#.#L.L#.##\r\n#LLL#LL.L#\r\nL.#.L..#..\r\n#L##.##.L#\r\n#.#L.LL.LL\r\n#.#L#L#.##\r\n..L.L.....\r\n#L#L##L#L#\r\n#.LLLLLL.L\r\n#.#L#L#.##\r\n"
     },
     "execution_count": 1,
     "metadata": {}
    },
    {
     "output_type": "execute_result",
     "data": {
      "text/html": "<div class=\"dni-plaintext\">37</div>"
     },
     "execution_count": 1,
     "metadata": {}
    }
   ]
  },
  {
   "cell_type": "markdown",
   "metadata": {},
   "source": [
    "11.1 Input"
   ]
  },
  {
   "cell_type": "code",
   "execution_count": 1,
   "metadata": {},
   "source": [
    "var floor = System.IO.File\n",
    "    .ReadAllLines(@\".\\input.txt\")\n",
    "    .Select(x => x.ToCharArray())\n",
    "    .ToArray();\n",
    "floor"
   ],
   "outputs": [
    {
     "output_type": "execute_result",
     "data": {
      "text/html": "<table><thead><tr><th><i>index</i></th><th>value</th></tr></thead><tbody><tr><td>0</td><td><div class=\"dni-plaintext\">[ L, L, L, L, L, L, L, L, L, L, L, L, ., L, L, L, L, L, L, L ... (75 more) ]</div></td></tr><tr><td>1</td><td><div class=\"dni-plaintext\">[ L, L, L, L, L, ., L, L, L, L, L, L, ., L, L, L, L, L, L, L ... (75 more) ]</div></td></tr><tr><td>2</td><td><div class=\"dni-plaintext\">[ L, L, L, L, L, ., L, L, L, L, L, L, L, L, L, L, L, L, L, L ... (75 more) ]</div></td></tr><tr><td>3</td><td><div class=\"dni-plaintext\">[ L, ., L, L, L, L, L, L, L, L, L, L, ., L, L, L, L, L, L, L ... (75 more) ]</div></td></tr><tr><td>4</td><td><div class=\"dni-plaintext\">[ L, L, L, L, L, ., ., L, L, L, L, L, L, L, L, L, L, L, L, L ... (75 more) ]</div></td></tr><tr><td>5</td><td><div class=\"dni-plaintext\">[ L, L, L, L, L, ., L, L, L, L, L, L, ., L, L, L, L, L, L, L ... (75 more) ]</div></td></tr><tr><td>6</td><td><div class=\"dni-plaintext\">[ L, L, L, L, L, ., L, L, L, L, L, L, L, L, L, L, L, L, L, L ... (75 more) ]</div></td></tr><tr><td>7</td><td><div class=\"dni-plaintext\">[ ., L, ., ., ., L, L, ., L, ., L, ., L, ., ., ., ., L, ., . ... (75 more) ]</div></td></tr><tr><td>8</td><td><div class=\"dni-plaintext\">[ L, L, L, L, L, ., ., L, L, L, L, L, L, L, ., L, L, L, L, L ... (75 more) ]</div></td></tr><tr><td>9</td><td><div class=\"dni-plaintext\">[ L, L, L, ., L, L, L, L, L, L, L, L, ., ., L, L, L, L, L, L ... (75 more) ]</div></td></tr><tr><td>10</td><td><div class=\"dni-plaintext\">[ L, L, L, L, L, ., L, ., L, L, L, L, ., L, L, L, L, L, L, L ... (75 more) ]</div></td></tr><tr><td>11</td><td><div class=\"dni-plaintext\">[ L, L, L, L, L, ., L, L, L, L, L, L, ., L, L, L, L, L, L, L ... (75 more) ]</div></td></tr><tr><td>12</td><td><div class=\"dni-plaintext\">[ L, L, L, L, L, L, L, L, L, L, L, L, ., L, L, L, L, L, L, L ... (75 more) ]</div></td></tr><tr><td>13</td><td><div class=\"dni-plaintext\">[ L, L, L, ., L, L, L, L, L, L, L, L, ., L, L, L, L, L, L, L ... (75 more) ]</div></td></tr><tr><td>14</td><td><div class=\"dni-plaintext\">[ L, L, L, L, L, ., L, L, L, L, L, L, L, L, L, L, L, L, L, L ... (75 more) ]</div></td></tr><tr><td>15</td><td><div class=\"dni-plaintext\">[ L, ., L, L, L, L, L, L, L, L, L, L, ., L, L, L, L, L, L, L ... (75 more) ]</div></td></tr><tr><td>16</td><td><div class=\"dni-plaintext\">[ L, L, L, L, L, ., L, L, L, L, L, L, ., L, L, L, L, L, L, L ... (75 more) ]</div></td></tr><tr><td>17</td><td><div class=\"dni-plaintext\">[ L, ., ., ., L, ., L, L, ., ., L, ., L, ., L, L, ., L, L, . ... (75 more) ]</div></td></tr><tr><td>18</td><td><div class=\"dni-plaintext\">[ L, L, L, L, ., ., L, L, L, L, L, L, ., L, L, L, L, L, L, L ... (75 more) ]</div></td></tr><tr><td>19</td><td><div class=\"dni-plaintext\">[ L, L, L, L, L, ., L, L, L, L, L, L, ., L, L, L, ., L, L, . ... (75 more) ]</div></td></tr><tr><td colspan=\"2\">(73 more)</td></tr></tbody></table>"
     },
     "execution_count": 1,
     "metadata": {}
    }
   ]
  },
  {
   "cell_type": "code",
   "execution_count": 1,
   "metadata": {},
   "source": [
    "\n",
    "var seats = floor\n",
    ".SelectMany((row, y) => \n",
    "    row.Select((col, x) => col == 'L' ? new Seat(x, y) : null)\n",
    ")\n",
    ".Where(seat => seat != null)\n",
    ".ToDictionary(seat => (seat.X, seat.Y));\n",
    "\n",
    "var rounds = 0;\n",
    "var maxRounds = 1000;\n",
    "\n",
    "Microsoft.DotNet.Interactive.Events.DisplayedValue output = display(drawPlan(floor, seats, output));\n",
    "\n",
    "var changes = -1;\n",
    "while(changes != 0 && rounds++ < maxRounds)\n",
    "{\n",
    "    var theseChanges = TurnChanges(seats, CountNeighbours);\n",
    "    changes = theseChanges;\n",
    "    System.Threading.Thread.Sleep(50);\n",
    "    output.Update(drawPlan(floor, seats, output));\n",
    "}\n",
    "\n",
    "seats.Values.Count(x => x.Seated)\n",
    "\n",
    ""
   ],
   "outputs": [
    {
     "output_type": "execute_result",
     "data": {
      "text/plain": "#L#L#LL#L#L#.#L#L#L#.#L#L#L#..#LL#.#L#L#.#L#L#.#L#..#L#L#L#L#L#L#.#L#L#L#L#L#L#L#L#L#L#.#L#L#L#\r\nLLLLL.LLLLLL.LLLLLLLLL.LLLLL.#.LLL.LL#LL.LLLL..LLLL.LLLLLLLLLLLLL.LLLLLLL.LLLL.LLLLLLLL.LLLLLLL\r\n#L#L#.#L#L#L#LL#L#L#L#.#L#L#.LL#L#.#.LL#.#L#L#.#L#L#L#L##L#L#L#L#.#L#L#L#L#L#L#L#L#L#L#..#L#L#.\r\nL.LLLLLLLLLL.LLLLLLLLLLLLLLL.#LLLL.LL#LLL#LLLL.LLLL.LLLLLLLL.LL.L.LLLLLLL.LLLL.LLLLLLLL.LLLLLLL\r\n#L#L#..L#L#L#L##L#L#L#L#L#L#LLL#L#L#LLL#.LLL#.#L#L#.#L#L#L#L.L#L#L#L#L#L#.#L##.##L#L#L#.#L.L#L#\r\nLLLL#.#LLLLL.LLLLLLLLLLLLLLL.#L#LLLLL#LL.#LLLL.LLLL.LLLLLLLL#LLLL.LLLLLLL.LLLL.LLLLLLLL.LL#LLLL\r\n#L###.LL#L###L#LL#L#L#.###L#L#L###L#L.L#.#L#L#.#L##.#L#L#L#L.L##L#.#L#L##.#L##L#L#L#L##L#L#L#L#\r\n.L...L#.L.L.L....L..L......LL...L..#.#.LL#.....L...L..LLL.L.#L..LLL......L..L.LLLLL.....L..L...\r\n###L#..L#L##L#.#L#L#L#.##L##.##L#LL#LLL#.#L#L#.#L#LL#L#L#L#L.L#L#L#L#.#L#.#L#L#L#L#L#L#L#L#L#L#\r\nLLL.#L#LLL##..LLL#LLLLLLLLLL.LLLL#.LL#LL.#LLLL.LLLL.L.LLLLLL.LLL#.LLLL#L#LLLLL.LLLLLLLL.LLLLLLL\r\n#L#L#.L.#LLL.#L#LLL#L#.#LLL#.#L#LL.#L#L#.LL#L#.#L##.#L#L#L#L#L#L..#L#L#LL.#LL#L#L#L#.L#.#L#L#L#\r\nLLLL#.#LLL##.LLLL#LLLL.LL#LL.LLLL#.LLLLL.#LLLL.LLLL.LLLLLLLL.LLL#.LLLL.L#LLLLL.LLL.LLLL.#LLLLLL\r\n#L#LLLLL#LLL.#L#LLL#L#.#LLL#.#L#L#.#L#LL.LL#L#.#L###L#L#L#L#L##LL.#L#L#LL.#L#LL#L#.#L#...#L##L#\r\nLLL.#L#LLL#L.LLLL#LLLL.LL#LL.LLLLLLLLLL#L#LLLLL#LLL.LLLLLLLL.LLL#LLL#LLL#.LLLLL.LLLLLL.#LLLLLLL\r\n#L#LL.LL#LLL#L#LLLL#L#.#L.L#.#L#L#.#L#LL.LLL##.LLL#.#L#L#L##.#LLL.#LLL#L..#L##L###L#L#L.L#LL#.#\r\nL.LL#L#LLL#L.LLLLLLLLL.LL#L#.L.LLL.LLLL#.##LLLL##LL.LLLLLLLL.LL##.LL#LL.#.LLLL.LLLLLLLL.LLLLLLL\r\n#L#LL.LL#LLL.L#L#L##L#.#L.L#.#L#L#.#L#L#.LLLL#.LLL#L#L#L#L##.#LLL.#L#L#L#.#L##.#.#L##L#.#L#L#L#\r\nL...#.#L..#.#.LL.LL.L.....L..L.L.......#.#.#L...#....L......L.L.#.L.#..L....LL......L......L...\r\n#L#L..LLLLLL.L#L#L#L#L#LL#L#L#L#L#.#L#LL.#LLL#LL.LL#L#L#L#L#.#.LL##.#L#L.#L#L#..#L#L#L#.#L#L#L#\r\nLL#L#.#L#L#L.LLL.LL.LL.LLLLLL#L#L#LLLLL#L#L#LL.#L#L.LLLLLLLLLLL#L.LLLLLL#LLLLL.LLLLLLLLL#L#LLL.\r\nL..LL.LLLLLL#L#L#L#L##.#L#L#.LLLLL.#L#LL.LLLL#.LL.L.#LLL#L##.#LLL#L#LLLLLL#L#L.L#L#L#L..LLLL#L#\r\n#LLL#.#L#L#L.LLLLLLLLL.LLLLL.#L#L#.#LLL#L#L#LL.##L#.LL#LLLLL.LL#L.LLL#L#L.#L#L#L#LLLLL#.#L#LLLL\r\nLL#LL.LLLLLLLL#L#L#L#L#LL#L#LLLLLL.LL#LL.LLLL#LL.LL#LLLLL#L#.#LLL.#LLLLLL.LLLLL.L.#L#LL.LLLL#L#\r\n#L.L#.#L#L#L#LLLLLLLLL.LL#LLL#L#L#.#LLL#.#L#L#.#L#L.L#L#LLLL.LLL#.LLL#L#L#L#L#.##LLLLL#.#L#.#LL\r\n...............#.#..#L.....#.L..L...L#.......LL....#......#...#....#...............L#L...L.LLL.\r\n#L#L#L#L#L#..#LLLLL.LL#L##LL.#L#L#.#LLLL.L#L###L#LL..#L#LLLL#LLL#L#LLL#L#L#.#L#L#L#LLL#.#.#L#L#\r\nLL.LL.LLLLLL.LL#L#L#LL.LLLL#.#LLL..LL##L#L#LLL.L#L##LLLLL#LL.L#LL.#L#LLLL.LLL.LLLLLLLLL.LLLLLLL\r\n.L#L#.#L#L#L#.LLLLLLL#.#L#LL.LL#L#L#LLLL.LLLL#.LLLLLL#L#LLL#.L#L#LLLLLL#L#L#L#.#L#L#L#L#L#L#L##\r\n#L#LL.LLLLLL.L#L#L#LLL.LLLL#L#LLLL.LL#L#.#L#L.L#L#L#LLLLL#LLL.LLL.L#L#L#LLLLLL.LLLLL.LLLLLLLLLL\r\nLLLLL.#.#L##.LLLLLLLL#L#L#LL.LL#L#.#LLLL.LLLL#.LLLL.LL#LLLL#.L#L#.LLLLLLL.##L..L#L#L#L#LLLLLLL#\r\n#L#L#LLLLLLL.#L#L#L#LLLLLLL#.#LLLLL.L#L#.#L#LL.#L##.#LLL##LLLLLLL.#L#L#L#.##L##LLLLLLLL.#L#L#LL\r\nLLL.L.#L#L#L.LLLLLLLLLLL##LLLLL#L#.#LLLL.LLLL#.LLLL.LLLLLLLL#L#L#.LLLLLLLLLLLL.LL##L#L#.LLLLLL#\r\n#L#L#LLLLL#L#L#L#L#L#L#LLLL#.#LLLLLLL#L#.#L#L#.#L#L#L#L##L#LLLLLL.#L#L#L#.##L#.#LLLL#LL.#L#L#L#\r\n....L..#..........L......#.LL..#.#..LL.......#.....LL..L..LL...#......L....L..L..#....#.......L\r\n.#.#L#LLL#L#.#L#L#L#L#.#L#L#.#LLLLLL#L#.#L#LLL.#L#L#L#L##.##.#LLLL#L#L#.#.#LL#.#LLLL#LL.#L#L#L#\r\nLLLLLLL#LLLLLLLLLLLLLL.LLLLL.LL#L#.LLLLL.LLLL#.LLLLLLLLLLLLLLLLL#.LLLL.LLLLLLL.LL#LLLL#.LLLLLLL\r\n##L#L.LLL.L#.#L#.#L#L#.#L#L#L#LLLL.#L#L#.#L#LL.L#L#.#.LL#L#L#L#L..##L#L###L#L#.#LLLL#LL.#L#L#L#\r\nLL.LL.LL#LLL.LLLL.LLL#LLLLLL.LLL#.LLLLLLLLLLLL#LL.L.LL#LLLLL.LLL#LLLLLLLL.L.LL.LLLLLLL#.LLLL#LL\r\n#L#L#L#L#L#L#L#L#L#LLL.#LL#L###L#L#L#L#L.L#L#L#L#L#.#LLL#L##.##LLL#L#L#L#.#L##.#L#LL#L..#L#L#L#\r\n.....L.L..#L.LLL.LL.#.L.....L..L.L......#......L.LL...#....LL..L.........L..L.....L.L....L..L..\r\n#L#L#L#L#LLL##L#L#LLLL.##L#L#L#L#L.L#L#LLL#L#L.L#L#.#LLL#L#L#L#L#L#L#L#L#L#L#L#L#L#L#L#.#L#L#L#\r\nLLLLL.LL#L#L.LLL.LL#L#.LLL#L.LLLLL#LLLLL#LLLLL#LLLL.LL#L#LLL.LLLL.LLLLLLLLLLLL.LLL#LLLL.LLLLLLL\r\n#L#L#.#LLLLL#LL#L#LLLL.#LLLL.#L#LL#L#L#LLL#L#L.L#L#.#LLLLL##.#L##.#L#L#L#.#L#..##LLL#L#.#L#LLL#\r\nLLLL#.LL#L#L.LLLLLL#L#LLL#L#.L.LLL.LLLLL.LL.LL.LLLL.L.#L#LL...LLL.LLL.LLLLLLLL.LLL#LLLL.LL#L#LL\r\nLL#LL.#.LLLL.LL#L#LLLLL#LLLL.#L#L#.##L#L#L#L#L.L#L#.#LLLLL#L#L#L#.#L#L#L#.#L##.##LLL#L#L#LLLLL#\r\n#LLL#.LL#L#..#L#LLL#L#.L.#L#.LLL.L.LLLLLLLLLLL#LLLL.LL#L#LLL.LLLLLLLLLLLL.LLLL.LLL#LLL#LLL#L#L.\r\nLL#LLL#LLLLL.LLLL#LLL..#LLLLL#L#L#L#L#L#.#L#LL.L#L#.#LLLLL##.LL##.#L#L#L#.#LLL.L#LLL#LL.#LLLLLL\r\n#LLL#.LL##L#.#L#L.L#L#.LL#L#.LLLLLL#LLLL.#LLL#.LLLL.LL#L#LLL.#LLL.LLLLLLLL#L#L#LLL#LLL#.#L#L#L#\r\n...#..#L.L......L....LL#....L.#.L#..L.#..#.#L..#..#.#......#...#.#..#..L#....L..#..L#...#L.....\r\n#..LL.LL##L#.#L#L#L#L#L.L#.#.LLLLL.#.LLL.LLLL#L.LLL.LLL#L#LLL#L.L#LLLL#LLL#L#L#LLLLLLL#.LL#L#L#\r\nLL#L#.#LLLLL.LLLLLLLLL.#LLLL.#L#L#.LL#L#.#L#LL.#L#L#L#LLLLL#.LL#L..#L.LL#L#L#L.L#L#L#LL.LL#LLLL\r\n#LLLLLLL##L#.#.#L#L#L#.LL#L#.LLLLLL#LLLL.LLLL#.LLLL.LLL#L#LL.#LLL.LLL#LLL.LLLLLLLLLLLL#.#LLL#L#\r\nLL#L#L#LLLLL.LLLLLLLL#L#LLLLL#L#L#.LL#L#.#L#LL.#L#L#.#LLLLL#.LL#L#L#LLL#..#L#L#L#L#L#LL.LL#LLLL\r\n#LLLL.LL#L#L#L#LLL##LLL#L#LLL#LLLLLLLLLLLLLLL#.LLLLLLLL#L#LL.#LLLLLLL#LLL.LLLL.LLLLLLL#.#LLL#L#\r\nLL#L#.#LLL#L.LLL#LLLL#.LLLL#.LLL#L#L#L#.##L#LL.#L#L.#.LLL.L#.LL##.#L#LLL#.#L#L#L#L#L#LL.#L#LLLL\r\n#LLLLLLL#LLL.#LLLLL#LL.#L#LLL#LLLL.LLLLL..LLL#LLLLLLLL##L#LL.#LLL.LLLL#LL.LLLL.LLLLLLL#LLLLL#L#\r\nLL#L#.#LLLL#.LL#L#LLL#.LLLL#LLL#L#L#LLL#.###.L.#L##.#LLLLLL#.LLL#.#L#LLLL#L#L#.#L#L#LLL.#L#LLLL\r\n#L..#.L.#.L..#L...L#....#.L..#..LLL..#.LL.L.L#LL..L.L.#..#...#.....L..LL........L...L#..L.L.##.\r\nLL#LL.#LLL.#.LL.L#LLL#.LLLL#LLL#L#L#.#L#.#L#LLL#L#L#LLLLLLL#.LL#L#L#LLL#L#L#.#.#L#L##LL.#L#LLLL\r\n#LLL#.LL#LLL.#L#LLL#LL.#L#L#.#LLLLL.LLLL.LLLL#LLLLL.L#L##LLLL#LLL#L#L#LLLLLLLL.LLLLLLL#.#LLL#L#\r\nLL#LL.#LL.#LLLLLL#LLL#LLLLLL.LL#L#L#L#L#.#L#LL.#L.L.LLL##L####.#LLLLLLLL#.#L#L#L#LLL#LLLLL#LLLL\r\n#LLL#.LL#LLL#L#.LLL#L#.#L#L#.#LLLLLLLLLLLLLLL#.LLL#L#LLLLLL..LLLL.#L#L#LL.LLLL.LLL#LLL#.#LLL#L#\r\nLL.#..#..#.....L#......#.......L#L#L..#.#.L#...#......#.#..#.#.#........#..#.#.#..LL#L....#....\r\n#L#.L.LLLLLL#L#LL.L#L#.LL#L#..#LLL#L#LLLLLLLL#.LLL#.#LLLLLLL.LLLL.#L#L#L#.#.LLL.LL#LLLL.#L#L#L#\r\nLLLL#L#L#L#L.LLLL#LLLL.#L#L#LL.L#L.LLLL..##L.LLL#LL.LLL#L#L#.#L#L.LL.LLLLLLL###L#LLL#L#.LLLLLLL\r\n#L#LL.LLLLLL.###LLL#L#LLL.LL.#LLLLL#L#LLLLLL#LLLLL#..#LLLLLL.L.LL#L#L#L#L.LLLL.LLL#LLLLL#L#L#L#\r\nLL#LL.#L#L#L.#LLL#L#L#.#L#L#LLL#L#.LLLL#.#LLLL#L#LL.LLL#L#L###L#L.L#L#LLL#L#L#.#L.LL#L#.LLLLLLL\r\n#LLL#.L.LLLLLLL#LLLLLL.LL#LL.#LLLL.#L#LLLLL#LL.LLLL.L#LLLLLL.LLLL.LLLLL#L.LLLL.LL.#LLLL.#L#L#LL\r\nLL#L#.#L#L#L#LLLL#L#.#.#LLL#.L.#L#.LLLL#.#LLL#.#L#L#LLL#L#L#.#L#L#L#L#LLLL#L#L#L#LLL#L#LLLLLLL#\r\n#LLLLLLLLLLLLL##LLLL.LLLL#LL.#LLLL.#L#LL.LL#LL.LL.L.L#L.LLLLLLLLL.LLLLLL#.LLLL.LLL#LLLL.#L#L#L.\r\nLL#L#.#L#L#L#LLLL#.#L#.#LL.#.LL#L#LLL.L#L#LLL#L#L#LLLLL#L#L#.L#L#.#L#L#L..#L#L.L#LLL#L#..LLLLL#\r\n#L.LL..L......#...L.....L#...#......#..L..L#...LL..#.#.....L.L...L...........L#...#.L.L..#.#.L.\r\nLLLL#.#L##L#LLLLL##L#L##LLL#.#L#L#.LLL#L.#LLL#.#L#L.LLL#L#L#.##L#.#L#L#L#.#L#L.L#L.L#L#.LLLLLL#\r\n#L#LLLLLLLL#.#L#LLLLLLLLL#LLLLLLL.L#LLLLLLL#LL.LL#L#L#LLLL.L.LLL..L.LLLLL.LLLL#LLL#L#LL.#L#L#LL\r\nLLLL#L#L#LLL.LLLLL##LLL#LLL#.#L#L#LLL#L#.#LLL#.#LLL.LLL#L#L#.#L#L#L#L#L#L.L#LLLLLLLLLL#.LLLLLLL\r\n#L#LLLLLLL#L#L#L#LLLL#.LL#LL.LLLLL.#LLLL..L#L#LLLL#.##LLLLLL.LLLLLLLLLLLL#L#.#L#L#L##LL.#L#L#L#\r\nLLLL#.#L#LLL.LLLLL##LLL#LLL#.#L#L#LLL#L#.#LLLLL#LLL.LLL#L#L#.#L#L#L#L#L#L.LLLL..LLLLLL#.LLLLLLL\r\n#L#LL.LLLL#L#L#L#LLLL#LLL#LL.LLLLLL#LLLL.LL#L#.LL#L#L#L#LLLL.LLLL#L#L#LLL#L#L#.#L#L.#LL.##.L#L#\r\nL....#..#..L...LL.#....#..L#.#L..#....#.#.....L#..........#...#...L..L.#.........L....#..#.....\r\n#L#LL.LLLL.#L#L#.LLLL#..L#LL.LL#LL.#LLLLLLL#L#L.L#L#L#L##LLL.LLL#.#.##LLL#L#L#.#L#L#LLLL#L.L#L#\r\n..LL#.#L#LLL.LLLL#L#L#L#LLL#L#LLL#.LL#L#L#LLLL.#L#L.LLLLLL#L#L#L.LLLLLL#L.LLLL.LLLL#L##.LL#LLLL\r\n#L#.L.LLLL#L#L#LLLLLLL.LL#LL.LL#LLL#.LLL.LLL#L.LLLL.#L##LLLL.LLL#.#L#LLLL.LLL#.#L#LLLLLL#LLL#L#\r\nLL#L#.#L#LLL.LLL#L##L#.#LLL#L##L#.##L##L#L#LLL#L#L#.LLLLL#L#.#LLL.LLLL#.#.#LLL.LLLL#L##L#L#LLLL\r\n#.........##.#..L.L....L.#LLL...L.L.....LLLL.........#L..LL....#...#..L.#...##..L#...L.L.L..#.#\r\nLL#L#.#L#LLL..L#L#L#L#.#LL.#.###L#.###.#.#L#L#.#.#L.L#L#L#L#.#LLL.L.#L#LL...LL.#L.#L###LLL#LLLL\r\n#LLLL.LLLLL#.#LLLLLLLL.LL#LLL#LLLL.LL#LLLLLLLL.LLLL#LLLLLLLL.LL#L#LLLL.L#.#L##LLLLLLLLLL#LLL#L#\r\nLL#L##L#L#.L.LL#L#L#L#.#LLL#.LL#.#.#L#L#L#L#L#.#L#L.L#L###L#.#LLLLLL#L#LL.LL.L.#L#L#LL#.L.#L#L#\r\nLLLLL.LLLLL#.#LLLLLLLLLLL#L..#LLLL.LLLLL.LLLLL.LLLL.LLLLLLLL.LL#L##LLLLL#.#L#L.LLLL.LLL.#LLLLLL\r\n#L#L###L##L..LL#L#L#L#.#LLL#.#L#L#L#L#L#.#.#L#.#L##.#L#L#LL#.#LLL.LLL#.L#.LLL.#L#L#L#L#L#L#L#L#\r\nLLLLL.LLLLLL#LLLLLLLLL.LL#LLL.LLLLLLLLLL.LLLL#LLLL..LLLLLLLL.LLL#.#LLLLLL.LLLL.LLLLLLLL.LLLLLLL\r\n#L#L#.#L#L#L.L#L##L#L#.#L.L#L#L#L#L#L#L#.#L#L#.L#L#.#L#L#L##.##L#.#L#L#L#.#L#L.L#L#L#L#L#L#L#L#\r\n.LLLL.LLLLLL.LLLLLLLLL.LLLLL.L.LLLLLLLLLLLLLLL.LLLL.LLLLLLLLLLLLL.LLLLLLL.LLLL#LLL.LL.L.LLLLLLL\r\n#L#L#.#L##L#.#L#L#L#L#L#L#L#.#L#L#.#L#L#L#L#L#.#L#L#L#L#L#L#.L#L#L#L#L#L#.#.#..L#L#L#L#L#L#L#L#\r\n"
     },
     "execution_count": 1,
     "metadata": {}
    },
    {
     "output_type": "execute_result",
     "data": {
      "text/html": "<div class=\"dni-plaintext\">2277</div>"
     },
     "execution_count": 1,
     "metadata": {}
    }
   ]
  },
  {
   "cell_type": "markdown",
   "metadata": {},
   "source": [
    "## Day 11.2"
   ]
  },
  {
   "cell_type": "markdown",
   "metadata": {},
   "source": [
    "we gotta count differently - spin as long as we don't find seats"
   ]
  },
  {
   "cell_type": "code",
   "execution_count": 1,
   "metadata": {},
   "source": [
    "var directions = new (int x, int y)[]{\n",
    "    (-1, -1),\n",
    "    (0, -1),\n",
    "    (1, -1),\n",
    "    (-1, 0),\n",
    "    (1, 0),\n",
    "    (-1, 1),\n",
    "    (0, 1),\n",
    "    (1, 1)\n",
    "};\n",
    "\n",
    "int CountVisible(Seat seat, Dictionary<(int,int), Seat> seats, int[][] floor)\n",
    "{\n",
    "    var neighbours = 0;\n",
    "    for(var i = 0; i<directions.Length; i++)\n",
    "    {\n",
    "        var curPos = (x: seat.X + directions[i].x, y: seat.Y + directions[i].y);\n",
    "        while(curPos.x >= 0 && curPos.x < floor[0].Length &&\n",
    "              curPos.y >= 0 && curPos.y < floor.Length &&\n",
    "              !seats.ContainsKey(curPos))\n",
    "        {\n",
    "            curPos = (x: curPos.x + directions[i].x, y: curPos.y + directions[i].y);\n",
    "        }\n",
    "        if (seats.ContainsKey((curPos.x, curPos.y)) && seats[(curPos.x, curPos.y)].Seated)\n",
    "        {\n",
    "            neighbours++;\n",
    "        }\n",
    "    }\n",
    "    return neighbours;\n",
    "}\n",
    ""
   ],
   "outputs": []
  },
  {
   "cell_type": "markdown",
   "metadata": {},
   "source": [
    "## 11.2 sample"
   ]
  },
  {
   "cell_type": "code",
   "execution_count": 1,
   "metadata": {},
   "source": [
    "\n",
    "var seats = sampleFloor\n",
    ".SelectMany((row, y) => \n",
    "    row.Select((col, x) => col == 'L' ? new Seat(x, y) : null)\n",
    ")\n",
    ".Where(seat => seat != null)\n",
    ".ToDictionary(seat => (seat.X, seat.Y));\n",
    "\n",
    "var rounds = 0;\n",
    "var maxRounds = 1000;\n",
    "\n",
    "Microsoft.DotNet.Interactive.Events.DisplayedValue output = display(drawPlan(sampleFloor, seats, output));\n",
    "\n",
    "var changes = -1;\n",
    "while(changes != 0 && rounds++ < maxRounds)\n",
    "{\n",
    "    var theseChanges = TurnChanges(seats, CountVisible);\n",
    "    changes = theseChanges;\n",
    "    System.Threading.Thread.Sleep(1000);\n",
    "    output.Update(drawPlan(sampleFloor, seats, output));\n",
    "}\n",
    "\n",
    "seats.Values.Count(x => x.Seated)\n",
    "\n",
    ""
   ],
   "outputs": [
    {
     "output_type": "execute_result",
     "data": {
      "text/plain": "#.LL.#L.L#\r\nLL#LLLL.LL\r\n#.L.#..#..\r\nLL#L.L#.L#\r\n#.LL.LL.LL\r\nL.L#L#L.#L\r\n..L.L.....\r\n#LLL#LLLL#\r\nL.#LLLL#.L\r\n#.LL##L.L#\r\n"
     },
     "execution_count": 1,
     "metadata": {}
    },
    {
     "output_type": "execute_result",
     "data": {
      "text/html": "<div class=\"dni-plaintext\">23</div>"
     },
     "execution_count": 1,
     "metadata": {}
    }
   ]
  }
 ],
 "metadata": {
  "kernelspec": {
   "display_name": ".NET (C#)",
   "language": "C#",
   "name": ".net-csharp"
  },
  "language_info": {
   "file_extension": ".cs",
   "mimetype": "text/x-csharp",
   "name": "C#",
   "pygments_lexer": "csharp",
   "version": "8.0"
  }
 },
 "nbformat": 4,
 "nbformat_minor": 4
}