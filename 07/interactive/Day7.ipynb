{
 "cells": [
  {
   "cell_type": "code",
   "execution_count": 1,
   "metadata": {},
   "source": [
    "string[] sample = System.IO.File.ReadAllText(@\".\\sample.txt\").Split(Environment.NewLine);\n",
    "sample"
   ],
   "outputs": [
    {
     "output_type": "execute_result",
     "data": {
      "text/html": "<table><thead><tr><th><i>index</i></th><th>value</th></tr></thead><tbody><tr><td>0</td><td><div class=\"dni-plaintext\">light red bags contain 1 bright white bag, 2 muted yellow bags.</div></td></tr><tr><td>1</td><td><div class=\"dni-plaintext\">dark orange bags contain 3 bright white bags, 4 muted yellow bags.</div></td></tr><tr><td>2</td><td><div class=\"dni-plaintext\">bright white bags contain 1 shiny gold bag.</div></td></tr><tr><td>3</td><td><div class=\"dni-plaintext\">muted yellow bags contain 2 shiny gold bags, 9 faded blue bags.</div></td></tr><tr><td>4</td><td><div class=\"dni-plaintext\">shiny gold bags contain 1 dark olive bag, 2 vibrant plum bags.</div></td></tr><tr><td>5</td><td><div class=\"dni-plaintext\">dark olive bags contain 3 faded blue bags, 4 dotted black bags.</div></td></tr><tr><td>6</td><td><div class=\"dni-plaintext\">vibrant plum bags contain 5 faded blue bags, 6 dotted black bags.</div></td></tr><tr><td>7</td><td><div class=\"dni-plaintext\">faded blue bags contain no other bags.</div></td></tr><tr><td>8</td><td><div class=\"dni-plaintext\">dotted black bags contain no other bags.</div></td></tr></tbody></table>"
     },
     "execution_count": 1,
     "metadata": {}
    }
   ]
  },
  {
   "cell_type": "code",
   "execution_count": 1,
   "metadata": {},
   "source": [
    "string[] input = System.IO.File.ReadAllText(@\".\\input.txt\").Split(Environment.NewLine);\n",
    "input"
   ],
   "outputs": [
    {
     "output_type": "execute_result",
     "data": {
      "text/html": "<table><thead><tr><th><i>index</i></th><th>value</th></tr></thead><tbody><tr><td>0</td><td><div class=\"dni-plaintext\">shiny aqua bags contain 1 dark white bag.</div></td></tr><tr><td>1</td><td><div class=\"dni-plaintext\">muted blue bags contain 1 vibrant lavender bag, 4 dotted silver bags, 2 dim indigo bags.</div></td></tr><tr><td>2</td><td><div class=\"dni-plaintext\">drab gray bags contain 5 mirrored white bags, 1 light green bag, 5 shiny lavender bags, 5 faded aqua bags.</div></td></tr><tr><td>3</td><td><div class=\"dni-plaintext\">muted indigo bags contain 4 muted chartreuse bags, 2 dotted teal bags.</div></td></tr><tr><td>4</td><td><div class=\"dni-plaintext\">drab white bags contain 2 dull fuchsia bags, 1 vibrant bronze bag.</div></td></tr><tr><td>5</td><td><div class=\"dni-plaintext\">dim lavender bags contain 4 muted tan bags.</div></td></tr><tr><td>6</td><td><div class=\"dni-plaintext\">dotted tomato bags contain 1 mirrored lime bag, 2 vibrant white bags.</div></td></tr><tr><td>7</td><td><div class=\"dni-plaintext\">clear orange bags contain 5 clear violet bags, 2 dull beige bags, 2 dark chartreuse bags.</div></td></tr><tr><td>8</td><td><div class=\"dni-plaintext\">bright lime bags contain no other bags.</div></td></tr><tr><td>9</td><td><div class=\"dni-plaintext\">striped brown bags contain 3 bright orange bags.</div></td></tr><tr><td>10</td><td><div class=\"dni-plaintext\">vibrant green bags contain 3 shiny fuchsia bags.</div></td></tr><tr><td>11</td><td><div class=\"dni-plaintext\">plaid tomato bags contain 3 faded chartreuse bags, 2 wavy salmon bags, 1 faded white bag, 3 mirrored maroon bags.</div></td></tr><tr><td>12</td><td><div class=\"dni-plaintext\">drab beige bags contain 2 shiny bronze bags, 4 pale violet bags, 3 bright tomato bags, 4 pale red bags.</div></td></tr><tr><td>13</td><td><div class=\"dni-plaintext\">posh green bags contain 2 dull lavender bags, 4 clear plum bags, 2 dark gray bags.</div></td></tr><tr><td>14</td><td><div class=\"dni-plaintext\">dull maroon bags contain 3 dull magenta bags, 1 dull tan bag, 1 faded cyan bag, 5 dull silver bags.</div></td></tr><tr><td>15</td><td><div class=\"dni-plaintext\">faded crimson bags contain 2 muted purple bags, 4 dotted olive bags, 5 drab silver bags.</div></td></tr><tr><td>16</td><td><div class=\"dni-plaintext\">wavy bronze bags contain 3 dark orange bags, 2 dark brown bags, 5 bright silver bags.</div></td></tr><tr><td>17</td><td><div class=\"dni-plaintext\">dark turquoise bags contain 5 dull plum bags.</div></td></tr><tr><td>18</td><td><div class=\"dni-plaintext\">dull lavender bags contain 4 dotted maroon bags, 3 muted brown bags, 4 drab black bags, 4 dull cyan bags.</div></td></tr><tr><td>19</td><td><div class=\"dni-plaintext\">dotted plum bags contain 1 shiny bronze bag, 3 clear brown bags, 3 muted indigo bags.</div></td></tr><tr><td colspan=\"2\">(574 more)</td></tr></tbody></table>"
     },
     "execution_count": 1,
     "metadata": {}
    }
   ]
  },
  {
   "cell_type": "code",
   "execution_count": 1,
   "metadata": {},
   "source": [
    "List<string> allPossible = new List<string>();\n",
    "var parentNames = new[]{\"shiny gold bag\"};\n",
    "int rounds = 0;\n",
    "Console.Out.WriteLine(String.Join(\", \", parentNames));\n",
    "while(parentNames.Length > 0 && rounds++ < 100)\n",
    "{\n",
    "    parentNames = sample.Select(x => x.Split(new[]{\" contain \", \", \"}, StringSplitOptions.None))\n",
    "        .Where(x => x.Skip(1).Any(y => parentNames.Any(z => y.Contains(z))))\n",
    "        .Select(x => x.First().TrimEnd('s'))\n",
    "        .ToArray();\n",
    "    Console.Out.WriteLine(rounds + \" \" + String.Join(\", \", parentNames));\n",
    "    allPossible.AddRange(parentNames);\n",
    "}\n",
    "allPossible"
   ],
   "outputs": [
    {
     "output_type": "execute_result",
     "data": {
      "text/plain": "shiny gold bag\r\n"
     },
     "execution_count": 1,
     "metadata": {}
    },
    {
     "output_type": "execute_result",
     "data": {
      "text/plain": "1 bright white bag, muted yellow bag\r\n"
     },
     "execution_count": 1,
     "metadata": {}
    },
    {
     "output_type": "execute_result",
     "data": {
      "text/plain": "2 light red bag, dark orange bag\r\n"
     },
     "execution_count": 1,
     "metadata": {}
    },
    {
     "output_type": "execute_result",
     "data": {
      "text/plain": "3 \r\n"
     },
     "execution_count": 1,
     "metadata": {}
    },
    {
     "output_type": "execute_result",
     "data": {
      "text/html": "<table><thead><tr><th><i>index</i></th><th>value</th></tr></thead><tbody><tr><td>0</td><td><div class=\"dni-plaintext\">bright white bag</div></td></tr><tr><td>1</td><td><div class=\"dni-plaintext\">muted yellow bag</div></td></tr><tr><td>2</td><td><div class=\"dni-plaintext\">light red bag</div></td></tr><tr><td>3</td><td><div class=\"dni-plaintext\">dark orange bag</div></td></tr></tbody></table>"
     },
     "execution_count": 1,
     "metadata": {}
    }
   ]
  },
  {
   "cell_type": "markdown",
   "metadata": {},
   "source": [
    "### 7.1 input"
   ]
  },
  {
   "cell_type": "code",
   "execution_count": 1,
   "metadata": {},
   "source": [
    "List<string> allPossible = new List<string>();\n",
    "var parentNames = new[]{\"shiny gold bag\"};\n",
    "int rounds = 0;\n",
    "while(parentNames.Length > 0 && rounds++ < 100)\n",
    "{\n",
    "    parentNames = input.Select(x => x.Split(new[]{\" contain \", \", \"}, StringSplitOptions.None))\n",
    "        .Where(x => x.Skip(1).Any(y => parentNames.Any(z => y.Contains(z))))\n",
    "        .Select(x => x.First().TrimEnd('s'))\n",
    "        .ToArray();\n",
    "    allPossible.AddRange(parentNames);\n",
    "}\n",
    "Console.Out.WriteLine(allPossible.Distinct().Count());\n",
    "allPossible.Distinct()"
   ],
   "outputs": [
    {
     "output_type": "execute_result",
     "data": {
      "text/plain": "265\r\n"
     },
     "execution_count": 1,
     "metadata": {}
    },
    {
     "output_type": "execute_result",
     "data": {
      "text/html": "<table><thead><tr><th><i>index</i></th><th>value</th></tr></thead><tbody><tr><td>0</td><td><div class=\"dni-plaintext\">dull white bag</div></td></tr><tr><td>1</td><td><div class=\"dni-plaintext\">clear turquoise bag</div></td></tr><tr><td>2</td><td><div class=\"dni-plaintext\">wavy lime bag</div></td></tr><tr><td>3</td><td><div class=\"dni-plaintext\">striped green bag</div></td></tr><tr><td>4</td><td><div class=\"dni-plaintext\">shiny salmon bag</div></td></tr><tr><td>5</td><td><div class=\"dni-plaintext\">plaid gray bag</div></td></tr><tr><td>6</td><td><div class=\"dni-plaintext\">dark tan bag</div></td></tr><tr><td>7</td><td><div class=\"dni-plaintext\">dull bronze bag</div></td></tr><tr><td>8</td><td><div class=\"dni-plaintext\">dull gray bag</div></td></tr><tr><td>9</td><td><div class=\"dni-plaintext\">plaid blue bag</div></td></tr><tr><td>10</td><td><div class=\"dni-plaintext\">drab chartreuse bag</div></td></tr><tr><td>11</td><td><div class=\"dni-plaintext\">striped blue bag</div></td></tr><tr><td>12</td><td><div class=\"dni-plaintext\">shiny gray bag</div></td></tr><tr><td>13</td><td><div class=\"dni-plaintext\">vibrant beige bag</div></td></tr><tr><td>14</td><td><div class=\"dni-plaintext\">pale tan bag</div></td></tr><tr><td>15</td><td><div class=\"dni-plaintext\">dotted green bag</div></td></tr><tr><td>16</td><td><div class=\"dni-plaintext\">dim indigo bag</div></td></tr><tr><td>17</td><td><div class=\"dni-plaintext\">pale indigo bag</div></td></tr><tr><td>18</td><td><div class=\"dni-plaintext\">posh salmon bag</div></td></tr><tr><td>19</td><td><div class=\"dni-plaintext\">clear gold bag</div></td></tr><tr><td colspan=\"2\">(245 more)</td></tr></tbody></table>"
     },
     "execution_count": 1,
     "metadata": {}
    }
   ]
  }
 ],
 "metadata": {
  "kernelspec": {
   "display_name": ".NET (C#)",
   "language": "C#",
   "name": ".net-csharp"
  },
  "language_info": {
   "file_extension": ".cs",
   "mimetype": "text/x-csharp",
   "name": "C#",
   "pygments_lexer": "csharp",
   "version": "8.0"
  }
 },
 "nbformat": 4,
 "nbformat_minor": 4
}