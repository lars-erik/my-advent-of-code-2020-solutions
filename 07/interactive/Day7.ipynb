{
 "cells": [
  {
   "cell_type": "code",
   "execution_count": 1,
   "metadata": {},
   "source": [
    "string[] sample = System.IO.File.ReadAllText(@\".\\sample.txt\").Split(Environment.NewLine);\n",
    "sample"
   ],
   "outputs": [
    {
     "output_type": "execute_result",
     "data": {
      "text/html": "<table><thead><tr><th><i>index</i></th><th>value</th></tr></thead><tbody><tr><td>0</td><td><div class=\"dni-plaintext\">light red bags contain 1 bright white bag, 2 muted yellow bags.</div></td></tr><tr><td>1</td><td><div class=\"dni-plaintext\">dark orange bags contain 3 bright white bags, 4 muted yellow bags.</div></td></tr><tr><td>2</td><td><div class=\"dni-plaintext\">bright white bags contain 1 shiny gold bag.</div></td></tr><tr><td>3</td><td><div class=\"dni-plaintext\">muted yellow bags contain 2 shiny gold bags, 9 faded blue bags.</div></td></tr><tr><td>4</td><td><div class=\"dni-plaintext\">shiny gold bags contain 1 dark olive bag, 2 vibrant plum bags.</div></td></tr><tr><td>5</td><td><div class=\"dni-plaintext\">dark olive bags contain 3 faded blue bags, 4 dotted black bags.</div></td></tr><tr><td>6</td><td><div class=\"dni-plaintext\">vibrant plum bags contain 5 faded blue bags, 6 dotted black bags.</div></td></tr><tr><td>7</td><td><div class=\"dni-plaintext\">faded blue bags contain no other bags.</div></td></tr><tr><td>8</td><td><div class=\"dni-plaintext\">dotted black bags contain no other bags.</div></td></tr></tbody></table>"
     },
     "execution_count": 1,
     "metadata": {}
    }
   ]
  },
  {
   "cell_type": "code",
   "execution_count": 1,
   "metadata": {},
   "source": [
    "string[] input = System.IO.File.ReadAllText(@\".\\input.txt\").Split(Environment.NewLine);\n",
    "input"
   ],
   "outputs": [
    {
     "output_type": "execute_result",
     "data": {
      "text/html": "<table><thead><tr><th><i>index</i></th><th>value</th></tr></thead><tbody><tr><td>0</td><td><div class=\"dni-plaintext\">shiny aqua bags contain 1 dark white bag.</div></td></tr><tr><td>1</td><td><div class=\"dni-plaintext\">muted blue bags contain 1 vibrant lavender bag, 4 dotted silver bags, 2 dim indigo bags.</div></td></tr><tr><td>2</td><td><div class=\"dni-plaintext\">drab gray bags contain 5 mirrored white bags, 1 light green bag, 5 shiny lavender bags, 5 faded aqua bags.</div></td></tr><tr><td>3</td><td><div class=\"dni-plaintext\">muted indigo bags contain 4 muted chartreuse bags, 2 dotted teal bags.</div></td></tr><tr><td>4</td><td><div class=\"dni-plaintext\">drab white bags contain 2 dull fuchsia bags, 1 vibrant bronze bag.</div></td></tr><tr><td>5</td><td><div class=\"dni-plaintext\">dim lavender bags contain 4 muted tan bags.</div></td></tr><tr><td>6</td><td><div class=\"dni-plaintext\">dotted tomato bags contain 1 mirrored lime bag, 2 vibrant white bags.</div></td></tr><tr><td>7</td><td><div class=\"dni-plaintext\">clear orange bags contain 5 clear violet bags, 2 dull beige bags, 2 dark chartreuse bags.</div></td></tr><tr><td>8</td><td><div class=\"dni-plaintext\">bright lime bags contain no other bags.</div></td></tr><tr><td>9</td><td><div class=\"dni-plaintext\">striped brown bags contain 3 bright orange bags.</div></td></tr><tr><td>10</td><td><div class=\"dni-plaintext\">vibrant green bags contain 3 shiny fuchsia bags.</div></td></tr><tr><td>11</td><td><div class=\"dni-plaintext\">plaid tomato bags contain 3 faded chartreuse bags, 2 wavy salmon bags, 1 faded white bag, 3 mirrored maroon bags.</div></td></tr><tr><td>12</td><td><div class=\"dni-plaintext\">drab beige bags contain 2 shiny bronze bags, 4 pale violet bags, 3 bright tomato bags, 4 pale red bags.</div></td></tr><tr><td>13</td><td><div class=\"dni-plaintext\">posh green bags contain 2 dull lavender bags, 4 clear plum bags, 2 dark gray bags.</div></td></tr><tr><td>14</td><td><div class=\"dni-plaintext\">dull maroon bags contain 3 dull magenta bags, 1 dull tan bag, 1 faded cyan bag, 5 dull silver bags.</div></td></tr><tr><td>15</td><td><div class=\"dni-plaintext\">faded crimson bags contain 2 muted purple bags, 4 dotted olive bags, 5 drab silver bags.</div></td></tr><tr><td>16</td><td><div class=\"dni-plaintext\">wavy bronze bags contain 3 dark orange bags, 2 dark brown bags, 5 bright silver bags.</div></td></tr><tr><td>17</td><td><div class=\"dni-plaintext\">dark turquoise bags contain 5 dull plum bags.</div></td></tr><tr><td>18</td><td><div class=\"dni-plaintext\">dull lavender bags contain 4 dotted maroon bags, 3 muted brown bags, 4 drab black bags, 4 dull cyan bags.</div></td></tr><tr><td>19</td><td><div class=\"dni-plaintext\">dotted plum bags contain 1 shiny bronze bag, 3 clear brown bags, 3 muted indigo bags.</div></td></tr><tr><td colspan=\"2\">(574 more)</td></tr></tbody></table>"
     },
     "execution_count": 1,
     "metadata": {}
    }
   ]
  },
  {
   "cell_type": "code",
   "execution_count": 1,
   "metadata": {},
   "source": [
    "string[] possibleParents = null;\n",
    "List<string> allPossible = new List<string>();\n",
    "var parentNames = new[]{\"shiny gold bag\"};\n",
    "int rounds = 0;\n",
    "Console.Out.WriteLine(String.Join(\", \", parentNames));\n",
    "while(parentNames.Length > 0 && rounds++ < 100)\n",
    "{\n",
    "    string[] possibleParents = sample.Select(x => x.Split(\" contain \").SelectMany(y => y.Split(\", \")))\n",
    "        .Where(x => x.Skip(1).Any(y => parentNames.Any(z => y.Contains(z))))\n",
    "        .Select(x => x.First().TrimEnd('s'))\n",
    "        .ToArray();\n",
    "    parentNames = possibleParents;\n",
    "    Console.Out.WriteLine(rounds + \" \" + String.Join(\", \", parentNames));\n",
    "    allPossible.AddRange(possibleParents);\n",
    "}\n",
    "allPossible"
   ],
   "outputs": [
    {
     "output_type": "execute_result",
     "data": {
      "text/plain": "shiny gold bag\r\n"
     },
     "execution_count": 1,
     "metadata": {}
    },
    {
     "output_type": "execute_result",
     "data": {
      "text/plain": "1 bright white bag, muted yellow bag\r\n"
     },
     "execution_count": 1,
     "metadata": {}
    },
    {
     "output_type": "execute_result",
     "data": {
      "text/plain": "2 light red bag, dark orange bag\r\n"
     },
     "execution_count": 1,
     "metadata": {}
    },
    {
     "output_type": "execute_result",
     "data": {
      "text/plain": "3 \r\n"
     },
     "execution_count": 1,
     "metadata": {}
    },
    {
     "output_type": "execute_result",
     "data": {
      "text/html": "<table><thead><tr><th><i>index</i></th><th>value</th></tr></thead><tbody><tr><td>0</td><td><div class=\"dni-plaintext\">bright white bag</div></td></tr><tr><td>1</td><td><div class=\"dni-plaintext\">muted yellow bag</div></td></tr><tr><td>2</td><td><div class=\"dni-plaintext\">light red bag</div></td></tr><tr><td>3</td><td><div class=\"dni-plaintext\">dark orange bag</div></td></tr></tbody></table>"
     },
     "execution_count": 1,
     "metadata": {}
    }
   ]
  },
  {
   "cell_type": "markdown",
   "metadata": {},
   "source": [
    "### 7.1 input"
   ]
  },
  {
   "cell_type": "code",
   "execution_count": 1,
   "metadata": {},
   "source": [
    "string[] possibleParents = null;\n",
    "List<string> allPossible = new List<string>();\n",
    "var parentNames = new[]{\"shiny gold bag\"};\n",
    "int rounds = 0;\n",
    "while(parentNames.Length > 0 && rounds++ < 1000)\n",
    "{\n",
    "    string[] possibleParents = input.Select(x => x.Split(\" contain \").SelectMany(y => y.Split(\", \")))\n",
    "        .Where(x => x.Skip(1).Any(y => parentNames.Any(z => y.Contains(z))))\n",
    "        .Select(x => x.First().TrimEnd('s'))\n",
    "        .ToArray();\n",
    "    parentNames = possibleParents;\n",
    "    allPossible.AddRange(possibleParents);\n",
    "}\n",
    "Console.Out.WriteLine(allPossible.Distinct().Count());\n",
    "allPossible"
   ],
   "outputs": [
    {
     "output_type": "execute_result",
     "data": {
      "text/plain": "dull white bag, clear turquoise bag, wavy lime bag, striped green bag, shiny salmon bag, plaid gray bag\r\n"
     },
     "execution_count": 1,
     "metadata": {}
    },
    {
     "output_type": "execute_result",
     "data": {
      "text/plain": "dark tan bag, dull bronze bag, dull gray bag, plaid blue bag, drab chartreuse bag, striped blue bag, shiny gray bag, vibrant beige bag, pale tan bag, dotted green bag, dim indigo bag, pale indigo bag, posh salmon bag, clear gold bag, light blue bag\r\n"
     },
     "execution_count": 1,
     "metadata": {}
    },
    {
     "output_type": "execute_result",
     "data": {
      "text/plain": "muted blue bag, striped tomato bag, faded olive bag, mirrored gray bag, plaid green bag, mirrored plum bag, wavy cyan bag, dull violet bag, plaid coral bag, posh gold bag, bright tan bag, dim yellow bag, pale lavender bag, striped blue bag, posh coral bag, drab orange bag, posh crimson bag, dotted yellow bag, dark gray bag, pale olive bag, striped orange bag, dim black bag, dim bronze bag, wavy indigo bag, striped purple bag, plaid teal bag, muted beige bag, striped aqua bag, pale turquoise bag, muted black bag, dull red bag, clear coral bag, dotted fuchsia bag, dull yellow bag, mirrored white bag, drab yellow bag, vibrant fuchsia bag, dotted red bag\r\n"
     },
     "execution_count": 1,
     "metadata": {}
    },
    {
     "output_type": "execute_result",
     "data": {
      "text/plain": "drab gray bag, posh green bag, wavy brown bag, wavy yellow bag, dull gray bag, dark purple bag, vibrant lime bag, muted lavender bag, plaid green bag, drab brown bag, dim gray bag, muted aqua bag, plaid plum bag, dotted silver bag, dull violet bag, striped fuchsia bag, posh maroon bag, shiny silver bag, dull chartreuse bag, muted crimson bag, pale lavender bag, vibrant crimson bag, vibrant chartreuse bag, striped blue bag, posh silver bag, shiny white bag, dark aqua bag, mirrored gold bag, posh yellow bag, posh crimson bag, dotted yellow bag, dark gray bag, bright crimson bag, wavy teal bag, vibrant indigo bag, shiny turquoise bag, pale plum bag, pale fuchsia bag, faded teal bag, shiny maroon bag, dark yellow bag, vibrant orange bag, striped aqua bag, clear tan bag, wavy gold bag, plaid cyan bag, vibrant red bag, mirrored turquoise bag, vibrant bronze bag, dull green bag, drab coral bag, mirrored white bag, dotted white bag, bright tomato bag, mirrored red bag\r\n"
     },
     "execution_count": 1,
     "metadata": {}
    },
    {
     "output_type": "execute_result",
     "data": {
      "text/plain": "muted blue bag, drab gray bag, drab white bag, drab beige bag, posh green bag, dull white bag, dull teal bag, shiny red bag, wavy yellow bag, dull gray bag, pale teal bag, shiny lime bag, pale black bag, bright yellow bag, faded indigo bag, wavy white bag, muted lavender bag, dim gray bag, muted chartreuse bag, light plum bag, drab fuchsia bag, posh orange bag, shiny purple bag, wavy silver bag, dull purple bag, mirrored beige bag, posh gold bag, posh purple bag, vibrant plum bag, dark gold bag, pale lavender bag, wavy blue bag, posh tomato bag, posh coral bag, pale magenta bag, muted yellow bag, mirrored gold bag, posh yellow bag, posh crimson bag, dotted yellow bag, dark gray bag, clear red bag, posh turquoise bag, striped magenta bag, clear white bag, drab olive bag, striped salmon bag, dull black bag, wavy aqua bag, drab aqua bag, light maroon bag, striped bronze bag, dark salmon bag, dim bronze bag, faded teal bag, dotted brown bag, vibrant orange bag, posh white bag, light teal bag, plaid beige bag, clear beige bag, shiny violet bag, striped plum bag, vibrant red bag, dim blue bag, wavy magenta bag, dull yellow bag, drab coral bag, mirrored crimson bag, dotted white bag, light gold bag, pale purple bag, plaid orange bag, shiny brown bag\r\n"
     },
     "execution_count": 1,
     "metadata": {}
    },
    {
     "output_type": "execute_result",
     "data": {
      "text/plain": "muted indigo bag, posh green bag, wavy yellow bag, dull bronze bag, dull gray bag, light tan bag, bright maroon bag, muted olive bag, faded coral bag, vibrant lime bag, faded green bag, pale black bag, plaid bronze bag, faded red bag, muted lavender bag, dim gray bag, dotted silver bag, light plum bag, drab fuchsia bag, plaid silver bag, striped fuchsia bag, wavy silver bag, vibrant silver bag, striped gray bag, mirrored violet bag, dull purple bag, striped chartreuse bag, posh purple bag, vibrant plum bag, muted maroon bag, posh fuchsia bag, pale silver bag, vibrant blue bag, pale crimson bag, dark fuchsia bag, posh silver bag, shiny yellow bag, vibrant beige bag, dull aqua bag, shiny chartreuse bag, dotted yellow bag, bright crimson bag, pale aqua bag, clear red bag, shiny coral bag, drab maroon bag, vibrant indigo bag, drab aqua bag, clear lime bag, light maroon bag, clear magenta bag, dark salmon bag, dim gold bag, pale fuchsia bag, drab salmon bag, muted silver bag, shiny maroon bag, pale indigo bag, vibrant orange bag, bright violet bag, mirrored lavender bag, clear bronze bag, clear gray bag, dark magenta bag, wavy purple bag, dotted gold bag, shiny violet bag, striped plum bag, dim blue bag, bright teal bag, dull yellow bag, drab coral bag, pale white bag, wavy turquoise bag, light olive bag, bright tomato bag, drab magenta bag, striped black bag, pale purple bag, bright olive bag, dim salmon bag, light blue bag, muted tomato bag, dull lime bag\r\n"
     },
     "execution_count": 1,
     "metadata": {}
    },
    {
     "output_type": "execute_result",
     "data": {
      "text/plain": "muted blue bag, drab beige bag, dotted plum bag, dull teal bag, wavy yellow bag, dark lime bag, striped tomato bag, faded olive bag, bright yellow bag, pale orange bag, plaid green bag, dull olive bag, dull violet bag, pale chartreuse bag, light tomato bag, drab chartreuse bag, drab violet bag, posh cyan bag, striped fuchsia bag, dull purple bag, posh purple bag, faded lime bag, vibrant plum bag, dark gold bag, bright tan bag, striped maroon bag, striped blue bag, light coral bag, drab orange bag, shiny yellow bag, pale magenta bag, bright bronze bag, muted yellow bag, dull aqua bag, mirrored magenta bag, pale aqua bag, clear red bag, striped magenta bag, plaid violet bag, vibrant maroon bag, vibrant indigo bag, posh tan bag, faded blue bag, clear lime bag, striped bronze bag, dark salmon bag, vibrant salmon bag, wavy chartreuse bag, striped turquoise bag, dim red bag, clear tomato bag, muted turquoise bag, dull tomato bag, dark olive bag, pale indigo bag, dark yellow bag, posh white bag, clear gray bag, clear aqua bag, bright magenta bag, clear beige bag, dark magenta bag, dim brown bag, wavy purple bag, shiny cyan bag, pale cyan bag, shiny violet bag, faded maroon bag, vibrant red bag, light red bag, dim blue bag, drab lime bag, wavy magenta bag, mirrored turquoise bag, posh black bag, dim lime bag, dull yellow bag, drab coral bag, vibrant lavender bag, drab yellow bag, light olive bag, striped lime bag, pale purple bag, vibrant fuchsia bag, dull turquoise bag, muted tomato bag, dotted red bag, dark beige bag\r\n"
     },
     "execution_count": 1,
     "metadata": {}
    },
    {
     "output_type": "execute_result",
     "data": {
      "text/plain": "muted blue bag, dark blue bag, faded olive bag, dotted indigo bag, faded green bag, faded indigo bag, wavy white bag, plaid green bag, light plum bag, wavy tomato bag, dull purple bag, striped tan bag, pale silver bag, posh aqua bag, striped maroon bag, pale lavender bag, shiny yellow bag, bright bronze bag, shiny white bag, dull aqua bag, faded gold bag, posh crimson bag, muted white bag, dotted yellow bag, dark gray bag, bright crimson bag, pale aqua bag, clear red bag, drab maroon bag, plaid violet bag, vibrant indigo bag, shiny turquoise bag, posh tan bag, wavy aqua bag, light maroon bag, dark salmon bag, wavy chartreuse bag, dim indigo bag, drab salmon bag, muted orange bag, dark yellow bag, posh white bag, dim orange bag, light teal bag, clear gray bag, wavy gold bag, clear aqua bag, light beige bag, bright magenta bag, dark magenta bag, wavy purple bag, shiny cyan bag, mirrored yellow bag, mirrored indigo bag, plaid cyan bag, shiny violet bag, striped plum bag, vibrant red bag, dim lime bag, vibrant bronze bag, mirrored crimson bag, mirrored green bag, bright purple bag, bright tomato bag, drab magenta bag, pale purple bag, light blue bag\r\n"
     },
     "execution_count": 1,
     "metadata": {}
    },
    {
     "output_type": "execute_result",
     "data": {
      "text/plain": "muted blue bag, drab white bag, drab beige bag, posh green bag, dull teal bag, wavy yellow bag, dark lime bag, dull gray bag, pale teal bag, striped tomato bag, faded olive bag, bright maroon bag, faded coral bag, faded green bag, mirrored gray bag, muted lavender bag, dim gray bag, dull violet bag, light plum bag, plaid coral bag, drab chartreuse bag, posh orange bag, dark gold bag, muted maroon bag, bright tan bag, striped maroon bag, bright bronze bag, muted salmon bag, dull aqua bag, vibrant teal bag, bright crimson bag, pale aqua bag, dotted maroon bag, striped salmon bag, posh tan bag, wavy aqua bag, dim purple bag, clear lime bag, wavy chartreuse bag, drab salmon bag, dim bronze bag, striped purple bag, clear tomato bag, dotted lavender bag, vibrant orange bag, clear aqua bag, wavy purple bag, shiny cyan bag, wavy green bag, faded yellow bag, dim lime bag, bright tomato bag, muted tomato bag, dotted red bag\r\n"
     },
     "execution_count": 1,
     "metadata": {}
    },
    {
     "output_type": "execute_result",
     "data": {
      "text/plain": "drab beige bag, dull lavender bag, dull teal bag, faded olive bag, dotted indigo bag, light plum bag, drab fuchsia bag, drab chartreuse bag, striped fuchsia bag, dull purple bag, posh purple bag, clear yellow bag, vibrant beige bag, light silver bag, shiny white bag, bright crimson bag, clear red bag, drab aqua bag, dim gold bag, pale indigo bag, wavy gold bag, mirrored yellow bag, striped plum bag, dim blue bag, vibrant bronze bag, dull yellow bag, light olive bag, bright tomato bag, pale purple bag, posh indigo bag, dim salmon bag\r\n"
     },
     "execution_count": 1,
     "metadata": {}
    },
    {
     "output_type": "execute_result",
     "data": {
      "text/plain": "drab white bag, drab beige bag, posh green bag, dull teal bag, pale teal bag, bright maroon bag, plaid green bag, plaid silver bag, dark gold bag, drab orange bag, dull aqua bag, clear red bag, striped salmon bag, vibrant indigo bag, light maroon bag, drab salmon bag, dim bronze bag, striped plum bag, vibrant red bag, vibrant fuchsia bag\r\n"
     },
     "execution_count": 1,
     "metadata": {}
    },
    {
     "output_type": "execute_result",
     "data": {
      "text/plain": "drab chartreuse bag, vibrant beige bag, clear red bag, striped plum bag, vibrant red bag, light olive bag, dim salmon bag\r\n"
     },
     "execution_count": 1,
     "metadata": {}
    },
    {
     "output_type": "execute_result",
     "data": {
      "text/plain": "drab orange bag, vibrant fuchsia bag\r\n"
     },
     "execution_count": 1,
     "metadata": {}
    },
    {
     "output_type": "execute_result",
     "data": {
      "text/plain": "vibrant red bag\r\n"
     },
     "execution_count": 1,
     "metadata": {}
    },
    {
     "output_type": "execute_result",
     "data": {
      "text/plain": "\r\n"
     },
     "execution_count": 1,
     "metadata": {}
    },
    {
     "output_type": "execute_result",
     "data": {
      "text/plain": "15\r\n"
     },
     "execution_count": 1,
     "metadata": {}
    },
    {
     "output_type": "execute_result",
     "data": {
      "text/plain": "265\r\n"
     },
     "execution_count": 1,
     "metadata": {}
    },
    {
     "output_type": "execute_result",
     "data": {
      "text/html": "<table><thead><tr><th><i>index</i></th><th>value</th></tr></thead><tbody><tr><td>0</td><td><div class=\"dni-plaintext\">dull white bag</div></td></tr><tr><td>1</td><td><div class=\"dni-plaintext\">clear turquoise bag</div></td></tr><tr><td>2</td><td><div class=\"dni-plaintext\">wavy lime bag</div></td></tr><tr><td>3</td><td><div class=\"dni-plaintext\">striped green bag</div></td></tr><tr><td>4</td><td><div class=\"dni-plaintext\">shiny salmon bag</div></td></tr><tr><td>5</td><td><div class=\"dni-plaintext\">plaid gray bag</div></td></tr><tr><td>6</td><td><div class=\"dni-plaintext\">dark tan bag</div></td></tr><tr><td>7</td><td><div class=\"dni-plaintext\">dull bronze bag</div></td></tr><tr><td>8</td><td><div class=\"dni-plaintext\">dull gray bag</div></td></tr><tr><td>9</td><td><div class=\"dni-plaintext\">plaid blue bag</div></td></tr><tr><td>10</td><td><div class=\"dni-plaintext\">drab chartreuse bag</div></td></tr><tr><td>11</td><td><div class=\"dni-plaintext\">striped blue bag</div></td></tr><tr><td>12</td><td><div class=\"dni-plaintext\">shiny gray bag</div></td></tr><tr><td>13</td><td><div class=\"dni-plaintext\">vibrant beige bag</div></td></tr><tr><td>14</td><td><div class=\"dni-plaintext\">pale tan bag</div></td></tr><tr><td>15</td><td><div class=\"dni-plaintext\">dotted green bag</div></td></tr><tr><td>16</td><td><div class=\"dni-plaintext\">dim indigo bag</div></td></tr><tr><td>17</td><td><div class=\"dni-plaintext\">pale indigo bag</div></td></tr><tr><td>18</td><td><div class=\"dni-plaintext\">posh salmon bag</div></td></tr><tr><td>19</td><td><div class=\"dni-plaintext\">clear gold bag</div></td></tr><tr><td colspan=\"2\">(522 more)</td></tr></tbody></table>"
     },
     "execution_count": 1,
     "metadata": {}
    }
   ]
  }
 ],
 "metadata": {
  "kernelspec": {
   "display_name": ".NET (C#)",
   "language": "C#",
   "name": ".net-csharp"
  },
  "language_info": {
   "file_extension": ".cs",
   "mimetype": "text/x-csharp",
   "name": "C#",
   "pygments_lexer": "csharp",
   "version": "8.0"
  }
 },
 "nbformat": 4,
 "nbformat_minor": 4
}