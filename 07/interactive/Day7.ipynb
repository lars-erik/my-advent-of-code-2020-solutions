{
 "cells": [
  {
   "cell_type": "code",
   "execution_count": 1,
   "metadata": {},
   "source": [
    "string[] sample = System.IO.File.ReadAllText(@\".\\sample.txt\").Split(Environment.NewLine);\n",
    "sample"
   ],
   "outputs": [
    {
     "output_type": "execute_result",
     "data": {
      "text/html": "<table><thead><tr><th><i>index</i></th><th>value</th></tr></thead><tbody><tr><td>0</td><td><div class=\"dni-plaintext\">light red bags contain 1 bright white bag, 2 muted yellow bags.</div></td></tr><tr><td>1</td><td><div class=\"dni-plaintext\">dark orange bags contain 3 bright white bags, 4 muted yellow bags.</div></td></tr><tr><td>2</td><td><div class=\"dni-plaintext\">bright white bags contain 1 shiny gold bag.</div></td></tr><tr><td>3</td><td><div class=\"dni-plaintext\">muted yellow bags contain 2 shiny gold bags, 9 faded blue bags.</div></td></tr><tr><td>4</td><td><div class=\"dni-plaintext\">shiny gold bags contain 1 dark olive bag, 2 vibrant plum bags.</div></td></tr><tr><td>5</td><td><div class=\"dni-plaintext\">dark olive bags contain 3 faded blue bags, 4 dotted black bags.</div></td></tr><tr><td>6</td><td><div class=\"dni-plaintext\">vibrant plum bags contain 5 faded blue bags, 6 dotted black bags.</div></td></tr><tr><td>7</td><td><div class=\"dni-plaintext\">faded blue bags contain no other bags.</div></td></tr><tr><td>8</td><td><div class=\"dni-plaintext\">dotted black bags contain no other bags.</div></td></tr></tbody></table>"
     },
     "execution_count": 1,
     "metadata": {}
    }
   ]
  },
  {
   "cell_type": "code",
   "execution_count": 1,
   "metadata": {},
   "source": [
    "sample.Select(x => x.Split(\" contain \").SelectMany(y => y.Split(\", \")))\n",
    "    .Where(x => x.Skip(1).Any(y => y.Contains(\"shiny gold\")))"
   ],
   "outputs": [
    {
     "output_type": "execute_result",
     "data": {
      "text/html": "<table><thead><tr><th><i>index</i></th><th>value</th></tr></thead><tbody><tr><td>0</td><td><div class=\"dni-plaintext\">[ bright white bags, 1 shiny gold bag. ]</div></td></tr><tr><td>1</td><td><div class=\"dni-plaintext\">[ muted yellow bags, 2 shiny gold bags, 9 faded blue bags. ]</div></td></tr></tbody></table>"
     },
     "execution_count": 1,
     "metadata": {}
    }
   ]
  },
  {
   "cell_type": "markdown",
   "metadata": {},
   "source": [
    "Need to recurse this. 🤷‍♂️"
   ]
  }
 ],
 "metadata": {
  "kernelspec": {
   "display_name": ".NET (C#)",
   "language": "C#",
   "name": ".net-csharp"
  },
  "language_info": {
   "file_extension": ".cs",
   "mimetype": "text/x-csharp",
   "name": "C#",
   "pygments_lexer": "csharp",
   "version": "8.0"
  }
 },
 "nbformat": 4,
 "nbformat_minor": 4
}