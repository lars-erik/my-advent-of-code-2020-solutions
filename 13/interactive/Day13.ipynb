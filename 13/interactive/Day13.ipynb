{
 "cells": [
  {
   "cell_type": "markdown",
   "metadata": {},
   "source": [
    "## Day 13"
   ]
  },
  {
   "cell_type": "code",
   "execution_count": 1,
   "metadata": {},
   "source": [
    "(int index, int time)[] ParseInput(string input)\n",
    "{\n",
    "    return input\n",
    "        .Split(\",\")\n",
    "        .Select((x, i) => (index: i, time: x))\n",
    "        .Where(x => x.time != \"x\")\n",
    "        .Select(x => (index: x.index, time: Convert.ToInt32(x.time)))\n",
    "        .ToArray();\n",
    "}"
   ],
   "outputs": []
  },
  {
   "cell_type": "code",
   "execution_count": 1,
   "metadata": {},
   "source": [
    "var input = ParseInput(\"17,x,x,x,x,x,x,41,x,x,x,37,x,x,x,x,x,367,x,x,x,x,x,x,x,x,x,x,x,x,x,x,x,x,x,x,19,x,x,x,23,x,x,x,x,x,29,x,613,x,x,x,x,x,x,x,x,x,x,x,x,13\");\n",
    "\n",
    "input"
   ],
   "outputs": [
    {
     "output_type": "execute_result",
     "data": {
      "text/html": "<table><thead><tr><th><i>index</i></th><th>Item1</th><th>Item2</th></tr></thead><tbody><tr><td>0</td><td><div class=\"dni-plaintext\">0</div></td><td><div class=\"dni-plaintext\">17</div></td></tr><tr><td>1</td><td><div class=\"dni-plaintext\">7</div></td><td><div class=\"dni-plaintext\">41</div></td></tr><tr><td>2</td><td><div class=\"dni-plaintext\">11</div></td><td><div class=\"dni-plaintext\">37</div></td></tr><tr><td>3</td><td><div class=\"dni-plaintext\">17</div></td><td><div class=\"dni-plaintext\">367</div></td></tr><tr><td>4</td><td><div class=\"dni-plaintext\">36</div></td><td><div class=\"dni-plaintext\">19</div></td></tr><tr><td>5</td><td><div class=\"dni-plaintext\">40</div></td><td><div class=\"dni-plaintext\">23</div></td></tr><tr><td>6</td><td><div class=\"dni-plaintext\">46</div></td><td><div class=\"dni-plaintext\">29</div></td></tr><tr><td>7</td><td><div class=\"dni-plaintext\">48</div></td><td><div class=\"dni-plaintext\">613</div></td></tr><tr><td>8</td><td><div class=\"dni-plaintext\">61</div></td><td><div class=\"dni-plaintext\">13</div></td></tr></tbody></table>"
     },
     "execution_count": 1,
     "metadata": {}
    }
   ]
  },
  {
   "cell_type": "code",
   "execution_count": 1,
   "metadata": {},
   "source": [
    "var sampleInput = ParseInput(\"17,x,13,19\");\n",
    "\n",
    "sampleInput"
   ],
   "outputs": [
    {
     "output_type": "execute_result",
     "data": {
      "text/html": "<table><thead><tr><th><i>index</i></th><th>Item1</th><th>Item2</th></tr></thead><tbody><tr><td>0</td><td><div class=\"dni-plaintext\">0</div></td><td><div class=\"dni-plaintext\">17</div></td></tr><tr><td>1</td><td><div class=\"dni-plaintext\">2</div></td><td><div class=\"dni-plaintext\">13</div></td></tr><tr><td>2</td><td><div class=\"dni-plaintext\">3</div></td><td><div class=\"dni-plaintext\">19</div></td></tr></tbody></table>"
     },
     "execution_count": 1,
     "metadata": {}
    }
   ]
  },
  {
   "cell_type": "code",
   "execution_count": 1,
   "metadata": {},
   "source": [
    "long[] FindDivisors(long number)\n",
    "{\n",
    "    var divisors = new List<long>{1};\n",
    "    for(var i = 2; i < number/2; i++)\n",
    "    {\n",
    "        if (number % i == 0) {\n",
    "            divisors.Add(i);\n",
    "        }\n",
    "    }\n",
    "    divisors.Add(number);\n",
    "    return divisors.ToArray();\n",
    "}\n",
    "\n",
    "Enumerable.Range(2, 4).Select(x => (x, FindDivisors(x)))"
   ],
   "outputs": [
    {
     "output_type": "execute_result",
     "data": {
      "text/html": "<table><thead><tr><th><i>index</i></th><th>Item1</th><th>Item2</th></tr></thead><tbody><tr><td>0</td><td><div class=\"dni-plaintext\">2</div></td><td><div class=\"dni-plaintext\">[ 1, 2 ]</div></td></tr><tr><td>1</td><td><div class=\"dni-plaintext\">3</div></td><td><div class=\"dni-plaintext\">[ 1, 3 ]</div></td></tr><tr><td>2</td><td><div class=\"dni-plaintext\">4</div></td><td><div class=\"dni-plaintext\">[ 1, 4 ]</div></td></tr><tr><td>3</td><td><div class=\"dni-plaintext\">5</div></td><td><div class=\"dni-plaintext\">[ 1, 5 ]</div></td></tr></tbody></table>"
     },
     "execution_count": 1,
     "metadata": {}
    }
   ]
  },
  {
   "cell_type": "code",
   "execution_count": 1,
   "metadata": {},
   "source": [
    "long Gcd(long a, long b) {\n",
    "    var ad = FindDivisors(a);\n",
    "    var bd = FindDivisors(b);\n",
    "    var shared = ad.Join(bd, a => a, b => b, (a, b) => a);\n",
    "    return shared.Max();\n",
    "}\n",
    "\n",
    "Gcd(12, 15)"
   ],
   "outputs": [
    {
     "output_type": "execute_result",
     "data": {
      "text/html": "<div class=\"dni-plaintext\">3</div>"
     },
     "execution_count": 1,
     "metadata": {}
    }
   ]
  },
  {
   "cell_type": "code",
   "execution_count": 1,
   "metadata": {},
   "source": [
    "long Lcd(long a, long b) {\n",
    "    return a * b / Gcd(a, b);\n",
    "}\n",
    "\n",
    "Lcd(2, 3)"
   ],
   "outputs": [
    {
     "output_type": "execute_result",
     "data": {
      "text/html": "<div class=\"dni-plaintext\">6</div>"
     },
     "execution_count": 1,
     "metadata": {}
    }
   ]
  },
  {
   "cell_type": "code",
   "execution_count": 1,
   "metadata": {},
   "source": [
    "long LcdAll(params long[] numbers) {\n",
    "    long running = 1;\n",
    "    for(var i = 0; i<numbers.Length; i++) {\n",
    "        running = Lcd(running, numbers[i]);\n",
    "    }\n",
    "    return running;\n",
    "}\n",
    "(\n",
    "LcdAll(2, 3, 4, 5),\n",
    "LcdAll(13, 17, 19),\n",
    "LcdAll(17, 19)\n",
    "\n",
    ")"
   ],
   "outputs": [
    {
     "output_type": "execute_result",
     "data": {
      "text/html": "<table><thead><tr><th>Item1</th><th>Item2</th><th>Item3</th></tr></thead><tbody><tr><td><div class=\"dni-plaintext\">120</div></td><td><div class=\"dni-plaintext\">4199</div></td><td><div class=\"dni-plaintext\">323</div></td></tr></tbody></table>"
     },
     "execution_count": 1,
     "metadata": {}
    }
   ]
  },
  {
   "cell_type": "code",
   "execution_count": 1,
   "metadata": {},
   "source": [
    "var sampleInput = ParseInput(\"67,7,59,61\");\n",
    "//sampleInput = ParseInput(\"17,x,13,19\");\n",
    "sampleInput = ParseInput(\"67,x,7,59,61\");\n",
    "sampleInput = ParseInput(\"67,7,x,59,61\");\n",
    "\n",
    "long startTime = sampleInput.Select(x => x.time).First();\n",
    "long interval = startTime;\n",
    "List<long> synced = new List<long>{startTime};\n",
    "\n",
    "for(long i = interval; i<100000000; i+=interval)\n",
    "{\n",
    "    var inSync = sampleInput.Where(x => \n",
    "        !synced.Contains(x.time) && \n",
    "        (i + x.index) % x.time == 0 && \n",
    "        i % firstTime == 0\n",
    "    ).Select(x => (long)x.time).ToArray();\n",
    "    if (inSync.Any())\n",
    "    {\n",
    "        synced.AddRange(inSync);\n",
    "        var syncedTimes = inSync.Union(new[]{interval}).ToArray();\n",
    "        Console.WriteLine($\"Getting LCM of {String.Join(\",\", syncedTimes)}\");\n",
    "        interval = LcdAll(syncedTimes);\n",
    "        Console.WriteLine($\"{i}: {String.Join(\",\", inSync)} new interval {interval}\");\n",
    "    }\n",
    "    if (synced.Count() == sampleInput.Length) {\n",
    "        Console.WriteLine($\"Found target {i}\");\n",
    "        break;\n",
    "    }\n",
    "}\n",
    "\n",
    ""
   ],
   "outputs": [
    {
     "output_type": "execute_result",
     "data": {
      "text/plain": "Getting LCM of 7,67\r\n"
     },
     "execution_count": 1,
     "metadata": {}
    },
    {
     "output_type": "execute_result",
     "data": {
      "text/plain": "4556: 7 new interval 469\r\n"
     },
     "execution_count": 1,
     "metadata": {}
    },
    {
     "output_type": "execute_result",
     "data": {
      "text/plain": "Getting LCM of 61,469\r\n"
     },
     "execution_count": 1,
     "metadata": {}
    },
    {
     "output_type": "execute_result",
     "data": {
      "text/plain": "403206: 61 new interval 28609\r\n"
     },
     "execution_count": 1,
     "metadata": {}
    },
    {
     "output_type": "execute_result",
     "data": {
      "text/plain": "Getting LCM of 59,28609\r\n"
     },
     "execution_count": 1,
     "metadata": {}
    },
    {
     "output_type": "execute_result",
     "data": {
      "text/plain": "16452855: 59 new interval 1687931\r\n"
     },
     "execution_count": 1,
     "metadata": {}
    },
    {
     "output_type": "execute_result",
     "data": {
      "text/plain": "Found target 16452855\r\n"
     },
     "execution_count": 1,
     "metadata": {}
    }
   ]
  },
  {
   "cell_type": "code",
   "execution_count": 1,
   "metadata": {},
   "source": [
    "long startTime = input.Select(x => x.time).First();\n",
    "long interval = startTime;\n",
    "List<long> synced = new List<long>{startTime};\n",
    "\n",
    "for(long i = interval; i<1000000000000; i+=interval)\n",
    "{\n",
    "    var inSync = input.Where(x => \n",
    "        !synced.Contains(x.time) && \n",
    "        (i + x.index) % x.time == 0 && \n",
    "        i % firstTime == 0\n",
    "    ).Select(x => (long)x.time).ToArray();\n",
    "    if (inSync.Any())\n",
    "    {\n",
    "        synced.AddRange(inSync);\n",
    "        var syncedTimes = inSync.Union(new[]{interval}).ToArray();\n",
    "        Console.WriteLine($\"Getting LCM of {String.Join(\",\", syncedTimes)}\");\n",
    "        interval = LcdAll(syncedTimes);\n",
    "        Console.WriteLine($\"{i}: {String.Join(\",\", inSync)} new interval {interval}\");\n",
    "    }\n",
    "    if (synced.Count() == input.Length) {\n",
    "        Console.WriteLine($\"Found target {i}\");\n",
    "        break;\n",
    "    }\n",
    "}\n",
    ""
   ],
   "outputs": [
    {
     "output_type": "execute_result",
     "data": {
      "text/plain": "Getting LCM of 13,17\r\n"
     },
     "execution_count": 1,
     "metadata": {}
    },
    {
     "output_type": "execute_result",
     "data": {
      "text/plain": "17: 13 new interval 221\r\n"
     },
     "execution_count": 1,
     "metadata": {}
    },
    {
     "output_type": "execute_result",
     "data": {
      "text/plain": "Getting LCM of 29,221\r\n"
     },
     "execution_count": 1,
     "metadata": {}
    },
    {
     "output_type": "execute_result",
     "data": {
      "text/plain": "2448: 29 new interval 6409\r\n"
     },
     "execution_count": 1,
     "metadata": {}
    },
    {
     "output_type": "execute_result",
     "data": {
      "text/plain": "Getting LCM of 19,6409\r\n"
     },
     "execution_count": 1,
     "metadata": {}
    },
    {
     "output_type": "execute_result",
     "data": {
      "text/plain": "28084: 19 new interval 121771\r\n"
     },
     "execution_count": 1,
     "metadata": {}
    },
    {
     "output_type": "execute_result",
     "data": {
      "text/plain": "Getting LCM of 23,121771\r\n"
     },
     "execution_count": 1,
     "metadata": {}
    },
    {
     "output_type": "execute_result",
     "data": {
      "text/plain": "2585275: 23 new interval 2800733\r\n"
     },
     "execution_count": 1,
     "metadata": {}
    },
    {
     "output_type": "execute_result",
     "data": {
      "text/plain": "Getting LCM of 37,2800733\r\n"
     },
     "execution_count": 1,
     "metadata": {}
    },
    {
     "output_type": "execute_result",
     "data": {
      "text/plain": "22190406: 37 new interval 103627121\r\n"
     },
     "execution_count": 1,
     "metadata": {}
    },
    {
     "output_type": "execute_result",
     "data": {
      "text/plain": "Getting LCM of 41,103627121\r\n"
     },
     "execution_count": 1,
     "metadata": {}
    },
    {
     "output_type": "execute_result",
     "data": {
      "text/plain": "2820122673: 41 new interval 4248711961\r\n"
     },
     "execution_count": 1,
     "metadata": {}
    },
    {
     "output_type": "execute_result",
     "data": {
      "text/plain": "Getting LCM of 367,4248711961\r\n"
     },
     "execution_count": 1,
     "metadata": {}
    }
   ]
  }
 ],
 "metadata": {
  "kernelspec": {
   "display_name": ".NET (C#)",
   "language": "C#",
   "name": ".net-csharp"
  },
  "language_info": {
   "file_extension": ".cs",
   "mimetype": "text/x-csharp",
   "name": "C#",
   "pygments_lexer": "csharp",
   "version": "8.0"
  }
 },
 "nbformat": 4,
 "nbformat_minor": 4
}